{
 "cells": [
  {
   "cell_type": "markdown",
   "metadata": {},
   "source": [
    "# Skryptowy Python"
   ]
  },
  {
   "cell_type": "markdown",
   "metadata": {
    "id": "Sg96JQPMwHQi"
   },
   "source": [
    "### Przekazywanie argumentów funkcji\n",
    "\n",
    "W Pythonie, funkcje definiuje się za pomocą słowa kluczowego def, a następnie przekazuje się do nich argumenty w nawiasach.\n",
    "\n",
    "\n"
   ]
  },
  {
   "cell_type": "code",
   "execution_count": 1,
   "metadata": {
    "id": "1X4XUabNwg4I"
   },
   "outputs": [],
   "source": [
    "def moja_funkcja(parametr1, parametr2):\n",
    "    print(parametr1 * (parametr2 + 1) )\n"
   ]
  },
  {
   "cell_type": "markdown",
   "metadata": {
    "id": "QeCvoY_OwnvW"
   },
   "source": [
    "**Przekazywanie argumentów pozycyjnych**\n",
    "\n",
    "Argumenty przekazuje się do funkcji w kolejności, w jakiej zostały zdefiniowane."
   ]
  },
  {
   "cell_type": "code",
   "execution_count": 2,
   "metadata": {
    "colab": {
     "base_uri": "https://localhost:8080/"
    },
    "id": "jeLVpLqFw3ae",
    "outputId": "bc2e993b-ff8a-4b49-f170-aff111010e36"
   },
   "outputs": [
    {
     "name": "stdout",
     "output_type": "stream",
     "text": [
      "AlaAlaAlaAlaAlaAlaAlaAla\n"
     ]
    }
   ],
   "source": [
    "moja_funkcja(\"Ala\", 7)\n"
   ]
  },
  {
   "cell_type": "markdown",
   "metadata": {
    "id": "xvYwI6YxxFrT"
   },
   "source": [
    "W powyższym kodzie, napis `Ala` zostanie przypisany do parametr1, a `7` do parametr2."
   ]
  },
  {
   "cell_type": "code",
   "execution_count": 3,
   "metadata": {},
   "outputs": [
    {
     "ename": "TypeError",
     "evalue": "can only concatenate str (not \"int\") to str",
     "output_type": "error",
     "traceback": [
      "\u001b[1;31m---------------------------------------------------------------------------\u001b[0m",
      "\u001b[1;31mTypeError\u001b[0m                                 Traceback (most recent call last)",
      "Cell \u001b[1;32mIn[3], line 1\u001b[0m\n\u001b[1;32m----> 1\u001b[0m \u001b[43mmoja_funkcja\u001b[49m\u001b[43m(\u001b[49m\u001b[38;5;241;43m7\u001b[39;49m\u001b[43m,\u001b[49m\u001b[43m \u001b[49m\u001b[38;5;124;43m\"\u001b[39;49m\u001b[38;5;124;43mAla\u001b[39;49m\u001b[38;5;124;43m\"\u001b[39;49m\u001b[43m)\u001b[49m\n",
      "Cell \u001b[1;32mIn[1], line 2\u001b[0m, in \u001b[0;36mmoja_funkcja\u001b[1;34m(parametr1, parametr2)\u001b[0m\n\u001b[0;32m      1\u001b[0m \u001b[38;5;28;01mdef\u001b[39;00m \u001b[38;5;21mmoja_funkcja\u001b[39m(parametr1, parametr2):\n\u001b[1;32m----> 2\u001b[0m     \u001b[38;5;28mprint\u001b[39m(parametr1 \u001b[38;5;241m*\u001b[39m (\u001b[43mparametr2\u001b[49m\u001b[43m \u001b[49m\u001b[38;5;241;43m+\u001b[39;49m\u001b[43m \u001b[49m\u001b[38;5;241;43m1\u001b[39;49m) )\n",
      "\u001b[1;31mTypeError\u001b[0m: can only concatenate str (not \"int\") to str"
     ]
    }
   ],
   "source": [
    "moja_funkcja(7, \"Ala\")"
   ]
  },
  {
   "cell_type": "markdown",
   "metadata": {},
   "source": [
    "Kolejność ma znaczenie. Niezgodność z parametrami w definicji funkcji prowadzi do `TypeError`."
   ]
  },
  {
   "cell_type": "markdown",
   "metadata": {},
   "source": [
    "**Przekazywanie argumentów słów kluczowych (nazwanych)**\n",
    "\n",
    "Można również przekazywać argumenty do funkcji, używając nazw parametrów."
   ]
  },
  {
   "cell_type": "code",
   "execution_count": 4,
   "metadata": {
    "id": "-73BIr2FxsUw"
   },
   "outputs": [
    {
     "name": "stdout",
     "output_type": "stream",
     "text": [
      "ElaElaElaElaElaElaElaEla\n"
     ]
    }
   ],
   "source": [
    "moja_funkcja(parametr1=\"Ela\", parametr2=7)"
   ]
  },
  {
   "cell_type": "markdown",
   "metadata": {
    "id": "z4fWdt8ixxqz"
   },
   "source": [
    "Dzięki temu kolejność argumentów nie ma znaczenia:"
   ]
  },
  {
   "cell_type": "code",
   "execution_count": 5,
   "metadata": {
    "id": "jGNC6SQdyASZ"
   },
   "outputs": [
    {
     "name": "stdout",
     "output_type": "stream",
     "text": [
      "OlaOlaOlaOlaOlaOlaOlaOla\n"
     ]
    }
   ],
   "source": [
    "moja_funkcja(parametr2=7, parametr1=\"Ola\")"
   ]
  },
  {
   "cell_type": "markdown",
   "metadata": {},
   "source": [
    "Uwaga na poniższe przykłady."
   ]
  },
  {
   "cell_type": "code",
   "execution_count": 6,
   "metadata": {},
   "outputs": [
    {
     "ename": "TypeError",
     "evalue": "moja_funkcja() got multiple values for argument 'parametr1'",
     "output_type": "error",
     "traceback": [
      "\u001b[1;31m---------------------------------------------------------------------------\u001b[0m",
      "\u001b[1;31mTypeError\u001b[0m                                 Traceback (most recent call last)",
      "Cell \u001b[1;32mIn[6], line 1\u001b[0m\n\u001b[1;32m----> 1\u001b[0m \u001b[43mmoja_funkcja\u001b[49m\u001b[43m(\u001b[49m\u001b[38;5;124;43m\"\u001b[39;49m\u001b[38;5;124;43mUla\u001b[39;49m\u001b[38;5;124;43m\"\u001b[39;49m\u001b[43m,\u001b[49m\u001b[43m \u001b[49m\u001b[43mparametr1\u001b[49m\u001b[38;5;241;43m=\u001b[39;49m\u001b[38;5;124;43m\"\u001b[39;49m\u001b[38;5;124;43mOla\u001b[39;49m\u001b[38;5;124;43m\"\u001b[39;49m\u001b[43m)\u001b[49m\n",
      "\u001b[1;31mTypeError\u001b[0m: moja_funkcja() got multiple values for argument 'parametr1'"
     ]
    }
   ],
   "source": [
    "moja_funkcja(\"Ula\", parametr1=\"Ola\")"
   ]
  },
  {
   "cell_type": "code",
   "execution_count": 7,
   "metadata": {},
   "outputs": [
    {
     "ename": "TypeError",
     "evalue": "moja_funkcja() got multiple values for argument 'parametr1'",
     "output_type": "error",
     "traceback": [
      "\u001b[1;31m---------------------------------------------------------------------------\u001b[0m",
      "\u001b[1;31mTypeError\u001b[0m                                 Traceback (most recent call last)",
      "Cell \u001b[1;32mIn[7], line 1\u001b[0m\n\u001b[1;32m----> 1\u001b[0m \u001b[43mmoja_funkcja\u001b[49m\u001b[43m(\u001b[49m\u001b[38;5;241;43m7\u001b[39;49m\u001b[43m,\u001b[49m\u001b[43m \u001b[49m\u001b[43mparametr1\u001b[49m\u001b[38;5;241;43m=\u001b[39;49m\u001b[38;5;124;43m\"\u001b[39;49m\u001b[38;5;124;43mOla\u001b[39;49m\u001b[38;5;124;43m\"\u001b[39;49m\u001b[43m)\u001b[49m\n",
      "\u001b[1;31mTypeError\u001b[0m: moja_funkcja() got multiple values for argument 'parametr1'"
     ]
    }
   ],
   "source": [
    "moja_funkcja(7, parametr1=\"Ola\")"
   ]
  },
  {
   "cell_type": "markdown",
   "metadata": {
    "id": "jP0ohS5ayJwS"
   },
   "source": [
    "### Wartości domyślne\n",
    "\n",
    "Możemy również określić wartości domyślne dla parametrów, co pozwala na ich pominięcie podczas wywoływania funkcji.\n"
   ]
  },
  {
   "cell_type": "markdown",
   "metadata": {},
   "source": [
    "Uwaga ! Parametr z funkcją domyślną i następujące po nim są opcjonalne."
   ]
  },
  {
   "cell_type": "code",
   "execution_count": 8,
   "metadata": {
    "id": "xir0nyDQyvN0"
   },
   "outputs": [
    {
     "name": "stdout",
     "output_type": "stream",
     "text": [
      "domyślna wartość a domyślna wartość b\n",
      "nowa wartość a domyślna wartość b\n",
      "domyślna wartość a nowa wartość b\n"
     ]
    }
   ],
   "source": [
    "def funkcja_z_domyslnymi(a=\"domyślna wartość a\", b=\"domyślna wartość b\"):\n",
    "    print(a, b)\n",
    "\n",
    "funkcja_z_domyslnymi()\n",
    "funkcja_z_domyslnymi(\"nowa wartość a\")\n",
    "funkcja_z_domyslnymi(b=\"nowa wartość b\")\n"
   ]
  },
  {
   "cell_type": "markdown",
   "metadata": {},
   "source": [
    "### args i kwargs"
   ]
  },
  {
   "cell_type": "markdown",
   "metadata": {
    "id": "ZmQP2xKozLdE"
   },
   "source": [
    "Jeżeli chcesz przekazać dowolną liczbę argumentów pozycyjnych lub nazwanych, możesz użyć *args dla argumentów pozycyjnych i **kwargs dla argumentów nazwanych."
   ]
  },
  {
   "cell_type": "markdown",
   "metadata": {},
   "source": [
    "Gdy, nie wiemy ile argumentów chcemy przekazać."
   ]
  },
  {
   "cell_type": "code",
   "execution_count": 9,
   "metadata": {},
   "outputs": [],
   "source": [
    "def wypisz_zwierzaki(kto, *co):\n",
    "    print(kto + \" ma:\")\n",
    "    for i in co:\n",
    "        print(\" groźnego \" + i)\n",
    "    "
   ]
  },
  {
   "cell_type": "code",
   "execution_count": 10,
   "metadata": {},
   "outputs": [
    {
     "name": "stdout",
     "output_type": "stream",
     "text": [
      "Ula ma:\n",
      " groźnego psa\n",
      " groźnego kota\n",
      " groźnego jeża\n",
      " groźnego nietoperza\n"
     ]
    }
   ],
   "source": [
    "zm = \"Ula\"\n",
    "l = [\"psa\", \"kota\", \"jeża\", \"nietoperza\"]\n",
    "wypisz_zwierzaki(zm, *l)"
   ]
  },
  {
   "cell_type": "markdown",
   "metadata": {},
   "source": [
    "Podobna sytuacja, ale dla słów kluczowych. Np. chcemy mieć dużo opcji konfiguracyjnych.\n",
    "Jeśli ostatni argument poprzedzony jest `**` to wszystkie argumenty słów kluczowych umieszczane są w słowniku i przekazywane."
   ]
  },
  {
   "cell_type": "code",
   "execution_count": 11,
   "metadata": {},
   "outputs": [],
   "source": [
    "def przetwarzanie_pliku(nazwa, **opcje):\n",
    "    print(\"Otwieram \" + nazwa)\n",
    "    if 'tryb' in opcje:\n",
    "        print(\"Tryb \" + opcje['tryb'])\n",
    "    if 'wybór' in opcje:\n",
    "        for i in opcje['wybór']:\n",
    "            print(\"Będę przetwarzał linię \" + str(i))"
   ]
  },
  {
   "cell_type": "code",
   "execution_count": 12,
   "metadata": {},
   "outputs": [
    {
     "name": "stdout",
     "output_type": "stream",
     "text": [
      "Otwieram elementarz\n",
      "Tryb Do odczytu\n",
      "Będę przetwarzał linię 1\n",
      "Będę przetwarzał linię 7\n",
      "Będę przetwarzał linię 17\n"
     ]
    }
   ],
   "source": [
    "przetwarzanie_pliku(\"elementarz\", tryb=\"Do odczytu\", wybór=[1,7,17], nieobsługiwany=\"jeszcze\")"
   ]
  },
  {
   "cell_type": "markdown",
   "metadata": {},
   "source": [
    "Razem args i kwargs"
   ]
  },
  {
   "cell_type": "code",
   "execution_count": 13,
   "metadata": {
    "id": "q5n04LiFzWmS"
   },
   "outputs": [
    {
     "name": "stdout",
     "output_type": "stream",
     "text": [
      "1\n",
      "2\n",
      "3\n",
      "a = A\n",
      "b = B\n"
     ]
    }
   ],
   "source": [
    "def funkcja_z_args_kwargs(*args, **kwargs):\n",
    "    for arg in args:\n",
    "        print(arg)\n",
    "    for key, value in kwargs.items():\n",
    "        print(f\"{key} = {value}\")\n",
    "\n",
    "funkcja_z_args_kwargs(1, 2, 3, a=\"A\", b=\"B\")\n"
   ]
  },
  {
   "cell_type": "markdown",
   "metadata": {},
   "source": [
    "I jeszcze"
   ]
  },
  {
   "cell_type": "code",
   "execution_count": 14,
   "metadata": {
    "id": "I3WCYwxR0MUQ"
   },
   "outputs": [
    {
     "name": "stdout",
     "output_type": "stream",
     "text": [
      "15\n"
     ]
    }
   ],
   "source": [
    "def suma(*args):\n",
    "    return sum(args)\n",
    "\n",
    "print(suma(1, 2, 3, 4, 5))  # Wynik: 15\n"
   ]
  },
  {
   "cell_type": "markdown",
   "metadata": {},
   "source": [
    "## Argumenty wywołania skryptu"
   ]
  },
  {
   "cell_type": "markdown",
   "metadata": {},
   "source": [
    "Przykładowo w PyCharm, prawy górny róg, mamy `main`. Możemy go rozwinąć strzałką w dół. Wybrać `Edit configurations`. W wybranym oknie możemy w części `Parameters` wpisać: ```2 Ala```"
   ]
  },
  {
   "cell_type": "markdown",
   "metadata": {},
   "source": [
    "Aby uzyskać dostęp do argumentów importujemy bibliotekę `sys`, tam mamy `argv`"
   ]
  },
  {
   "cell_type": "code",
   "execution_count": 16,
   "metadata": {},
   "outputs": [
    {
     "name": "stdout",
     "output_type": "stream",
     "text": [
      "['C:\\\\Users\\\\stasi\\\\.conda\\\\envs\\\\Python_Course_2024\\\\lib\\\\site-packages\\\\ipykernel_launcher.py', '-f', 'C:\\\\Users\\\\stasi\\\\AppData\\\\Roaming\\\\jupyter\\\\runtime\\\\kernel-8ae60545-f8eb-41d1-a100-ce414faa8122.json']\n"
     ]
    }
   ],
   "source": [
    "import sys\n",
    "print(sys.argv)"
   ]
  },
  {
   "cell_type": "markdown",
   "metadata": {},
   "source": [
    "W PyCharmie mamy ```['ścieżka/main.py', '2', 'Ala']```"
   ]
  },
  {
   "cell_type": "markdown",
   "metadata": {},
   "source": [
    "W terminalu sprawdźmy jeszcze: `python main.py 7 Ela`"
   ]
  },
  {
   "cell_type": "markdown",
   "metadata": {},
   "source": [
    "## Zadanie małe\n",
    "\n",
    "Napisz skrypt, który pozwoli na określenie w parametrach opcji:\n",
    "\n",
    "a) wybór miesięcy (można wybrać dowolną ilość)\n",
    "\n",
    "b) wybór **zakresu** dni tygodnia (tyle samo argumentów co w (a) )\n",
    "\n",
    "c) wybór albo rano albo wieczorem (domyślnie rano) - dla ilości przypadków il.miesięcy x il.dni\n",
    "\n",
    "Dla zadanych parametrów wygeneruj napisy (tu każdy dzień tygodnia z zakresu traktujemy osobno).\n",
    "\n",
    "```Przykład:\n",
    "Wejście: [styczeń, luty], [pn-wt, pt], [r,w]\n",
    "\n",
    "Styczeń poniedziałek rano\n",
    "Styczeń wtorek wieczorem\n",
    "Luty piątek rano (bo domyślnie)\n",
    "```"
   ]
  },
  {
   "cell_type": "code",
   "execution_count": 49,
   "metadata": {},
   "outputs": [
    {
     "name": "stdout",
     "output_type": "stream",
     "text": [
      "Styczeń poniedziałek rano\n",
      "Styczeń wtorek wieczorem\n",
      "Luty pt rano\n",
      "Marzec poniedziałek rano\n",
      "Marzec wtorek wieczorem\n",
      "Marzec środa rano\n",
      "Marzec czwartek rano\n",
      "Marzec piątek rano\n",
      "Marzec sobota rano\n",
      "Marzec niedziela rano\n"
     ]
    }
   ],
   "source": [
    "# rozwiązanie\n",
    "\n",
    "dni_tygodnia = {\n",
    "    \"pn\" : \"poniedziałek\",\n",
    "    \"wt\" : \"wtorek\",\n",
    "    \"śr\" : \"środa\",\n",
    "    \"czw\": \"czwartek\",\n",
    "    \"pt\" : \"piątek\",\n",
    "    \"sob\": \"sobota\",\n",
    "    \"nd\": \"niedziela\"\n",
    "}\n",
    "\n",
    "keys_list = list(dni_tygodnia.keys())\n",
    "\n",
    "\n",
    "# Rodzaj inputu zdefiniowałam \n",
    "\n",
    "def wpisy_kalendarza(miesiace, zakresy_dni, pory):\n",
    "    y = 0\n",
    "    for x in range(len(miesiace)):\n",
    "        miesiac = miesiace[x]\n",
    "        zakres_dni = zakresy_dni[x]\n",
    "        pora = \"rano\"\n",
    "        if(\"-\" in zakres_dni):\n",
    "            zakres_dni = zakres_dni.split(\"-\")\n",
    "            start_index = keys_list.index(zakres_dni[0])\n",
    "            end_index = keys_list.index(zakres_dni[1])\n",
    "            for key in keys_list[start_index : end_index + 1]:\n",
    "                if(len(pory) > y and pory[y] =='w'):\n",
    "                    pora = \"wieczorem\"\n",
    "                else:\n",
    "                    pora = \"rano\"\n",
    "                y+=1\n",
    "                print(miesiac + \" \" + dni_tygodnia[key] + \" \" + pora)\n",
    "        else:\n",
    "            print(miesiac + \" \" + zakres_dni + \" \" + pora)\n",
    "        y += 1\n",
    "        \n",
    "wpisy_kalendarza([\"Styczeń\", \"Luty\", \"Marzec\"],  [\"pn-wt\", \"pt\", \"pn-nd\"], [\"r\", \"w\",\"r\",\"w\",\"r\",\"w\"])"
   ]
  },
  {
   "cell_type": "markdown",
   "metadata": {
    "id": "BG6YCHdw6um8"
   },
   "source": [
    "# Przetwarzanie plików w Pythonie\n",
    "\n",
    "### 1. Podstawy operacji na plikach\n",
    "\n",
    "Aby otworzyć plik w Pythonie, użyj wbudowanej funkcji `open()`. Funkcja ta zwraca obiekt pliku, który umożliwia czytanie, pisanie lub modyfikowanie pliku.\n",
    "\n",
    "#### Otwieranie pliku:\n"
   ]
  },
  {
   "cell_type": "code",
   "execution_count": 51,
   "metadata": {
    "id": "b4OAzBEZ7EER"
   },
   "outputs": [],
   "source": [
    "plik = open('nazwa_pliku.txt', 'r')  # 'r' oznacza tryb czytania"
   ]
  },
  {
   "cell_type": "markdown",
   "metadata": {
    "id": "UyqqdVac0d7U"
   },
   "source": [
    "\n",
    "Możliwe tryby:\n",
    "\n",
    "- `'r'`: Czytanie\n",
    "- `'w'`: Pisanie (kasuje zawartość pliku lub tworzy nowy, jeśli nie istnieje)\n",
    "- `'a'`: Dopisywanie (dodawanie zawartości na końcu pliku)\n",
    "- `'b'`: Tryb binarny (np. do obrazów, muzyki)\n",
    "\n",
    "#### Zamykanie pliku:\n",
    "\n",
    "```python\n",
    "plik.close()\n",
    "```\n",
    "\n",
    "### 2. Czytanie plików\n",
    "\n",
    "```python\n",
    "plik = open('nazwa_pliku.txt', 'r')\n",
    "zawartosc = plik.read()\n",
    "print(zawartosc)\n",
    "plik.close()\n",
    "```\n",
    "\n",
    "Aby przeczytać pojedynczą linię:\n",
    "\n",
    "```python\n",
    "linia = plik.readline()\n",
    "print(linia)\n",
    "```\n",
    "\n",
    "Aby przeczytać wszystkie linie do listy:\n",
    "\n",
    "```python\n",
    "linie = plik.readlines()\n",
    "for linia in linie:\n",
    "    print(linia)\n",
    "```\n",
    "\n",
    "### 3. Pisanie do plików\n",
    "\n",
    "```python\n",
    "plik = open('nazwa_pliku.txt', 'w')\n",
    "plik.write(\"Pierwsza linia\\n\")\n",
    "plik.write(\"Druga linia\\n\")\n",
    "plik.close()\n",
    "```\n",
    "\n",
    "### 4. Używanie `with` przy pracy z plikami\n",
    "\n",
    "Aby uniknąć potrzeby ręcznego zamykania plików, możesz użyć instrukcji `with`:\n",
    "\n",
    "```python\n",
    "with open('nazwa_pliku.txt', 'r') as plik:\n",
    "    zawartosc = plik.read()\n",
    "    print(zawartosc)\n",
    "```\n",
    "\n",
    "Po wyjściu z bloku `with`, plik zostanie automatycznie zamknięty.\n",
    "\n",
    "### 5. Przykład: Kopiowanie obrazka (tryb binarny)\n",
    "\n",
    "```python\n",
    "with open('zrodlo.jpg', 'rb') as plik_wejsciowy:\n",
    "    data = plik_wejsciowy.read()\n",
    "    with open('kopia.jpg', 'wb') as plik_wyjsciowy:\n",
    "        plik_wyjsciowy.write(data)\n",
    "```\n",
    "\n",
    "Mam nadzieję, że ten tutorial pomógł Ci zrozumieć podstawy przetwarzania plików w Pythonie! Jeśli masz więcej pytań lub potrzebujesz dalszych wyjaśnień, daj znać!"
   ]
  },
  {
   "cell_type": "code",
   "execution_count": null,
   "metadata": {},
   "outputs": [],
   "source": []
  },
  {
   "cell_type": "markdown",
   "metadata": {
    "id": "RIOKoFZV3pVD"
   },
   "source": [
    "Pliki binarne to pliki, które mogą zawierać dowolne dane w formie binarnej, w tym obrazy, dźwięki, skompilowane programy itp. Poniżej przedstawiam kilka operacji, które można wykonywać na plikach binarnych w Pythonie.\n",
    "\n",
    "### 1. Otwieranie i zamykanie plików binarnych:\n",
    "\n",
    "Otwieranie pliku w trybie binarnym wymaga dodania litery 'b' do trybu otwierania:\n",
    "\n",
    "```python\n",
    "plik = open('plik.bin', 'rb')  # Otwieranie do czytania\n",
    "plik.close()\n",
    "```\n",
    "\n",
    "### 2. Czytanie plików binarnych:\n",
    "\n",
    "Czytanie całego pliku:\n",
    "\n",
    "```python\n",
    "with open('plik.bin', 'rb') as plik:\n",
    "    dane = plik.read()\n",
    "```\n",
    "\n",
    "Czytanie pewnej liczby bajtów:\n",
    "\n",
    "```python\n",
    "with open('plik.bin', 'rb') as plik:\n",
    "    pierwsze_10_bajtow = plik.read(10)\n",
    "```\n",
    "\n",
    "### 3. Pisanie do plików binarnych:\n",
    "\n",
    "```python\n",
    "with open('plik.bin', 'wb') as plik:\n",
    "    dane = b'Przykladowe dane binarne'  # bajty, nie tekst\n",
    "    plik.write(dane)\n",
    "```\n",
    "\n",
    "### 4. Dopisywanie do plików binarnych:\n",
    "\n",
    "```python\n",
    "with open('plik.bin', 'ab') as plik:\n",
    "    dodatkowe_dane = b'Dodatkowe dane binarne'\n",
    "    plik.write(dodatkowe_dane)\n",
    "```\n",
    "\n",
    "### 5. Przesunięcie wskaźnika w pliku:\n",
    "\n",
    "Aby przesunąć wskaźnik w pliku binarnym, można użyć metody `seek()`:\n",
    "\n",
    "```python\n",
    "with open('plik.bin', 'rb+') as plik:  # 'rb+' pozwala na czytanie i pisanie\n",
    "    plik.seek(5)  # Przesunięcie wskaźnika 5 bajtów od początku pliku\n",
    "    plik.write(b'Hello')\n",
    "```\n",
    "\n",
    "### 6. Czytanie i zapisywanie liczb binarnych:\n",
    "\n",
    "Aby przekształcić liczby na bajty i odwrotnie, można użyć modułu `struct`:\n",
    "\n",
    "```python\n",
    "import struct\n",
    "\n",
    "liczba = 12345\n",
    "dane = struct.pack('I', liczba)  # Konwersja liczby na bajty (format 'I' to bez znakowy int)\n",
    "\n",
    "with open('plik.bin', 'wb') as plik:\n",
    "    plik.write(dane)\n",
    "\n",
    "with open('plik.bin', 'rb') as plik:\n",
    "    dane = plik.read(4)  # Odczytanie 4 bajtów\n",
    "    odczytana_liczba = struct.unpack('I', dane)[0]\n",
    "    print(odczytana_liczba)  # Wydrukuje 12345\n",
    "```\n"
   ]
  },
  {
   "cell_type": "code",
   "execution_count": 62,
   "metadata": {
    "id": "ooLspP1_44M-"
   },
   "outputs": [],
   "source": [
    "plik = open('nazwa_pliku.txt', 'w')\n",
    "plik.write(\"Pierwsza linia\\n\")\n",
    "plik.write(\"Druga linia\\n\")\n",
    "plik.close()"
   ]
  },
  {
   "cell_type": "markdown",
   "metadata": {
    "id": "nq0CwOLS5bYy"
   },
   "source": [
    "Oczywiście! Zarówno biblioteki `csv` jak i `json` są często używane w Pythonie do pracy z danymi. Oto krótki przegląd każdej z nich:\n",
    "\n",
    "### 1. Biblioteka `csv`\n",
    "\n",
    "Biblioteka `csv` pozwala na czytanie oraz zapis danych w formacie CSV (Comma-Separated Values).\n",
    "\n",
    "#### Czytanie plików CSV:\n",
    "\n",
    "```python\n",
    "import csv\n",
    "\n",
    "with open('plik.csv', 'r') as plik:\n",
    "    czytelnik = csv.reader(plik)\n",
    "    for wiersz in czytelnik:\n",
    "        print(wiersz)  # wiersz to lista zawierająca dane z pojedynczego wiersza pliku\n",
    "```\n",
    "\n",
    "#### Zapisywanie do plików CSV:\n",
    "\n",
    "```python\n",
    "import csv\n",
    "\n",
    "dane = [['imie', 'nazwisko'], ['Jan', 'Kowalski'], ['Anna', 'Nowak']]\n",
    "\n",
    "with open('plik.csv', 'w', newline='') as plik:\n",
    "    pisarz = csv.writer(plik)\n",
    "    for wiersz in dane:\n",
    "        pisarz.writerow(wiersz)\n",
    "```\n",
    "\n",
    "Można także używać `DictReader` i `DictWriter` do pracy z plikami CSV w formie słowników.\n",
    "\n",
    "### 2. Biblioteka `json`\n",
    "\n",
    "Biblioteka `json` umożliwia kodowanie i dekodowanie formatu JSON (JavaScript Object Notation). Jest to format wymiany danych, który jest czytelny dla człowieka i łatwy do analizy oraz generowania.\n",
    "\n",
    "#### Kodowanie (zapisywanie) danych JSON:\n",
    "\n",
    "```python\n",
    "import json\n",
    "\n",
    "dane = {\n",
    "    'imie': 'Jan',\n",
    "    'nazwisko': 'Kowalski',\n",
    "    'wiek': 30\n",
    "}\n",
    "\n",
    "with open('dane.json', 'w') as plik:\n",
    "    json.dump(dane, plik)\n",
    "```\n",
    "\n",
    "Można również użyć funkcji `dumps()` do konwersji struktury danych na łańcuch JSON:\n",
    "\n",
    "```python\n",
    "tekst_json = json.dumps(dane)\n",
    "```\n",
    "\n",
    "#### Dekodowanie (czytanie) danych JSON:\n",
    "\n",
    "```python\n",
    "import json\n",
    "\n",
    "with open('dane.json', 'r') as plik:\n",
    "    odczytane_dane = json.load(plik)\n",
    "    print(odczytane_dane['imie'])  # Wydrukuje 'Jan'\n",
    "```\n",
    "\n",
    "Funkcję `loads()` można użyć do przekształcenia łańcucha JSON z powrotem w strukturę danych:\n",
    "\n",
    "```python\n",
    "struktura_danych = json.loads(tekst_json)\n",
    "```\n",
    "\n",
    "Zarówno `csv` jak i `json` są wbudowanymi bibliotekami w Pythonie, więc nie musisz ich instalować oddzielnie. Ułatwiają one pracę z popularnymi formatami danych, które są często używane w różnych aplikacjach i usługach internetowych."
   ]
  },
  {
   "cell_type": "markdown",
   "metadata": {
    "id": "dwY3Bxx38qWc"
   },
   "source": [
    "Biblioteka `pathlib` w Pythonie wprowadza obiektowy sposób zarządzania ścieżkami, co jest bardziej intuicyjne i wygodne niż klasyczne operacje na łańcuchach znaków i funkcje z modułu `os.path`. Biblioteka ta została dodana w Pythonie 3.4 i jest zalecanym podejściem do operacji na ścieżkach.\n",
    "\n",
    "Oto przegląd najważniejszych funkcji i klas z biblioteki `pathlib`:\n",
    "\n",
    "### 1. Klasy reprezentujące ścieżki:\n",
    "\n",
    "- **Path**: podstawowa klasa do tworzenia ścieżek. Jej dokładne zachowanie zależy od systemu operacyjnego.\n",
    "- **PurePath**: bazowa klasa dla czystych ścieżek, które nie zawierają operacji systemowych.\n",
    "- **PurePosixPath**: klasa dla czystych ścieżek w stylu POSIX.\n",
    "- **PureWindowsPath**: klasa dla czystych ścieżek w stylu Windows.\n",
    "\n",
    "### 2. Tworzenie ścieżek:\n",
    "\n",
    "```python\n",
    "from pathlib import Path\n",
    "\n",
    "sciezka = Path('katalog/podkatalog/plik.txt')\n",
    "```\n",
    "\n",
    "### 3. Operacje na ścieżkach:\n",
    "\n",
    "- **exists()**: sprawdza, czy ścieżka istnieje.\n",
    "- **is_file()**: sprawdza, czy ścieżka wskazuje na plik.\n",
    "- **is_dir()**: sprawdza, czy ścieżka wskazuje na katalog.\n",
    "- **mkdir()**: tworzy katalog.\n",
    "- **rename()**: zmienia nazwę pliku lub katalogu.\n",
    "- **glob()**: wyszukuje pliki według wzoru.\n",
    "\n",
    "Przykłady:\n",
    "\n",
    "```python\n",
    "if sciezka.exists():\n",
    "    print(f\"Ścieżka {sciezka} istnieje!\")\n",
    "\n",
    "if sciezka.is_file():\n",
    "    print(f\"Ścieżka {sciezka} wskazuje na plik!\")\n",
    "\n",
    "for plik in sciezka.parent.glob('*.txt'):\n",
    "    print(plik)\n",
    "```\n",
    "\n",
    "### 4. Właściwości ścieżek:\n",
    "\n",
    "- **name**: nazwa pliku lub katalogu.\n",
    "- **parent**: katalog nadrzędny.\n",
    "- **stem**: nazwa pliku bez rozszerzenia.\n",
    "- **suffix**: rozszerzenie pliku.\n",
    "\n",
    "Przykłady:\n",
    "\n",
    "```python\n",
    "print(sciezka.name)     # plik.txt\n",
    "print(sciezka.stem)     # plik\n",
    "print(sciezka.suffix)   # .txt\n",
    "```\n",
    "\n",
    "### 5. Czytanie i pisanie plików:\n",
    "\n",
    "Za pomocą `pathlib` można również łatwo czytać i zapisywać pliki:\n",
    "\n",
    "```python\n",
    "sciezka.write_text(\"Treść pliku\")\n",
    "zawartosc = sciezka.read_text()\n",
    "```\n",
    "\n",
    "### 6. Łączenie ścieżek:\n",
    "\n",
    "Można łączyć ścieżki za pomocą operatora `/`:\n",
    "\n",
    "```python\n",
    "glowny_katalog = Path('/katalog')\n",
    "podkatalog = glowny_katalog / 'podkatalog'\n",
    "```\n",
    "\n"
   ]
  },
  {
   "cell_type": "markdown",
   "metadata": {},
   "source": [
    "# Kilka przydatnych uwag do zadania dnia"
   ]
  },
  {
   "cell_type": "markdown",
   "metadata": {},
   "source": [
    "Gdzie jesteśmy - `current working directory`"
   ]
  },
  {
   "cell_type": "code",
   "execution_count": 2,
   "metadata": {},
   "outputs": [
    {
     "data": {
      "text/plain": [
       "'/home/voronwe/Desktop/Python materiały'"
      ]
     },
     "execution_count": 2,
     "metadata": {},
     "output_type": "execute_result"
    }
   ],
   "source": [
    "import os\n",
    "os.getcwd()"
   ]
  },
  {
   "cell_type": "markdown",
   "metadata": {},
   "source": [
    "Wypisać elementy ... `os.listdir(path_to_dir)`"
   ]
  },
  {
   "cell_type": "code",
   "execution_count": 3,
   "metadata": {},
   "outputs": [
    {
     "data": {
      "text/plain": [
       "['.ipynb_checkpoints',\n",
       " 'Zaj4_zadanie.ipynb',\n",
       " 'zaj1',\n",
       " 'zaj4.ipynb',\n",
       " 'zaj23',\n",
       " 'new']"
      ]
     },
     "execution_count": 3,
     "metadata": {},
     "output_type": "execute_result"
    }
   ],
   "source": [
    "path_to_dir = os.getcwd()\n",
    "os.listdir(path_to_dir)"
   ]
  },
  {
   "cell_type": "markdown",
   "metadata": {},
   "source": [
    "## Dobra praktyka - stosujemy path.join"
   ]
  },
  {
   "cell_type": "markdown",
   "metadata": {},
   "source": [
    "Zamiast skomplikowanych łączeń, które w zależności od systemu operacyjnego mogą przestać działać..."
   ]
  },
  {
   "cell_type": "code",
   "execution_count": 4,
   "metadata": {},
   "outputs": [
    {
     "name": "stdout",
     "output_type": "stream",
     "text": [
      "/home/voronwe/Desktop/Python materiały/February/Tuesday/Ranek\n"
     ]
    }
   ],
   "source": [
    "list_m = [\"January\", \"February\", \"March\"]\n",
    "m = list_m[1]\n",
    "d = \"Tuesday\"\n",
    "path = os.path.join(os.getcwd(),m,d,\"Ranek\")\n",
    "print(path)"
   ]
  },
  {
   "cell_type": "markdown",
   "metadata": {},
   "source": [
    "# Biblioteka argparse"
   ]
  },
  {
   "cell_type": "markdown",
   "metadata": {},
   "source": [
    "Do przećwiczenia najlepiej w PyCharm"
   ]
  },
  {
   "cell_type": "markdown",
   "metadata": {},
   "source": [
    "## Zadanie małe 2\n",
    "\n",
    "Napisz funkcję, która przepisuje wszystkie linie z jednego pliku, do drugiego pliku"
   ]
  },
  {
   "cell_type": "code",
   "execution_count": 66,
   "metadata": {},
   "outputs": [
    {
     "name": "stdin",
     "output_type": "stream",
     "text": [
      "Podaj directory i nazwe pliku do skopiowania: Zajecia_4.txt\n",
      "Podaj żądaną nazwe kopii: zajecia_koppia.txt\n"
     ]
    }
   ],
   "source": [
    "# Rozwiązanie\n",
    "\n",
    "def kopiuj_plik(nazwa_pliku, kopia_pliku):\n",
    "    #Czyszczenie pliku jeśli już taki jest\n",
    "    with open(kopia_pliku, 'w') as plik_wyjsciowy:\n",
    "                plik_wyjsciowy.write(\"\")\n",
    "        \n",
    "    #Kopiowanie linia po linii\n",
    "    with open(nazwa_pliku, 'r') as plik_wejsciowy:\n",
    "        for line in plik_wejsciowy:\n",
    "            with open(kopia_pliku, 'a') as plik_wyjsciowy:\n",
    "                plik_wyjsciowy.write(line)\n",
    "path_a = input(\"Podaj directory i nazwe pliku do skopiowania:\")\n",
    "path_b = input(\"Podaj żądaną nazwe kopii:\")\n",
    "\n",
    "\n",
    "kopiuj_plik(path_a, path_b)"
   ]
  },
  {
   "cell_type": "code",
   "execution_count": null,
   "metadata": {},
   "outputs": [],
   "source": []
  },
  {
   "cell_type": "code",
   "execution_count": 70,
   "metadata": {},
   "outputs": [
    {
     "name": "stderr",
     "output_type": "stream",
     "text": [
      "usage: ipykernel_launcher.py [-h] [--append]\n",
      "                             input_file result_file [count_lines]\n",
      "ipykernel_launcher.py: error: the following arguments are required: result_file\n"
     ]
    },
    {
     "ename": "SystemExit",
     "evalue": "2",
     "output_type": "error",
     "traceback": [
      "An exception has occurred, use %tb to see the full traceback.\n",
      "\u001b[1;31mSystemExit\u001b[0m\u001b[1;31m:\u001b[0m 2\n"
     ]
    }
   ],
   "source": [
    "import argparse\n",
    "\n",
    "parser = argparse.ArgumentParser()\n",
    "parser.add_argument(\"input_file\", help=\"file to be read\")\n",
    "parser.add_argument(\"result_file\", help=\"file to save result\")\n",
    "parser.add_argument(\n",
    "   \"count_lines\", type=int, default=10, nargs=\"?\", help=\"Number of lines to be copied, default 10\"\n",
    ")\n",
    "parser.add_argument(\n",
    "   \"--append\", action=\"store_const\", const=\"a\", default=\"w\", help=\"append result to `result_file`\", dest=\"append\"\n",
    ")\n",
    "\n",
    "args = parser.parse_args()\n",
    "\n",
    "def copy_lines(nazwa_pliku, kopia_pliku, count_lines, write_mode):\n",
    "      #Czyszczenie pliku jeśli już taki jest\n",
    "    with open(kopia_pliku, 'w') as plik_wyjsciowy:\n",
    "                plik_wyjsciowy.write(\"\")\n",
    "        \n",
    "    #Kopiowanie linia po linii\n",
    "    with open(nazwa_pliku, 'r') as plik_wejsciowy:\n",
    "        for x in range(count_lines):\n",
    "            line = plik_wejsciowy.readline()\n",
    "            with open(kopia_pliku, write_mode) as plik_wyjsciowy:\n",
    "                plik_wyjsciowy.write(line)\n",
    "\n",
    "input_file = \"nazwa_pliku.txt\"\n",
    "result_file = \"nazwa_pliku_2.txt\"\n",
    "copy_lines(args.input_file, args.result_file, args.count_lines, args.append)\n"
   ]
  },
  {
   "cell_type": "markdown",
   "metadata": {},
   "source": [
    "### Zacznijmy od działania"
   ]
  },
  {
   "cell_type": "markdown",
   "metadata": {},
   "source": [
    "Stwórzmy plik `in.txt` np o treści \"Ala\\n ma\\n kota\\n\""
   ]
  },
  {
   "cell_type": "markdown",
   "metadata": {},
   "source": [
    "Jeśli uruchomimy w/w kod z argumentami `in.txt out.txt`. Pojawi się nam plik `out.txt`."
   ]
  },
  {
   "cell_type": "markdown",
   "metadata": {},
   "source": [
    "Jeśli uruchomimy w/w kod z argumentami `in.txt out.txt a`, otrzymamy automatycznie wygenerowaną pomoc \n",
    "```\n",
    "usage: main.py [-h] [--append] input_file result_file [count_lines]\n",
    "main.py: error: argument count_lines: invalid int value: 'a'```"
   ]
  },
  {
   "cell_type": "markdown",
   "metadata": {},
   "source": [
    "Tymczasem jeśli użyjemy tylko `-h`, mamy:\n",
    "```\n",
    "usage: main.py [-h] [--append] input_file result_file [count_lines]\n",
    "\n",
    "positional arguments:\n",
    "  input_file   file to be read\n",
    "  result_file  file to save result\n",
    "  count_lines  Number of lines to be copied, default 10\n",
    "\n",
    "optional arguments:\n",
    "  -h, --help   show this help message and exit\n",
    "  --append     append result to `result_file`\n",
    "```"
   ]
  },
  {
   "cell_type": "markdown",
   "metadata": {},
   "source": [
    "### A teraz trochę wytłumaczenia"
   ]
  },
  {
   "cell_type": "markdown",
   "metadata": {},
   "source": [
    "Korzystając z wiedzy z początku zajęć widzimy, że `input_file` i `result_file` trzeba podać.\n",
    "\n",
    "Liczby linii nie trzeba podawać, co już przetestowaliśmy. \n",
    "\n",
    "Spróbujmy teraz zestaw `in.txt out.txt 1` - w `out.txt` jest teraz tylko napis \"Ala\"."
   ]
  },
  {
   "cell_type": "markdown",
   "metadata": {},
   "source": [
    "Sprawdźmy teraz kilkukrotne uruchomienie `in.txt out.txt --append`."
   ]
  },
  {
   "cell_type": "markdown",
   "metadata": {},
   "source": [
    "### Jak działa nasz kod? \n",
    "\n",
    "Tworzymy obiekt parser `parser = argparse.ArgumentParser()`\n",
    "\n",
    "Następnie dodajemy do parsera elementy, jedną z opcji jest eleganckie `add_argument`.\n",
    "\n",
    "Wreszcie możemy wyciągnąc elementy z parsera za pomocą `args = parser.parse_args()`. Teraz `args` to obiekt `argparse.Namespace` bardzo podobny do słownika. `print(args)` zwraca: \n",
    "```\n",
    "Namespace(input_file='in.txt', result_file='out.txt', count_lines=1, append='w')\n",
    "```"
   ]
  },
  {
   "cell_type": "markdown",
   "metadata": {},
   "source": [
    "Aby odwołać się do wartości danego atrybutu piszemy w wywołaniu `copy_lines`:\n",
    "```\n",
    "args.input_file\n",
    "```\n",
    "I do funkcji przekazywana jest wartość `in.txt`.\n"
   ]
  },
  {
   "cell_type": "markdown",
   "metadata": {},
   "source": [
    "### add_argument"
   ]
  },
  {
   "cell_type": "markdown",
   "metadata": {},
   "source": [
    "Nazwa i `help` są intuicyjne."
   ]
  },
  {
   "cell_type": "markdown",
   "metadata": {},
   "source": [
    "`type=int, default=10, nargs=\"?\"`\n",
    "\n",
    "Możemy podać typ. Wartość domyślną. Oraz zaznaczyć ilu argumentów się spodziewamy. `nargs`, czyli number of arguments, działa podobnie do wyrażeń regularnych, tzn:\n",
    "```\n",
    "7: 7 wartości\n",
    "?: pojedyncza wartość, która może być opcjonalna (może jej nie być) \n",
    "*: dowolna liczba wartości, która będzie zebrana w listę \n",
    "+: podobnie jak *, ale wymagamy co najmniej jednej wartości\n",
    "```"
   ]
  },
  {
   "cell_type": "markdown",
   "metadata": {},
   "source": [
    "`\"--append\", action=\"store_const\", const=\"a\", default=\"w\"` - tutaj mamy przykład flagi. Jeśli wybierzemy opcję `--append` to do naszej funkcji przekażemy `write_mode` równe `a`. Domyślnie przekazujemy `w`."
   ]
  },
  {
   "cell_type": "code",
   "execution_count": null,
   "metadata": {},
   "outputs": [],
   "source": []
  }
 ],
 "metadata": {
  "colab": {
   "provenance": [],
   "toc_visible": true
  },
  "kernelspec": {
   "display_name": "Python 3 (ipykernel)",
   "language": "python",
   "name": "python3"
  },
  "language_info": {
   "codemirror_mode": {
    "name": "ipython",
    "version": 3
   },
   "file_extension": ".py",
   "mimetype": "text/x-python",
   "name": "python",
   "nbconvert_exporter": "python",
   "pygments_lexer": "ipython3",
   "version": "3.10.13"
  }
 },
 "nbformat": 4,
 "nbformat_minor": 4
}
