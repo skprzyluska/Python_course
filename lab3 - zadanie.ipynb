{
 "cells": [
  {
   "cell_type": "markdown",
   "metadata": {},
   "source": [
    "### Kilka uwag do zadania"
   ]
  },
  {
   "cell_type": "markdown",
   "metadata": {},
   "source": [
    "Wskazówka 1 - sortowanie"
   ]
  },
  {
   "cell_type": "code",
   "execution_count": 1,
   "metadata": {},
   "outputs": [
    {
     "data": {
      "text/plain": [
       "[1, 2, 3, 5, 7]"
      ]
     },
     "execution_count": 1,
     "metadata": {},
     "output_type": "execute_result"
    }
   ],
   "source": [
    "l = [2,3,7,5,1]\n",
    "sorted(l)"
   ]
  },
  {
   "cell_type": "markdown",
   "metadata": {},
   "source": [
    "Wskazówka 2 - wczytywanie"
   ]
  },
  {
   "cell_type": "code",
   "execution_count": 2,
   "metadata": {},
   "outputs": [
    {
     "name": "stdout",
     "output_type": "stream",
     "text": [
      "Podaj napis: Ala\n",
      "Twój napis to `Ala`\n"
     ]
    }
   ],
   "source": [
    "x = input(\"Podaj napis: \")\n",
    "print(\"Twój napis to `\" + x + \"`\")"
   ]
  },
  {
   "cell_type": "markdown",
   "metadata": {},
   "source": [
    "# Zadanie domowe:\n",
    "Zadanie: Śledzenie Spędzonego Czasu\n",
    "\n",
    "Stwórz program, który pozwala śledzić czas spędzony na różnych aktywnościach. Użyj słownika do przechowywania danych o aktywnościach oraz listy do śledzenia czasu spędzonego na każdej z nich. Program powinien mieć trzy główne funkcje:\n",
    "* Dodaj Aktywność: Użytkownik może dodać nową aktywność do śledzenia. Jeśli aktywność już istnieje, program powinien tylko zaktualizować ją o nowy czas. Struktura danych może wyglądać tak:\n",
    "    {\n",
    "    'Aktywność 1': [czas1, czas2, czas3, ...],\n",
    "    'Aktywność 2': [czas1, czas2, czas3, ...],\n",
    "    ...\n",
    "}\n",
    "* Pokaż Czas: Użytkownik może wybrać aktywność i zobaczyć, ile łącznie czasu spędził na niej.\n",
    "* Pokaż Top Aktywności: Program powinien pokazać top 3 aktywności, na których użytkownik spędził najwięcej czasu."
   ]
  },
  {
   "cell_type": "code",
   "execution_count": 67,
   "metadata": {},
   "outputs": [
    {
     "name": "stdout",
     "output_type": "stream",
     "text": [
      "czas debugowanie_1: \n",
      "6\n",
      "\n",
      "Top 3 aktywności: \n",
      "\n",
      "#1:  debugowanie_1 \n",
      "#2:  wysylanie_1 \n",
      "#3:  debugowanie_3\n",
      "\n",
      "\n",
      "Zawartość słownika: \n",
      "debugowanie_1 [1, 2, 3]\n",
      "wysylanie_1 range(0, 5)\n",
      "debugowanie_2 [1, 2, 3, 1, 2, 3, 1, 2, 3]\n",
      "wysylanie_2 range(0, 10)\n",
      "debugowanie_3 [1, 2, 3, 1, 2, 3]\n",
      "wysylanie_3 range(0, 115)\n"
     ]
    }
   ],
   "source": [
    "# Rozwiazanie:\n",
    "\n",
    "dict = {}\n",
    "\n",
    "def dodaj_aktywnosc(nazwa, czas):\n",
    "    temp_dict = {nazwa : czas}\n",
    "    dict.update(temp_dict)\n",
    "\n",
    "def pokaz_czas(klucz):\n",
    "    suma = sum(dict[klucz])\n",
    "    print (suma)\n",
    "\n",
    "\n",
    "\n",
    "def czas(klucz):\n",
    "    suma = sum(dict[klucz])\n",
    "    return suma\n",
    "\n",
    "def najwiecej_czasu():\n",
    "    list = []\n",
    "    for key, value in dict.items():\n",
    "        suma = sum(value)\n",
    "        list.append([suma, key])\n",
    "    list = sorted(list)\n",
    "    print(\"\\n#1: \", list[0][1], \"\\n#2: \", list[1][1], \"\\n#3: \", list[2][1])\n",
    "\n",
    "#Przykład: \n",
    "\n",
    "dodaj_aktywnosc(\"debugowanie_1\", [1,2,3])\n",
    "list = range(5)\n",
    "dodaj_aktywnosc(\"wysylanie_1\", list)\n",
    "dodaj_aktywnosc(\"debugowanie_2\", [1,2,3,1,2,3,1,2,3])\n",
    "list = range(10)\n",
    "dodaj_aktywnosc(\"wysylanie_2\", list)\n",
    "dodaj_aktywnosc(\"debugowanie_3\", [1,2,3,1,2,3])\n",
    "list = range(115)\n",
    "dodaj_aktywnosc(\"wysylanie_3\", list)\n",
    "\n",
    "print(\"czas debugowanie_1: \")\n",
    "pokaz_czas(\"debugowanie_1\")\n",
    "\n",
    "print(\"\\nTop 3 aktywności: \")\n",
    "najwiecej_czasu()\n",
    "\n",
    "print(\"\\n\\nZawartość słownika: \")\n",
    "for key, value in dict.items():\n",
    "    print (key, value)"
   ]
  }
 ],
 "metadata": {
  "kernelspec": {
   "display_name": "Python 3 (ipykernel)",
   "language": "python",
   "name": "python3"
  },
  "language_info": {
   "codemirror_mode": {
    "name": "ipython",
    "version": 3
   },
   "file_extension": ".py",
   "mimetype": "text/x-python",
   "name": "python",
   "nbconvert_exporter": "python",
   "pygments_lexer": "ipython3",
   "version": "3.10.13"
  }
 },
 "nbformat": 4,
 "nbformat_minor": 4
}
