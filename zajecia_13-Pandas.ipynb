{
 "cells": [
  {
   "cell_type": "markdown",
   "id": "39b3c57c",
   "metadata": {},
   "source": [
    "# Biblioteka pandas w Pythonie\n",
    "\n",
    "Pandas to rozbudowana biblioteka do manipulowania danymi, tj. procesu pobierania danych i zmieniania ich formatu celem  łatwiejszego odczytu lub lepszego uporządkowania, oraz do analizy danych w Pythonie. \n",
    "\n",
    "Nazwa pochodzi od \"**pan**el **da**ta\", terminu powszechnie używanego w odniesieniu do wielowymiarowych zbiorów danych spotykanych w statystyce i ekonometrii."
   ]
  },
  {
   "cell_type": "markdown",
   "id": "8bafc3c3",
   "metadata": {},
   "source": [
    "## 0. Instalacja oraz import biblioteki pandas\n",
    "\n",
    "Instalujemy za pomocą komendy pip:"
   ]
  },
  {
   "cell_type": "code",
   "execution_count": null,
   "id": "ecde8ba5",
   "metadata": {},
   "outputs": [],
   "source": [
    "pip install pandas"
   ]
  },
  {
   "cell_type": "markdown",
   "id": "19fad80f",
   "metadata": {},
   "source": [
    "oraz importujemy za pomocą instrukcji"
   ]
  },
  {
   "cell_type": "code",
   "execution_count": 2,
   "id": "238469c5",
   "metadata": {},
   "outputs": [],
   "source": [
    "import pandas as pd\n",
    "\n",
    "# Przyda się nam też NumPy, więc od razu i tę biblotekę zaimportujemy\n",
    "import numpy as np"
   ]
  },
  {
   "cell_type": "markdown",
   "id": "c93398b8",
   "metadata": {},
   "source": [
    "## 1. Podstawowe struktury danych w pandas\n",
    "\n",
    "Serie danych (klasa [pandas.Series](https://pandas.pydata.org/docs/reference/api/pandas.Series.html)) – to jednowymiarowa tablica z etykietami, która może przechowywać dowolny typ danych.\n",
    "\n",
    "Ramka danych (klasa [pandas.DataFrame](https://pandas.pydata.org/docs/reference/api/pandas.DataFrame.html)) – dwuwymiarowa struktura z etykietami, mogąca przechowywać kolumny z różnymi typami danych.\n",
    "\n",
    "Indeks (klasa [pandas.Index](https://pandas.pydata.org/docs/reference/api/pandas.Index.html#pandas.Index)) - niezmienialny ciąg obiektów używany do indeksowania serii i ramek danych. "
   ]
  },
  {
   "cell_type": "markdown",
   "id": "57492e5a",
   "metadata": {},
   "source": [
    "### Seria i indeks w pandas"
   ]
  },
  {
   "cell_type": "markdown",
   "id": "04f86591",
   "metadata": {},
   "source": [
    "Serię danych możemy utworzyć w następujący sposób:"
   ]
  },
  {
   "cell_type": "code",
   "execution_count": 3,
   "id": "d767614e",
   "metadata": {},
   "outputs": [
    {
     "data": {
      "text/plain": [
       "0    1.0\n",
       "1    3.0\n",
       "2    5.0\n",
       "3    NaN\n",
       "4    6.0\n",
       "5    8.0\n",
       "dtype: float64"
      ]
     },
     "execution_count": 3,
     "metadata": {},
     "output_type": "execute_result"
    }
   ],
   "source": [
    "s = pd.Series([1, 3, 5, np.nan, 6, 8])\n",
    "s"
   ]
  },
  {
   "cell_type": "markdown",
   "id": "67338094",
   "metadata": {},
   "source": [
    "W powyższym przykładzie kolejne wartości są indeksowane automatycznie:"
   ]
  },
  {
   "cell_type": "code",
   "execution_count": 4,
   "id": "208e10d7",
   "metadata": {},
   "outputs": [
    {
     "data": {
      "text/plain": [
       "[0, 1, 2, 3, 4, 5]"
      ]
     },
     "execution_count": 4,
     "metadata": {},
     "output_type": "execute_result"
    }
   ],
   "source": [
    "list(s.index)"
   ]
  },
  {
   "cell_type": "markdown",
   "id": "dd4e989e",
   "metadata": {},
   "source": [
    "Oczywiście możemy określić swój własny sposób indeksowania wartości: "
   ]
  },
  {
   "cell_type": "code",
   "execution_count": 5,
   "id": "6552fe92",
   "metadata": {},
   "outputs": [
    {
     "data": {
      "text/plain": [
       "Ala      12\n",
       "Ola      23\n",
       "Marek    19\n",
       "Tomek    20\n",
       "dtype: int32"
      ]
     },
     "execution_count": 5,
     "metadata": {},
     "output_type": "execute_result"
    }
   ],
   "source": [
    "s = pd.Series([12, 23, 19, 20], index=['Ala', 'Ola', 'Marek', 'Tomek'], dtype='int32')\n",
    "s"
   ]
  },
  {
   "cell_type": "markdown",
   "id": "b088307d",
   "metadata": {},
   "source": [
    "Indeks pozwala nam odczytywać poszczególne elementy serii danych.\n",
    "\n",
    "Na przykład tak:"
   ]
  },
  {
   "cell_type": "code",
   "execution_count": 6,
   "id": "50387829",
   "metadata": {},
   "outputs": [
    {
     "data": {
      "text/plain": [
       "19"
      ]
     },
     "execution_count": 6,
     "metadata": {},
     "output_type": "execute_result"
    }
   ],
   "source": [
    "s['Marek']"
   ]
  },
  {
   "cell_type": "markdown",
   "id": "f613538c",
   "metadata": {},
   "source": [
    "Ale można i tak, korzystając z odpowiedniego atrybutu:"
   ]
  },
  {
   "cell_type": "code",
   "execution_count": 7,
   "id": "4731da44",
   "metadata": {},
   "outputs": [
    {
     "data": {
      "text/plain": [
       "19"
      ]
     },
     "execution_count": 7,
     "metadata": {},
     "output_type": "execute_result"
    }
   ],
   "source": [
    "s.Marek"
   ]
  },
  {
   "cell_type": "markdown",
   "id": "504a9a0d",
   "metadata": {},
   "source": [
    "Oczywiście możemy też odczytywać dane z serii danych w \"tradycyjny\" sposób, tj. tak jak w przypadku standardowych list w Pythonie czy tabel w NumPy:"
   ]
  },
  {
   "cell_type": "code",
   "execution_count": 8,
   "id": "f1ab9585",
   "metadata": {},
   "outputs": [
    {
     "name": "stderr",
     "output_type": "stream",
     "text": [
      "C:\\Users\\stasi\\AppData\\Local\\Temp\\ipykernel_2924\\243613605.py:1: FutureWarning: Series.__getitem__ treating keys as positions is deprecated. In a future version, integer keys will always be treated as labels (consistent with DataFrame behavior). To access a value by position, use `ser.iloc[pos]`\n",
      "  s[0]\n"
     ]
    },
    {
     "data": {
      "text/plain": [
       "12"
      ]
     },
     "execution_count": 8,
     "metadata": {},
     "output_type": "execute_result"
    }
   ],
   "source": [
    "s[0]"
   ]
  },
  {
   "cell_type": "code",
   "execution_count": 9,
   "id": "36899f11",
   "metadata": {},
   "outputs": [
    {
     "data": {
      "text/plain": [
       "Ola      23\n",
       "Marek    19\n",
       "dtype: int32"
      ]
     },
     "execution_count": 9,
     "metadata": {},
     "output_type": "execute_result"
    }
   ],
   "source": [
    "s[1:3]"
   ]
  },
  {
   "cell_type": "markdown",
   "id": "bf018ccc",
   "metadata": {},
   "source": [
    "W prosty sposób możemy stworzyć serię danych dla odczytów w określonych datach, punktach czasowych, itp. Tworzymy indeks dla poszczególnych odczytów, np. dla pierwszego dnia każdego miesiąca w 2020r.: "
   ]
  },
  {
   "cell_type": "code",
   "execution_count": 10,
   "id": "74f5d81e",
   "metadata": {},
   "outputs": [
    {
     "name": "stdout",
     "output_type": "stream",
     "text": [
      "DatetimeIndex(['2020-01-01', '2020-02-01', '2020-03-01', '2020-04-01',\n",
      "               '2020-05-01', '2020-06-01', '2020-07-01', '2020-08-01',\n",
      "               '2020-09-01', '2020-10-01', '2020-11-01', '2020-12-01'],\n",
      "              dtype='datetime64[ns]', freq='MS')\n"
     ]
    }
   ],
   "source": [
    "daty = pd.date_range('20200101', periods=12, freq='MS')\n",
    "print(daty)"
   ]
  },
  {
   "cell_type": "markdown",
   "id": "fccd22dc",
   "metadata": {},
   "source": [
    "'MS' jest napisem określającym częstotliwość z jaką mają być generowane kolejne elementy zakresu. Możliwe inne wartości tego parametru są dostępne [tutaj](https://pandas.pydata.org/docs/user_guide/timeseries.html#timeseries-offset-aliases).\n",
    "\n",
    "Następnie utworzymy serię danych zawierającą średnie wartości temperatury powietrza w Warszawie w poszczególnych miesiącach 2020r. zmierzone przez stację meteorologiczną Warszawa-Filtry (dla zainteresowanych: dane są dostępne [tutaj](https://meteomodel.pl/dane/srednie-miesieczne/?imgwid=252200230&par=tm&max_empty=2)):"
   ]
  },
  {
   "cell_type": "code",
   "execution_count": 11,
   "id": "afebef79",
   "metadata": {},
   "outputs": [
    {
     "data": {
      "text/plain": [
       "2020-01-01     2.7\n",
       "2020-02-01     4.2\n",
       "2020-03-01     5.4\n",
       "2020-04-01    10.0\n",
       "2020-05-01    12.8\n",
       "2020-06-01    20.0\n",
       "2020-07-01    20.3\n",
       "2020-08-01    21.3\n",
       "2020-09-01    16.0\n",
       "2020-10-01    10.8\n",
       "2020-11-01     6.0\n",
       "2020-12-01     2.1\n",
       "Freq: MS, dtype: float64"
      ]
     },
     "execution_count": 11,
     "metadata": {},
     "output_type": "execute_result"
    }
   ],
   "source": [
    "temp = pd.Series([2.7, 4.2, 5.4, 10.0, 12.8, 20.0, 20.3, 21.3, 16.0, 10.8, 6.0, 2.1], index=daty)\n",
    "temp"
   ]
  },
  {
   "cell_type": "markdown",
   "id": "bad8410b",
   "metadata": {},
   "source": [
    "Poszczególne wartości możemy odczytwać z serii danych na różne sposoby.\n",
    "\n",
    "Pojedynczy element:"
   ]
  },
  {
   "cell_type": "code",
   "execution_count": 12,
   "id": "d59f4c61",
   "metadata": {},
   "outputs": [
    {
     "data": {
      "text/plain": [
       "2.7"
      ]
     },
     "execution_count": 12,
     "metadata": {},
     "output_type": "execute_result"
    }
   ],
   "source": [
    "temp.iloc[0]"
   ]
  },
  {
   "cell_type": "code",
   "execution_count": 13,
   "id": "a30be1bb",
   "metadata": {},
   "outputs": [
    {
     "data": {
      "text/plain": [
       "2.7"
      ]
     },
     "execution_count": 13,
     "metadata": {},
     "output_type": "execute_result"
    }
   ],
   "source": [
    "temp['2020-01-01']"
   ]
  },
  {
   "cell_type": "code",
   "execution_count": 14,
   "id": "9089ab2b",
   "metadata": {},
   "outputs": [
    {
     "data": {
      "text/plain": [
       "12.8"
      ]
     },
     "execution_count": 14,
     "metadata": {},
     "output_type": "execute_result"
    }
   ],
   "source": [
    "temp['2020/5/1']"
   ]
  },
  {
   "cell_type": "code",
   "execution_count": 15,
   "id": "01173ff2",
   "metadata": {},
   "outputs": [
    {
     "data": {
      "text/plain": [
       "2020-01-01    2.7\n",
       "Freq: MS, dtype: float64"
      ]
     },
     "execution_count": 15,
     "metadata": {},
     "output_type": "execute_result"
    }
   ],
   "source": [
    "temp['2020-01']"
   ]
  },
  {
   "cell_type": "markdown",
   "id": "07968f92",
   "metadata": {},
   "source": [
    "Ale to już nie zadziała:"
   ]
  },
  {
   "cell_type": "code",
   "execution_count": 16,
   "id": "acba63c2",
   "metadata": {},
   "outputs": [
    {
     "ename": "SyntaxError",
     "evalue": "leading zeros in decimal integer literals are not permitted; use an 0o prefix for octal integers (2885049886.py, line 1)",
     "output_type": "error",
     "traceback": [
      "\u001b[1;36m  Cell \u001b[1;32mIn[16], line 1\u001b[1;36m\u001b[0m\n\u001b[1;33m    temp.2020-01-01\u001b[0m\n\u001b[1;37m              ^\u001b[0m\n\u001b[1;31mSyntaxError\u001b[0m\u001b[1;31m:\u001b[0m leading zeros in decimal integer literals are not permitted; use an 0o prefix for octal integers\n"
     ]
    }
   ],
   "source": [
    "temp.2020-01-01"
   ]
  },
  {
   "cell_type": "markdown",
   "id": "9e5ead53",
   "metadata": {},
   "source": [
    "ani to:"
   ]
  },
  {
   "cell_type": "code",
   "execution_count": 17,
   "id": "e32b7e53",
   "metadata": {},
   "outputs": [
    {
     "ename": "SyntaxError",
     "evalue": "invalid syntax (2684510860.py, line 1)",
     "output_type": "error",
     "traceback": [
      "\u001b[1;36m  Cell \u001b[1;32mIn[17], line 1\u001b[1;36m\u001b[0m\n\u001b[1;33m    temp.'2020-01-01'\u001b[0m\n\u001b[1;37m         ^\u001b[0m\n\u001b[1;31mSyntaxError\u001b[0m\u001b[1;31m:\u001b[0m invalid syntax\n"
     ]
    }
   ],
   "source": [
    "temp.'2020-01-01'"
   ]
  },
  {
   "cell_type": "markdown",
   "id": "2934a683",
   "metadata": {},
   "source": [
    "Ale możemy tak:"
   ]
  },
  {
   "cell_type": "code",
   "execution_count": 18,
   "id": "d5d10fc1",
   "metadata": {},
   "outputs": [
    {
     "data": {
      "text/plain": [
       "Timestamp('2020-01-01 00:00:00')"
      ]
     },
     "execution_count": 18,
     "metadata": {},
     "output_type": "execute_result"
    }
   ],
   "source": [
    "ts = pd.to_datetime('2020-01-01')\n",
    "ts"
   ]
  },
  {
   "cell_type": "markdown",
   "id": "6b900026",
   "metadata": {},
   "source": [
    "i jeszcze na kilka różnych sposobów:"
   ]
  },
  {
   "cell_type": "code",
   "execution_count": 19,
   "id": "3281fe78",
   "metadata": {},
   "outputs": [
    {
     "data": {
      "text/plain": [
       "Timestamp('2020-01-01 00:00:00')"
      ]
     },
     "execution_count": 19,
     "metadata": {},
     "output_type": "execute_result"
    }
   ],
   "source": [
    "ts = pd.to_datetime('2020-01')\n",
    "ts"
   ]
  },
  {
   "cell_type": "code",
   "execution_count": 20,
   "id": "0c93c2e2",
   "metadata": {},
   "outputs": [
    {
     "data": {
      "text/plain": [
       "Timestamp('2020-01-01 00:00:00')"
      ]
     },
     "execution_count": 20,
     "metadata": {},
     "output_type": "execute_result"
    }
   ],
   "source": [
    "pd.to_datetime('2020')"
   ]
  },
  {
   "cell_type": "code",
   "execution_count": 21,
   "id": "76902163",
   "metadata": {},
   "outputs": [
    {
     "data": {
      "text/plain": [
       "2.7"
      ]
     },
     "execution_count": 21,
     "metadata": {},
     "output_type": "execute_result"
    }
   ],
   "source": [
    "temp[ts]"
   ]
  },
  {
   "cell_type": "code",
   "execution_count": 22,
   "id": "c8db51bd",
   "metadata": {},
   "outputs": [
    {
     "data": {
      "text/plain": [
       "2020-01-01     2.7\n",
       "2020-02-01     4.2\n",
       "2020-03-01     5.4\n",
       "2020-04-01    10.0\n",
       "2020-05-01    12.8\n",
       "2020-06-01    20.0\n",
       "2020-07-01    20.3\n",
       "2020-08-01    21.3\n",
       "2020-09-01    16.0\n",
       "2020-10-01    10.8\n",
       "2020-11-01     6.0\n",
       "2020-12-01     2.1\n",
       "Freq: MS, dtype: float64"
      ]
     },
     "execution_count": 22,
     "metadata": {},
     "output_type": "execute_result"
    }
   ],
   "source": [
    "temp['2020']"
   ]
  },
  {
   "cell_type": "code",
   "execution_count": 23,
   "id": "909aaf58",
   "metadata": {},
   "outputs": [
    {
     "data": {
      "text/plain": [
       "2020-05-01    12.8\n",
       "2020-06-01    20.0\n",
       "2020-07-01    20.3\n",
       "2020-08-01    21.3\n",
       "Freq: MS, dtype: float64"
      ]
     },
     "execution_count": 23,
     "metadata": {},
     "output_type": "execute_result"
    }
   ],
   "source": [
    "temp['2020-05-01':'2020-08-01']"
   ]
  },
  {
   "cell_type": "markdown",
   "id": "af824e86",
   "metadata": {},
   "source": [
    "Co ciekawe, można i tak:"
   ]
  },
  {
   "cell_type": "code",
   "execution_count": 24,
   "id": "3484d923",
   "metadata": {},
   "outputs": [
    {
     "data": {
      "text/plain": [
       "2020-05-01    12.8\n",
       "2020-06-01    20.0\n",
       "2020-07-01    20.3\n",
       "2020-08-01    21.3\n",
       "Freq: MS, dtype: float64"
      ]
     },
     "execution_count": 24,
     "metadata": {},
     "output_type": "execute_result"
    }
   ],
   "source": [
    "temp['2020-05-01':'2020-08-12']"
   ]
  },
  {
   "cell_type": "markdown",
   "id": "837cbf13",
   "metadata": {},
   "source": [
    "W naszym przykładzie serii danych zawierających średnie wartości temperatur dla poszczególnych miesięcy, etykiety indeksu są jednak mylące, gdyż zawierają informację o dniu - sugerują jakby pomiary były dokonywane w pierwszym dniu każdego miesiąca, co nie jest zgodne ze stanem faktycznym. Dlatego spróbujemy poprawić nasz indeks. Możemy zrobić to używająć funkcji [period_range](https://pandas.pydata.org/docs/reference/api/pandas.period_range.html). Najpierw utworzymy nowy indeks:"
   ]
  },
  {
   "cell_type": "code",
   "execution_count": 25,
   "id": "084a66fe",
   "metadata": {},
   "outputs": [
    {
     "data": {
      "text/plain": [
       "PeriodIndex(['2020-01', '2020-02', '2020-03', '2020-04', '2020-05', '2020-06',\n",
       "             '2020-07', '2020-08', '2020-09', '2020-10', '2020-11', '2020-12'],\n",
       "            dtype='period[M]')"
      ]
     },
     "execution_count": 25,
     "metadata": {},
     "output_type": "execute_result"
    }
   ],
   "source": [
    "nowy_indeks = pd.period_range(\"2020/01/01\", freq=\"M\", periods=12)\n",
    "nowy_indeks"
   ]
  },
  {
   "cell_type": "markdown",
   "id": "c351894d",
   "metadata": {},
   "source": [
    "Zauważmy, że przy okazji zmienimy klasę indeksu z [DatetimeIndex](https://pandas.pydata.org/docs/reference/api/pandas.DatetimeIndex.html) na [PeriodIndex](https://pandas.pydata.org/docs/reference/api/pandas.PeriodIndex.html).\n",
    "Teraz dokonamy podmiany:"
   ]
  },
  {
   "cell_type": "code",
   "execution_count": 26,
   "id": "63d5a1c0",
   "metadata": {},
   "outputs": [
    {
     "data": {
      "text/plain": [
       "2020-01     2.7\n",
       "2020-02     4.2\n",
       "2020-03     5.4\n",
       "2020-04    10.0\n",
       "2020-05    12.8\n",
       "2020-06    20.0\n",
       "2020-07    20.3\n",
       "2020-08    21.3\n",
       "2020-09    16.0\n",
       "2020-10    10.8\n",
       "2020-11     6.0\n",
       "2020-12     2.1\n",
       "Freq: M, dtype: float64"
      ]
     },
     "execution_count": 26,
     "metadata": {},
     "output_type": "execute_result"
    }
   ],
   "source": [
    "temp.index = nowy_indeks\n",
    "temp"
   ]
  },
  {
   "cell_type": "markdown",
   "id": "6774151e",
   "metadata": {},
   "source": [
    "Przy okazji nie tylko mamy bardziej poprawny indeks, ale też zredukowaliśmy zużycie pamięci:"
   ]
  },
  {
   "cell_type": "code",
   "execution_count": 27,
   "id": "ab191fe0",
   "metadata": {},
   "outputs": [
    {
     "name": "stdout",
     "output_type": "stream",
     "text": [
      "Niepoprawny indeks zajmował 396 bajtów.\n",
      "Poprawny indeks zajmuje 96 bajtów.\n"
     ]
    }
   ],
   "source": [
    "print(f\"Niepoprawny indeks zajmował {daty.memory_usage()} bajtów.\")\n",
    "print(f\"Poprawny indeks zajmuje {nowy_indeks.memory_usage()} bajtów.\")"
   ]
  },
  {
   "cell_type": "code",
   "execution_count": 28,
   "id": "5918c001",
   "metadata": {},
   "outputs": [
    {
     "data": {
      "text/plain": [
       "dtype('<M8[ns]')"
      ]
     },
     "execution_count": 28,
     "metadata": {},
     "output_type": "execute_result"
    }
   ],
   "source": [
    "daty.dtype"
   ]
  },
  {
   "cell_type": "code",
   "execution_count": 29,
   "id": "6d0bcd96",
   "metadata": {},
   "outputs": [
    {
     "data": {
      "text/plain": [
       "period[M]"
      ]
     },
     "execution_count": 29,
     "metadata": {},
     "output_type": "execute_result"
    }
   ],
   "source": [
    "nowy_indeks.dtype"
   ]
  },
  {
   "cell_type": "markdown",
   "id": "f7fec4bc",
   "metadata": {},
   "source": [
    "Do zagadnień związanych z czasem i manipulowaniem nim w pandas jeszcze wrócimy na końcu dzisiejszych zajęć."
   ]
  },
  {
   "cell_type": "markdown",
   "id": "16d48585",
   "metadata": {},
   "source": [
    "Umówimy jeszcze metodę [pandas.Series.map](https://pandas.pydata.org/docs/reference/api/pandas.Series.map.html) dla serii danych. Pozwala ona na zastępowanie wartości serii danych innymi wartościami zadanymi przez funkcję, słownik lub inną serię danych:"
   ]
  },
  {
   "cell_type": "code",
   "execution_count": 30,
   "id": "a06e6bb1",
   "metadata": {},
   "outputs": [
    {
     "data": {
      "text/plain": [
       "0       cat\n",
       "1       dog\n",
       "2       NaN\n",
       "3    rabbit\n",
       "dtype: object"
      ]
     },
     "execution_count": 30,
     "metadata": {},
     "output_type": "execute_result"
    }
   ],
   "source": [
    "s = pd.Series(['cat', 'dog', np.nan, 'rabbit'])\n",
    "s"
   ]
  },
  {
   "cell_type": "markdown",
   "id": "26bfba05",
   "metadata": {},
   "source": [
    "Nowe wartości zadane za pomocą słownika. Jeżeli w słowniku brakuje odpowiedniego klucza, to nową wartością jest NaN, chyba że słownik określa waertość domyślną:"
   ]
  },
  {
   "cell_type": "code",
   "execution_count": 31,
   "id": "62c1886e",
   "metadata": {},
   "outputs": [
    {
     "data": {
      "text/plain": [
       "0    kitten\n",
       "1     puppy\n",
       "2       NaN\n",
       "3       NaN\n",
       "dtype: object"
      ]
     },
     "execution_count": 31,
     "metadata": {},
     "output_type": "execute_result"
    }
   ],
   "source": [
    "s.map({'cat': 'kitten', 'dog': 'puppy'})"
   ]
  },
  {
   "cell_type": "markdown",
   "id": "12592283",
   "metadata": {},
   "source": [
    "Nowe wartości zadane za pomocą funkcji:"
   ]
  },
  {
   "cell_type": "code",
   "execution_count": 32,
   "id": "0cc29f60",
   "metadata": {},
   "outputs": [
    {
     "data": {
      "text/plain": [
       "0       I am a cat\n",
       "1       I am a dog\n",
       "2              NaN\n",
       "3    I am a rabbit\n",
       "dtype: object"
      ]
     },
     "execution_count": 32,
     "metadata": {},
     "output_type": "execute_result"
    }
   ],
   "source": [
    "s.map('I am a {}'.format, na_action='ignore')"
   ]
  },
  {
   "cell_type": "code",
   "execution_count": 33,
   "id": "92bb72d3",
   "metadata": {},
   "outputs": [
    {
     "data": {
      "text/plain": [
       "0    3\n",
       "1    4\n",
       "2    5\n",
       "3    6\n",
       "4    7\n",
       "dtype: int64"
      ]
     },
     "execution_count": 33,
     "metadata": {},
     "output_type": "execute_result"
    }
   ],
   "source": [
    "pd.Series([1,2,3,4,5]).map(lambda x: x+2)"
   ]
  },
  {
   "cell_type": "markdown",
   "id": "9343ffbc",
   "metadata": {},
   "source": [
    "Nowe wartości zadane za pomocą innej serii:"
   ]
  },
  {
   "cell_type": "code",
   "execution_count": 34,
   "id": "12b39b53",
   "metadata": {},
   "outputs": [
    {
     "data": {
      "text/plain": [
       "0    3\n",
       "1    2\n",
       "2    0\n",
       "3    1\n",
       "dtype: int64"
      ]
     },
     "execution_count": 34,
     "metadata": {},
     "output_type": "execute_result"
    }
   ],
   "source": [
    "s = pd.Series(['A','B','C','D'])\n",
    "other_series = pd.Series(range(len(s)), index = ['C', 'D', 'B', 'A'])\n",
    "s.map(other_series)"
   ]
  },
  {
   "cell_type": "markdown",
   "id": "90e3d5a3",
   "metadata": {},
   "source": [
    "### Ćwiczenie 1\n",
    "\n",
    "Utworzyć serię danych ciśnienia atmosferycznego w hPa w pierwszych siedmiu dniach roku 2024 w Warszawie. Wartości liczbowe można pobrać [stąd](https://www.ekologia.pl/pogoda/polska/mazowieckie/warszawa/archiwum,zakres,01-01-2024_07-01-2024)."
   ]
  },
  {
   "cell_type": "code",
   "execution_count": 35,
   "id": "950ba50f",
   "metadata": {},
   "outputs": [
    {
     "data": {
      "text/plain": [
       "2020-01-01    1004.25\n",
       "2020-01-02    1006.50\n",
       "2020-01-03     992.25\n",
       "2020-01-04     992.75\n",
       "2020-01-05    1009.75\n",
       "2020-01-06    1013.00\n",
       "2020-01-07    1020.25\n",
       "Freq: D, dtype: float64"
      ]
     },
     "execution_count": 35,
     "metadata": {},
     "output_type": "execute_result"
    }
   ],
   "source": [
    "# Rozwiązanie\n",
    "daty = pd.date_range('20200101', periods=7, freq='D')\n",
    "cisnienie = pd.Series([1004.25, 1006.5, 992.25, 992.75, 1009.75, 1013, 1020.25], index = daty)\n",
    "cisnienie"
   ]
  },
  {
   "cell_type": "markdown",
   "id": "9d6a1eaf",
   "metadata": {},
   "source": [
    "---\n",
    "\n",
    "### Ramka danych w pandas\n",
    "\n",
    "Teraz przejdziemy do omówienia klasy [pandas.DataFrame](https://pandas.pydata.org/docs/reference/api/pandas.DataFrame.html). Obiekty tej klasy to dwuwymiarowe tablice danych z indeksami kolumn i wierszy, gdzie poszczególne kolumny to serie danych, tj. obiekty klasy [pandas.Series](https://pandas.pydata.org/docs/reference/api/pandas.Series.html).\n",
    "\n",
    "Na początek utworzymy obiekt DataFrame na podstawie słownika:"
   ]
  },
  {
   "cell_type": "code",
   "execution_count": 48,
   "id": "ce296582",
   "metadata": {},
   "outputs": [
    {
     "data": {
      "text/html": [
       "<div>\n",
       "<style scoped>\n",
       "    .dataframe tbody tr th:only-of-type {\n",
       "        vertical-align: middle;\n",
       "    }\n",
       "\n",
       "    .dataframe tbody tr th {\n",
       "        vertical-align: top;\n",
       "    }\n",
       "\n",
       "    .dataframe thead th {\n",
       "        text-align: right;\n",
       "    }\n",
       "</style>\n",
       "<table border=\"1\" class=\"dataframe\">\n",
       "  <thead>\n",
       "    <tr style=\"text-align: right;\">\n",
       "      <th></th>\n",
       "      <th>Kraj</th>\n",
       "      <th>Stolica</th>\n",
       "      <th>Populacja</th>\n",
       "    </tr>\n",
       "  </thead>\n",
       "  <tbody>\n",
       "    <tr>\n",
       "      <th>0</th>\n",
       "      <td>Belgia</td>\n",
       "      <td>Bruksela</td>\n",
       "      <td>11190846</td>\n",
       "    </tr>\n",
       "    <tr>\n",
       "      <th>1</th>\n",
       "      <td>Indie</td>\n",
       "      <td>New Delhi</td>\n",
       "      <td>1303171035</td>\n",
       "    </tr>\n",
       "    <tr>\n",
       "      <th>2</th>\n",
       "      <td>Brazylia</td>\n",
       "      <td>Brasilia</td>\n",
       "      <td>207847528</td>\n",
       "    </tr>\n",
       "  </tbody>\n",
       "</table>\n",
       "</div>"
      ],
      "text/plain": [
       "       Kraj    Stolica   Populacja\n",
       "0    Belgia   Bruksela    11190846\n",
       "1     Indie  New Delhi  1303171035\n",
       "2  Brazylia   Brasilia   207847528"
      ]
     },
     "execution_count": 48,
     "metadata": {},
     "output_type": "execute_result"
    }
   ],
   "source": [
    "data = {'Kraj': ['Belgia', 'Indie', 'Brazylia'],\n",
    "        'Stolica': ['Bruksela', 'New Delhi', 'Brasilia'],\n",
    "        'Populacja': [11190846, 1303171035, 207847528]}\n",
    "df = pd.DataFrame(data,columns=['Kraj', 'Stolica', 'Populacja'])\n",
    "df"
   ]
  },
  {
   "cell_type": "markdown",
   "id": "fa4c6f23",
   "metadata": {},
   "source": [
    "Sprawdźmy indkes kolumn tego obiektu:"
   ]
  },
  {
   "cell_type": "code",
   "execution_count": 49,
   "id": "6ef55569",
   "metadata": {},
   "outputs": [
    {
     "data": {
      "text/plain": [
       "Index(['Kraj', 'Stolica', 'Populacja'], dtype='object')"
      ]
     },
     "execution_count": 49,
     "metadata": {},
     "output_type": "execute_result"
    }
   ],
   "source": [
    "df.columns"
   ]
  },
  {
   "cell_type": "markdown",
   "id": "2c8a9108",
   "metadata": {},
   "source": [
    "Listę zawierającą nazwy kolumn możemy uzyskać w ten sposób:"
   ]
  },
  {
   "cell_type": "code",
   "execution_count": 50,
   "id": "0db50f53",
   "metadata": {},
   "outputs": [
    {
     "data": {
      "text/plain": [
       "['Kraj', 'Stolica', 'Populacja']"
      ]
     },
     "execution_count": 50,
     "metadata": {},
     "output_type": "execute_result"
    }
   ],
   "source": [
    "df.columns.tolist()"
   ]
  },
  {
   "cell_type": "markdown",
   "id": "15b0b499",
   "metadata": {},
   "source": [
    "A teraz zobaczmy czym jest indeks wierszy:"
   ]
  },
  {
   "cell_type": "code",
   "execution_count": 51,
   "id": "8f2161c1",
   "metadata": {},
   "outputs": [
    {
     "data": {
      "text/plain": [
       "RangeIndex(start=0, stop=3, step=1)"
      ]
     },
     "execution_count": 51,
     "metadata": {},
     "output_type": "execute_result"
    }
   ],
   "source": [
    "df.index"
   ]
  },
  {
   "cell_type": "markdown",
   "id": "437cd064",
   "metadata": {},
   "source": [
    "Sprawdźmy jeszcze obiektem jakiej klasy jest jedna z kolumn:"
   ]
  },
  {
   "cell_type": "code",
   "execution_count": 52,
   "id": "3312c40d",
   "metadata": {},
   "outputs": [
    {
     "data": {
      "text/plain": [
       "pandas.core.series.Series"
      ]
     },
     "execution_count": 52,
     "metadata": {},
     "output_type": "execute_result"
    }
   ],
   "source": [
    "type(df['Kraj'])"
   ]
  },
  {
   "cell_type": "markdown",
   "id": "23d1d97a",
   "metadata": {},
   "source": [
    "Kolumny są obiektami klasy [pandas.Series](https://pandas.pydata.org/docs/reference/api/pandas.Series.html). Ale elementy poszczególnych kolumn już mogą być różnych typów. Dlatego też dla każdej kolumny DataFrame przechowywany jest jej typ danych. Możemy to sprawdzić za pomocą atrybutu dtypes:"
   ]
  },
  {
   "cell_type": "code",
   "execution_count": 53,
   "id": "8b642990",
   "metadata": {},
   "outputs": [
    {
     "name": "stdout",
     "output_type": "stream",
     "text": [
      "Kraj         object\n",
      "Stolica      object\n",
      "Populacja     int64\n",
      "dtype: object\n"
     ]
    }
   ],
   "source": [
    "print(df.dtypes)"
   ]
  },
  {
   "cell_type": "markdown",
   "id": "25eac20b",
   "metadata": {},
   "source": [
    "Możemy też utworzyć obiekt klasy DataFrame łącząc serie danych:"
   ]
  },
  {
   "cell_type": "markdown",
   "id": "1c0224bb",
   "metadata": {},
   "source": [
    "Przykład 1:"
   ]
  },
  {
   "cell_type": "code",
   "execution_count": 54,
   "id": "fa2bea14",
   "metadata": {},
   "outputs": [
    {
     "data": {
      "text/html": [
       "<div>\n",
       "<style scoped>\n",
       "    .dataframe tbody tr th:only-of-type {\n",
       "        vertical-align: middle;\n",
       "    }\n",
       "\n",
       "    .dataframe tbody tr th {\n",
       "        vertical-align: top;\n",
       "    }\n",
       "\n",
       "    .dataframe thead th {\n",
       "        text-align: right;\n",
       "    }\n",
       "</style>\n",
       "<table border=\"1\" class=\"dataframe\">\n",
       "  <thead>\n",
       "    <tr style=\"text-align: right;\">\n",
       "      <th></th>\n",
       "      <th>0</th>\n",
       "      <th>1</th>\n",
       "    </tr>\n",
       "  </thead>\n",
       "  <tbody>\n",
       "    <tr>\n",
       "      <th>0</th>\n",
       "      <td>0</td>\n",
       "      <td>6</td>\n",
       "    </tr>\n",
       "    <tr>\n",
       "      <th>1</th>\n",
       "      <td>1</td>\n",
       "      <td>7</td>\n",
       "    </tr>\n",
       "    <tr>\n",
       "      <th>2</th>\n",
       "      <td>2</td>\n",
       "      <td>8</td>\n",
       "    </tr>\n",
       "    <tr>\n",
       "      <th>3</th>\n",
       "      <td>3</td>\n",
       "      <td>9</td>\n",
       "    </tr>\n",
       "    <tr>\n",
       "      <th>4</th>\n",
       "      <td>4</td>\n",
       "      <td>10</td>\n",
       "    </tr>\n",
       "    <tr>\n",
       "      <th>5</th>\n",
       "      <td>5</td>\n",
       "      <td>11</td>\n",
       "    </tr>\n",
       "  </tbody>\n",
       "</table>\n",
       "</div>"
      ],
      "text/plain": [
       "   0   1\n",
       "0  0   6\n",
       "1  1   7\n",
       "2  2   8\n",
       "3  3   9\n",
       "4  4  10\n",
       "5  5  11"
      ]
     },
     "execution_count": 54,
     "metadata": {},
     "output_type": "execute_result"
    }
   ],
   "source": [
    "s1 = pd.Series(range(6))\n",
    "s2 = pd.Series(range(6,12))\n",
    "df = pd.concat([s1, s2], axis=1)\n",
    "df"
   ]
  },
  {
   "cell_type": "markdown",
   "id": "1bb3792f",
   "metadata": {},
   "source": [
    "Przykład 2: Różne indeksy dla poszczególnych serii danych"
   ]
  },
  {
   "cell_type": "code",
   "execution_count": 55,
   "id": "d17eb9bc",
   "metadata": {},
   "outputs": [
    {
     "data": {
      "text/html": [
       "<div>\n",
       "<style scoped>\n",
       "    .dataframe tbody tr th:only-of-type {\n",
       "        vertical-align: middle;\n",
       "    }\n",
       "\n",
       "    .dataframe tbody tr th {\n",
       "        vertical-align: top;\n",
       "    }\n",
       "\n",
       "    .dataframe thead th {\n",
       "        text-align: right;\n",
       "    }\n",
       "</style>\n",
       "<table border=\"1\" class=\"dataframe\">\n",
       "  <thead>\n",
       "    <tr style=\"text-align: right;\">\n",
       "      <th></th>\n",
       "      <th>0</th>\n",
       "      <th>1</th>\n",
       "    </tr>\n",
       "  </thead>\n",
       "  <tbody>\n",
       "    <tr>\n",
       "      <th>0</th>\n",
       "      <td>0.0</td>\n",
       "      <td>NaN</td>\n",
       "    </tr>\n",
       "    <tr>\n",
       "      <th>1</th>\n",
       "      <td>1.0</td>\n",
       "      <td>NaN</td>\n",
       "    </tr>\n",
       "    <tr>\n",
       "      <th>2</th>\n",
       "      <td>2.0</td>\n",
       "      <td>NaN</td>\n",
       "    </tr>\n",
       "    <tr>\n",
       "      <th>3</th>\n",
       "      <td>3.0</td>\n",
       "      <td>1.0</td>\n",
       "    </tr>\n",
       "    <tr>\n",
       "      <th>4</th>\n",
       "      <td>4.0</td>\n",
       "      <td>1.0</td>\n",
       "    </tr>\n",
       "    <tr>\n",
       "      <th>5</th>\n",
       "      <td>5.0</td>\n",
       "      <td>4.0</td>\n",
       "    </tr>\n",
       "    <tr>\n",
       "      <th>6</th>\n",
       "      <td>NaN</td>\n",
       "      <td>27.0</td>\n",
       "    </tr>\n",
       "    <tr>\n",
       "      <th>7</th>\n",
       "      <td>NaN</td>\n",
       "      <td>256.0</td>\n",
       "    </tr>\n",
       "    <tr>\n",
       "      <th>8</th>\n",
       "      <td>NaN</td>\n",
       "      <td>3125.0</td>\n",
       "    </tr>\n",
       "  </tbody>\n",
       "</table>\n",
       "</div>"
      ],
      "text/plain": [
       "     0       1\n",
       "0  0.0     NaN\n",
       "1  1.0     NaN\n",
       "2  2.0     NaN\n",
       "3  3.0     1.0\n",
       "4  4.0     1.0\n",
       "5  5.0     4.0\n",
       "6  NaN    27.0\n",
       "7  NaN   256.0\n",
       "8  NaN  3125.0"
      ]
     },
     "execution_count": 55,
     "metadata": {},
     "output_type": "execute_result"
    }
   ],
   "source": [
    "s1 = pd.Series(range(6))\n",
    "s2 = s1 ** s1\n",
    "# Zmieniamy indeks s2\n",
    "s2.index = s2.index + 3\n",
    "df = pd.concat([s1, s2], axis=1)\n",
    "df"
   ]
  },
  {
   "cell_type": "markdown",
   "id": "bb6138a0",
   "metadata": {},
   "source": [
    "Przykład 3:"
   ]
  },
  {
   "cell_type": "code",
   "execution_count": 56,
   "id": "962e941e",
   "metadata": {},
   "outputs": [
    {
     "data": {
      "text/html": [
       "<div>\n",
       "<style scoped>\n",
       "    .dataframe tbody tr th:only-of-type {\n",
       "        vertical-align: middle;\n",
       "    }\n",
       "\n",
       "    .dataframe tbody tr th {\n",
       "        vertical-align: top;\n",
       "    }\n",
       "\n",
       "    .dataframe thead th {\n",
       "        text-align: right;\n",
       "    }\n",
       "</style>\n",
       "<table border=\"1\" class=\"dataframe\">\n",
       "  <thead>\n",
       "    <tr style=\"text-align: right;\">\n",
       "      <th></th>\n",
       "      <th>A</th>\n",
       "      <th>B</th>\n",
       "    </tr>\n",
       "  </thead>\n",
       "  <tbody>\n",
       "    <tr>\n",
       "      <th>Tomek</th>\n",
       "      <td>1.0</td>\n",
       "      <td>5.0</td>\n",
       "    </tr>\n",
       "    <tr>\n",
       "      <th>Ala</th>\n",
       "      <td>4.0</td>\n",
       "      <td>2.0</td>\n",
       "    </tr>\n",
       "    <tr>\n",
       "      <th>Ola</th>\n",
       "      <td>9.0</td>\n",
       "      <td>NaN</td>\n",
       "    </tr>\n",
       "    <tr>\n",
       "      <th>Kasia</th>\n",
       "      <td>NaN</td>\n",
       "      <td>3.0</td>\n",
       "    </tr>\n",
       "  </tbody>\n",
       "</table>\n",
       "</div>"
      ],
      "text/plain": [
       "         A    B\n",
       "Tomek  1.0  5.0\n",
       "Ala    4.0  2.0\n",
       "Ola    9.0  NaN\n",
       "Kasia  NaN  3.0"
      ]
     },
     "execution_count": 56,
     "metadata": {},
     "output_type": "execute_result"
    }
   ],
   "source": [
    "s3 = pd.Series({'Tomek':1, 'Ala':4, 'Ola':9})\n",
    "s4 = pd.Series({'Kasia':3, 'Ala':2, 'Tomek':5})\n",
    "df = pd.concat({'A':s3, 'B':s4}, axis=1)\n",
    "df"
   ]
  },
  {
   "cell_type": "markdown",
   "id": "ea18f278",
   "metadata": {},
   "source": [
    "Co mogliśmy zaobserwować?\n",
    "\n",
    "- Indeksy poszczególnych serii danych były uzgadniane a brakujące wartości dla poszczególnych elementów indeksu uzupełniane NaN.\n",
    "- Kolejność elementów w wynikowym obiekcie klasy DataFrame mogła ulec zmianie w stosunku do kolejności w wejściowych seriach danych."
   ]
  },
  {
   "cell_type": "markdown",
   "id": "55917858",
   "metadata": {},
   "source": [
    "Obiekt klasy DataFrame możemy też utworzyć wczytując dane z pliku, np. w formacie CSV:"
   ]
  },
  {
   "cell_type": "code",
   "execution_count": 57,
   "id": "4a2502b0",
   "metadata": {},
   "outputs": [],
   "source": [
    "import csv\n",
    "\n",
    "with open('kraje_dane.csv', 'w', newline='') as file:\n",
    "    writer = csv.writer(file)\n",
    "    field = [\"Kraj\", \"Stolica\", \"Populacja\"]\n",
    "    writer.writerow(field)\n",
    "    writer.writerow(['Belgia', 'Bruksela', 11190846])\n",
    "    writer.writerow(['Indie', 'New Delhi', 1303171035])\n",
    "    writer.writerow(['Brazylia', 'Brasilia', 207847528])"
   ]
  },
  {
   "cell_type": "code",
   "execution_count": 58,
   "id": "1b7d9627",
   "metadata": {},
   "outputs": [
    {
     "data": {
      "text/html": [
       "<div>\n",
       "<style scoped>\n",
       "    .dataframe tbody tr th:only-of-type {\n",
       "        vertical-align: middle;\n",
       "    }\n",
       "\n",
       "    .dataframe tbody tr th {\n",
       "        vertical-align: top;\n",
       "    }\n",
       "\n",
       "    .dataframe thead th {\n",
       "        text-align: right;\n",
       "    }\n",
       "</style>\n",
       "<table border=\"1\" class=\"dataframe\">\n",
       "  <thead>\n",
       "    <tr style=\"text-align: right;\">\n",
       "      <th></th>\n",
       "      <th>Kraj</th>\n",
       "      <th>Stolica</th>\n",
       "      <th>Populacja</th>\n",
       "    </tr>\n",
       "  </thead>\n",
       "  <tbody>\n",
       "    <tr>\n",
       "      <th>0</th>\n",
       "      <td>Belgia</td>\n",
       "      <td>Bruksela</td>\n",
       "      <td>11190846</td>\n",
       "    </tr>\n",
       "    <tr>\n",
       "      <th>1</th>\n",
       "      <td>Indie</td>\n",
       "      <td>New Delhi</td>\n",
       "      <td>1303171035</td>\n",
       "    </tr>\n",
       "    <tr>\n",
       "      <th>2</th>\n",
       "      <td>Brazylia</td>\n",
       "      <td>Brasilia</td>\n",
       "      <td>207847528</td>\n",
       "    </tr>\n",
       "  </tbody>\n",
       "</table>\n",
       "</div>"
      ],
      "text/plain": [
       "       Kraj    Stolica   Populacja\n",
       "0    Belgia   Bruksela    11190846\n",
       "1     Indie  New Delhi  1303171035\n",
       "2  Brazylia   Brasilia   207847528"
      ]
     },
     "execution_count": 58,
     "metadata": {},
     "output_type": "execute_result"
    }
   ],
   "source": [
    "df = pd.read_csv('kraje_dane.csv', header=0)\n",
    "df"
   ]
  },
  {
   "cell_type": "markdown",
   "id": "6d8e56eb",
   "metadata": {},
   "source": [
    "Obiekt klasy DataFrame możemy skonwertować do tablicy NumPy za pomocą metody pandas.DataFrame.to_numpy():"
   ]
  },
  {
   "cell_type": "code",
   "execution_count": 59,
   "id": "3cc9b466",
   "metadata": {},
   "outputs": [
    {
     "data": {
      "text/plain": [
       "array([['Belgia', 'Bruksela', 11190846],\n",
       "       ['Indie', 'New Delhi', 1303171035],\n",
       "       ['Brazylia', 'Brasilia', 207847528]], dtype=object)"
      ]
     },
     "execution_count": 59,
     "metadata": {},
     "output_type": "execute_result"
    }
   ],
   "source": [
    "df_np = df.to_numpy()\n",
    "df_np"
   ]
  },
  {
   "cell_type": "markdown",
   "id": "5533f32e",
   "metadata": {},
   "source": [
    "lub za pomocą atrybutu [pandas.DataFrame.values](https://pandas.pydata.org/docs/reference/api/pandas.DataFrame.values.html):"
   ]
  },
  {
   "cell_type": "code",
   "execution_count": 60,
   "id": "e5fcf43b",
   "metadata": {},
   "outputs": [
    {
     "data": {
      "text/plain": [
       "array([['Belgia', 'Bruksela', 11190846],\n",
       "       ['Indie', 'New Delhi', 1303171035],\n",
       "       ['Brazylia', 'Brasilia', 207847528]], dtype=object)"
      ]
     },
     "execution_count": 60,
     "metadata": {},
     "output_type": "execute_result"
    }
   ],
   "source": [
    "df.values"
   ]
  },
  {
   "cell_type": "markdown",
   "id": "d42edefb",
   "metadata": {},
   "source": [
    "W łatwy sposób możemy podmienić zawartość kolumn w obiekcie DataFrame:"
   ]
  },
  {
   "cell_type": "code",
   "execution_count": 61,
   "id": "8bae2261",
   "metadata": {},
   "outputs": [
    {
     "data": {
      "text/html": [
       "<div>\n",
       "<style scoped>\n",
       "    .dataframe tbody tr th:only-of-type {\n",
       "        vertical-align: middle;\n",
       "    }\n",
       "\n",
       "    .dataframe tbody tr th {\n",
       "        vertical-align: top;\n",
       "    }\n",
       "\n",
       "    .dataframe thead th {\n",
       "        text-align: right;\n",
       "    }\n",
       "</style>\n",
       "<table border=\"1\" class=\"dataframe\">\n",
       "  <thead>\n",
       "    <tr style=\"text-align: right;\">\n",
       "      <th></th>\n",
       "      <th>Kraj</th>\n",
       "      <th>Stolica</th>\n",
       "      <th>Populacja</th>\n",
       "    </tr>\n",
       "  </thead>\n",
       "  <tbody>\n",
       "    <tr>\n",
       "      <th>0</th>\n",
       "      <td>Belgia</td>\n",
       "      <td>11190846</td>\n",
       "      <td>Bruksela</td>\n",
       "    </tr>\n",
       "    <tr>\n",
       "      <th>1</th>\n",
       "      <td>Indie</td>\n",
       "      <td>1303171035</td>\n",
       "      <td>New Delhi</td>\n",
       "    </tr>\n",
       "    <tr>\n",
       "      <th>2</th>\n",
       "      <td>Brazylia</td>\n",
       "      <td>207847528</td>\n",
       "      <td>Brasilia</td>\n",
       "    </tr>\n",
       "  </tbody>\n",
       "</table>\n",
       "</div>"
      ],
      "text/plain": [
       "       Kraj     Stolica  Populacja\n",
       "0    Belgia    11190846   Bruksela\n",
       "1     Indie  1303171035  New Delhi\n",
       "2  Brazylia   207847528   Brasilia"
      ]
     },
     "execution_count": 61,
     "metadata": {},
     "output_type": "execute_result"
    }
   ],
   "source": [
    "df[['Stolica', 'Populacja']] = df[['Populacja', 'Stolica']]\n",
    "df"
   ]
  },
  {
   "cell_type": "markdown",
   "id": "1ca1063e",
   "metadata": {},
   "source": [
    "Tylko, że w tym przypadku nie ma to sensu. Dlatego przywracamy pierwotną postać:"
   ]
  },
  {
   "cell_type": "code",
   "execution_count": 62,
   "id": "c608a5af",
   "metadata": {},
   "outputs": [
    {
     "data": {
      "text/html": [
       "<div>\n",
       "<style scoped>\n",
       "    .dataframe tbody tr th:only-of-type {\n",
       "        vertical-align: middle;\n",
       "    }\n",
       "\n",
       "    .dataframe tbody tr th {\n",
       "        vertical-align: top;\n",
       "    }\n",
       "\n",
       "    .dataframe thead th {\n",
       "        text-align: right;\n",
       "    }\n",
       "</style>\n",
       "<table border=\"1\" class=\"dataframe\">\n",
       "  <thead>\n",
       "    <tr style=\"text-align: right;\">\n",
       "      <th></th>\n",
       "      <th>Kraj</th>\n",
       "      <th>Stolica</th>\n",
       "      <th>Populacja</th>\n",
       "    </tr>\n",
       "  </thead>\n",
       "  <tbody>\n",
       "    <tr>\n",
       "      <th>0</th>\n",
       "      <td>Belgia</td>\n",
       "      <td>Bruksela</td>\n",
       "      <td>11190846</td>\n",
       "    </tr>\n",
       "    <tr>\n",
       "      <th>1</th>\n",
       "      <td>Indie</td>\n",
       "      <td>New Delhi</td>\n",
       "      <td>1303171035</td>\n",
       "    </tr>\n",
       "    <tr>\n",
       "      <th>2</th>\n",
       "      <td>Brazylia</td>\n",
       "      <td>Brasilia</td>\n",
       "      <td>207847528</td>\n",
       "    </tr>\n",
       "  </tbody>\n",
       "</table>\n",
       "</div>"
      ],
      "text/plain": [
       "       Kraj    Stolica   Populacja\n",
       "0    Belgia   Bruksela    11190846\n",
       "1     Indie  New Delhi  1303171035\n",
       "2  Brazylia   Brasilia   207847528"
      ]
     },
     "execution_count": 62,
     "metadata": {},
     "output_type": "execute_result"
    }
   ],
   "source": [
    "df[['Stolica', 'Populacja']] = df[['Populacja', 'Stolica']]\n",
    "df"
   ]
  },
  {
   "cell_type": "markdown",
   "id": "44ed6b9c",
   "metadata": {},
   "source": [
    "---\n",
    "Wczytamy teraz słynny zbiór danych z pomiarami kwiatów irysa, udostępniony po raz pierwszy przez Ronalda Fishera w roku 1936. Jest to jeden z najbardziej znanych zbiorów w analizie danych, stosowany do konstruowania modeli do rozwiązywania zadania klasyfikacji. Zbiór jest udostępniony m. in. w repozytorium [UC Irvine Machine Learning Repository](https://archive.ics.uci.edu/dataset/53/iris).\n",
    "\n",
    "Zbiór składa się ze 150 obserwacji, po 50 dla każdego z trzech gatunków kwiatów irysa: irys (kosaciec) szczecinkowaty (ang. *setosa*), irys wirginijski (ang. *virginica*) i irys różnobarwny (ang. *versicolor*). Mierzone były\n",
    "4 cechy (w centymetrach): długości i szerokości działki kielicha (ang. *sepal*) oraz płatka (ang. *petal*)."
   ]
  },
  {
   "cell_type": "code",
   "execution_count": 63,
   "id": "99eed66c",
   "metadata": {},
   "outputs": [],
   "source": [
    "url = 'https://archive.ics.uci.edu/ml/machine-learning-databases/iris/iris.data'\n",
    "df = pd.read_csv(url, header=None)\n",
    "df.columns = ['sepal length','sepal width','petal length','petal width','class']"
   ]
  },
  {
   "cell_type": "markdown",
   "id": "67a04484",
   "metadata": {},
   "source": [
    "Wypiszmy informacje o utworzonej ramce danych. "
   ]
  },
  {
   "cell_type": "code",
   "execution_count": 64,
   "id": "4b836b6c",
   "metadata": {},
   "outputs": [
    {
     "name": "stdout",
     "output_type": "stream",
     "text": [
      "<class 'pandas.core.frame.DataFrame'>\n",
      "RangeIndex: 150 entries, 0 to 149\n",
      "Data columns (total 5 columns):\n",
      " #   Column        Non-Null Count  Dtype  \n",
      "---  ------        --------------  -----  \n",
      " 0   sepal length  150 non-null    float64\n",
      " 1   sepal width   150 non-null    float64\n",
      " 2   petal length  150 non-null    float64\n",
      " 3   petal width   150 non-null    float64\n",
      " 4   class         150 non-null    object \n",
      "dtypes: float64(4), object(1)\n",
      "memory usage: 6.0+ KB\n"
     ]
    }
   ],
   "source": [
    "df.info()"
   ]
  },
  {
   "cell_type": "markdown",
   "id": "49826cd7",
   "metadata": {},
   "source": [
    "W szczególności widzimy, że nasz zbiór danych nie zawiera brakujących danych.\n",
    "\n",
    "Wypiszmy pierwszych kilka wierszy:"
   ]
  },
  {
   "cell_type": "code",
   "execution_count": 65,
   "id": "dfe83574",
   "metadata": {},
   "outputs": [
    {
     "data": {
      "text/html": [
       "<div>\n",
       "<style scoped>\n",
       "    .dataframe tbody tr th:only-of-type {\n",
       "        vertical-align: middle;\n",
       "    }\n",
       "\n",
       "    .dataframe tbody tr th {\n",
       "        vertical-align: top;\n",
       "    }\n",
       "\n",
       "    .dataframe thead th {\n",
       "        text-align: right;\n",
       "    }\n",
       "</style>\n",
       "<table border=\"1\" class=\"dataframe\">\n",
       "  <thead>\n",
       "    <tr style=\"text-align: right;\">\n",
       "      <th></th>\n",
       "      <th>sepal length</th>\n",
       "      <th>sepal width</th>\n",
       "      <th>petal length</th>\n",
       "      <th>petal width</th>\n",
       "      <th>class</th>\n",
       "    </tr>\n",
       "  </thead>\n",
       "  <tbody>\n",
       "    <tr>\n",
       "      <th>0</th>\n",
       "      <td>5.1</td>\n",
       "      <td>3.5</td>\n",
       "      <td>1.4</td>\n",
       "      <td>0.2</td>\n",
       "      <td>Iris-setosa</td>\n",
       "    </tr>\n",
       "    <tr>\n",
       "      <th>1</th>\n",
       "      <td>4.9</td>\n",
       "      <td>3.0</td>\n",
       "      <td>1.4</td>\n",
       "      <td>0.2</td>\n",
       "      <td>Iris-setosa</td>\n",
       "    </tr>\n",
       "    <tr>\n",
       "      <th>2</th>\n",
       "      <td>4.7</td>\n",
       "      <td>3.2</td>\n",
       "      <td>1.3</td>\n",
       "      <td>0.2</td>\n",
       "      <td>Iris-setosa</td>\n",
       "    </tr>\n",
       "    <tr>\n",
       "      <th>3</th>\n",
       "      <td>4.6</td>\n",
       "      <td>3.1</td>\n",
       "      <td>1.5</td>\n",
       "      <td>0.2</td>\n",
       "      <td>Iris-setosa</td>\n",
       "    </tr>\n",
       "    <tr>\n",
       "      <th>4</th>\n",
       "      <td>5.0</td>\n",
       "      <td>3.6</td>\n",
       "      <td>1.4</td>\n",
       "      <td>0.2</td>\n",
       "      <td>Iris-setosa</td>\n",
       "    </tr>\n",
       "  </tbody>\n",
       "</table>\n",
       "</div>"
      ],
      "text/plain": [
       "   sepal length  sepal width  petal length  petal width        class\n",
       "0           5.1          3.5           1.4          0.2  Iris-setosa\n",
       "1           4.9          3.0           1.4          0.2  Iris-setosa\n",
       "2           4.7          3.2           1.3          0.2  Iris-setosa\n",
       "3           4.6          3.1           1.5          0.2  Iris-setosa\n",
       "4           5.0          3.6           1.4          0.2  Iris-setosa"
      ]
     },
     "execution_count": 65,
     "metadata": {},
     "output_type": "execute_result"
    }
   ],
   "source": [
    "df.head()"
   ]
  },
  {
   "cell_type": "markdown",
   "id": "a5864296",
   "metadata": {},
   "source": [
    "i kilka ostatnich wierszy: "
   ]
  },
  {
   "cell_type": "code",
   "execution_count": 66,
   "id": "38ab9528",
   "metadata": {},
   "outputs": [
    {
     "data": {
      "text/html": [
       "<div>\n",
       "<style scoped>\n",
       "    .dataframe tbody tr th:only-of-type {\n",
       "        vertical-align: middle;\n",
       "    }\n",
       "\n",
       "    .dataframe tbody tr th {\n",
       "        vertical-align: top;\n",
       "    }\n",
       "\n",
       "    .dataframe thead th {\n",
       "        text-align: right;\n",
       "    }\n",
       "</style>\n",
       "<table border=\"1\" class=\"dataframe\">\n",
       "  <thead>\n",
       "    <tr style=\"text-align: right;\">\n",
       "      <th></th>\n",
       "      <th>sepal length</th>\n",
       "      <th>sepal width</th>\n",
       "      <th>petal length</th>\n",
       "      <th>petal width</th>\n",
       "      <th>class</th>\n",
       "    </tr>\n",
       "  </thead>\n",
       "  <tbody>\n",
       "    <tr>\n",
       "      <th>145</th>\n",
       "      <td>6.7</td>\n",
       "      <td>3.0</td>\n",
       "      <td>5.2</td>\n",
       "      <td>2.3</td>\n",
       "      <td>Iris-virginica</td>\n",
       "    </tr>\n",
       "    <tr>\n",
       "      <th>146</th>\n",
       "      <td>6.3</td>\n",
       "      <td>2.5</td>\n",
       "      <td>5.0</td>\n",
       "      <td>1.9</td>\n",
       "      <td>Iris-virginica</td>\n",
       "    </tr>\n",
       "    <tr>\n",
       "      <th>147</th>\n",
       "      <td>6.5</td>\n",
       "      <td>3.0</td>\n",
       "      <td>5.2</td>\n",
       "      <td>2.0</td>\n",
       "      <td>Iris-virginica</td>\n",
       "    </tr>\n",
       "    <tr>\n",
       "      <th>148</th>\n",
       "      <td>6.2</td>\n",
       "      <td>3.4</td>\n",
       "      <td>5.4</td>\n",
       "      <td>2.3</td>\n",
       "      <td>Iris-virginica</td>\n",
       "    </tr>\n",
       "    <tr>\n",
       "      <th>149</th>\n",
       "      <td>5.9</td>\n",
       "      <td>3.0</td>\n",
       "      <td>5.1</td>\n",
       "      <td>1.8</td>\n",
       "      <td>Iris-virginica</td>\n",
       "    </tr>\n",
       "  </tbody>\n",
       "</table>\n",
       "</div>"
      ],
      "text/plain": [
       "     sepal length  sepal width  petal length  petal width           class\n",
       "145           6.7          3.0           5.2          2.3  Iris-virginica\n",
       "146           6.3          2.5           5.0          1.9  Iris-virginica\n",
       "147           6.5          3.0           5.2          2.0  Iris-virginica\n",
       "148           6.2          3.4           5.4          2.3  Iris-virginica\n",
       "149           5.9          3.0           5.1          1.8  Iris-virginica"
      ]
     },
     "execution_count": 66,
     "metadata": {},
     "output_type": "execute_result"
    }
   ],
   "source": [
    "df.tail()"
   ]
  },
  {
   "cell_type": "markdown",
   "id": "7117cf69",
   "metadata": {},
   "source": [
    "W łatwy sposób możemy też policzyć podstawowe statystyki dla poszczególnych kolumn zawierających dane liczbowe:"
   ]
  },
  {
   "cell_type": "code",
   "execution_count": 67,
   "id": "ac17c673",
   "metadata": {},
   "outputs": [
    {
     "data": {
      "text/html": [
       "<div>\n",
       "<style scoped>\n",
       "    .dataframe tbody tr th:only-of-type {\n",
       "        vertical-align: middle;\n",
       "    }\n",
       "\n",
       "    .dataframe tbody tr th {\n",
       "        vertical-align: top;\n",
       "    }\n",
       "\n",
       "    .dataframe thead th {\n",
       "        text-align: right;\n",
       "    }\n",
       "</style>\n",
       "<table border=\"1\" class=\"dataframe\">\n",
       "  <thead>\n",
       "    <tr style=\"text-align: right;\">\n",
       "      <th></th>\n",
       "      <th>sepal length</th>\n",
       "      <th>sepal width</th>\n",
       "      <th>petal length</th>\n",
       "      <th>petal width</th>\n",
       "    </tr>\n",
       "  </thead>\n",
       "  <tbody>\n",
       "    <tr>\n",
       "      <th>count</th>\n",
       "      <td>150.000000</td>\n",
       "      <td>150.000000</td>\n",
       "      <td>150.000000</td>\n",
       "      <td>150.000000</td>\n",
       "    </tr>\n",
       "    <tr>\n",
       "      <th>mean</th>\n",
       "      <td>5.843333</td>\n",
       "      <td>3.054000</td>\n",
       "      <td>3.758667</td>\n",
       "      <td>1.198667</td>\n",
       "    </tr>\n",
       "    <tr>\n",
       "      <th>std</th>\n",
       "      <td>0.828066</td>\n",
       "      <td>0.433594</td>\n",
       "      <td>1.764420</td>\n",
       "      <td>0.763161</td>\n",
       "    </tr>\n",
       "    <tr>\n",
       "      <th>min</th>\n",
       "      <td>4.300000</td>\n",
       "      <td>2.000000</td>\n",
       "      <td>1.000000</td>\n",
       "      <td>0.100000</td>\n",
       "    </tr>\n",
       "    <tr>\n",
       "      <th>25%</th>\n",
       "      <td>5.100000</td>\n",
       "      <td>2.800000</td>\n",
       "      <td>1.600000</td>\n",
       "      <td>0.300000</td>\n",
       "    </tr>\n",
       "    <tr>\n",
       "      <th>50%</th>\n",
       "      <td>5.800000</td>\n",
       "      <td>3.000000</td>\n",
       "      <td>4.350000</td>\n",
       "      <td>1.300000</td>\n",
       "    </tr>\n",
       "    <tr>\n",
       "      <th>75%</th>\n",
       "      <td>6.400000</td>\n",
       "      <td>3.300000</td>\n",
       "      <td>5.100000</td>\n",
       "      <td>1.800000</td>\n",
       "    </tr>\n",
       "    <tr>\n",
       "      <th>max</th>\n",
       "      <td>7.900000</td>\n",
       "      <td>4.400000</td>\n",
       "      <td>6.900000</td>\n",
       "      <td>2.500000</td>\n",
       "    </tr>\n",
       "  </tbody>\n",
       "</table>\n",
       "</div>"
      ],
      "text/plain": [
       "       sepal length  sepal width  petal length  petal width\n",
       "count    150.000000   150.000000    150.000000   150.000000\n",
       "mean       5.843333     3.054000      3.758667     1.198667\n",
       "std        0.828066     0.433594      1.764420     0.763161\n",
       "min        4.300000     2.000000      1.000000     0.100000\n",
       "25%        5.100000     2.800000      1.600000     0.300000\n",
       "50%        5.800000     3.000000      4.350000     1.300000\n",
       "75%        6.400000     3.300000      5.100000     1.800000\n",
       "max        7.900000     4.400000      6.900000     2.500000"
      ]
     },
     "execution_count": 67,
     "metadata": {},
     "output_type": "execute_result"
    }
   ],
   "source": [
    "df.describe()"
   ]
  },
  {
   "cell_type": "markdown",
   "id": "570c5336",
   "metadata": {},
   "source": [
    "Mamy możliwość wybrania pojedynczej kolumny\n",
    "\n",
    "- do serii danych:"
   ]
  },
  {
   "cell_type": "code",
   "execution_count": 68,
   "id": "50448acb",
   "metadata": {},
   "outputs": [
    {
     "data": {
      "text/plain": [
       "0      5.1\n",
       "1      4.9\n",
       "2      4.7\n",
       "3      4.6\n",
       "4      5.0\n",
       "      ... \n",
       "145    6.7\n",
       "146    6.3\n",
       "147    6.5\n",
       "148    6.2\n",
       "149    5.9\n",
       "Name: sepal length, Length: 150, dtype: float64"
      ]
     },
     "execution_count": 68,
     "metadata": {},
     "output_type": "execute_result"
    }
   ],
   "source": [
    "df['sepal length']"
   ]
  },
  {
   "cell_type": "markdown",
   "id": "883ab686",
   "metadata": {},
   "source": [
    "- do ramki danych (zwróćmy uwagę na użycie podwójnego nawiasowania):"
   ]
  },
  {
   "cell_type": "code",
   "execution_count": 69,
   "id": "51c55272",
   "metadata": {},
   "outputs": [
    {
     "data": {
      "text/html": [
       "<div>\n",
       "<style scoped>\n",
       "    .dataframe tbody tr th:only-of-type {\n",
       "        vertical-align: middle;\n",
       "    }\n",
       "\n",
       "    .dataframe tbody tr th {\n",
       "        vertical-align: top;\n",
       "    }\n",
       "\n",
       "    .dataframe thead th {\n",
       "        text-align: right;\n",
       "    }\n",
       "</style>\n",
       "<table border=\"1\" class=\"dataframe\">\n",
       "  <thead>\n",
       "    <tr style=\"text-align: right;\">\n",
       "      <th></th>\n",
       "      <th>sepal length</th>\n",
       "    </tr>\n",
       "  </thead>\n",
       "  <tbody>\n",
       "    <tr>\n",
       "      <th>0</th>\n",
       "      <td>5.1</td>\n",
       "    </tr>\n",
       "    <tr>\n",
       "      <th>1</th>\n",
       "      <td>4.9</td>\n",
       "    </tr>\n",
       "    <tr>\n",
       "      <th>2</th>\n",
       "      <td>4.7</td>\n",
       "    </tr>\n",
       "    <tr>\n",
       "      <th>3</th>\n",
       "      <td>4.6</td>\n",
       "    </tr>\n",
       "    <tr>\n",
       "      <th>4</th>\n",
       "      <td>5.0</td>\n",
       "    </tr>\n",
       "    <tr>\n",
       "      <th>...</th>\n",
       "      <td>...</td>\n",
       "    </tr>\n",
       "    <tr>\n",
       "      <th>145</th>\n",
       "      <td>6.7</td>\n",
       "    </tr>\n",
       "    <tr>\n",
       "      <th>146</th>\n",
       "      <td>6.3</td>\n",
       "    </tr>\n",
       "    <tr>\n",
       "      <th>147</th>\n",
       "      <td>6.5</td>\n",
       "    </tr>\n",
       "    <tr>\n",
       "      <th>148</th>\n",
       "      <td>6.2</td>\n",
       "    </tr>\n",
       "    <tr>\n",
       "      <th>149</th>\n",
       "      <td>5.9</td>\n",
       "    </tr>\n",
       "  </tbody>\n",
       "</table>\n",
       "<p>150 rows × 1 columns</p>\n",
       "</div>"
      ],
      "text/plain": [
       "     sepal length\n",
       "0             5.1\n",
       "1             4.9\n",
       "2             4.7\n",
       "3             4.6\n",
       "4             5.0\n",
       "..            ...\n",
       "145           6.7\n",
       "146           6.3\n",
       "147           6.5\n",
       "148           6.2\n",
       "149           5.9\n",
       "\n",
       "[150 rows x 1 columns]"
      ]
     },
     "execution_count": 69,
     "metadata": {},
     "output_type": "execute_result"
    }
   ],
   "source": [
    "df[['sepal length']]"
   ]
  },
  {
   "cell_type": "markdown",
   "id": "a6470231",
   "metadata": {},
   "source": [
    "W przypadku wyboru więcej niż jednej kolumny, musimy użyć podwójnego nawiasowania: "
   ]
  },
  {
   "cell_type": "code",
   "execution_count": 70,
   "id": "03acb2f6",
   "metadata": {},
   "outputs": [
    {
     "data": {
      "text/html": [
       "<div>\n",
       "<style scoped>\n",
       "    .dataframe tbody tr th:only-of-type {\n",
       "        vertical-align: middle;\n",
       "    }\n",
       "\n",
       "    .dataframe tbody tr th {\n",
       "        vertical-align: top;\n",
       "    }\n",
       "\n",
       "    .dataframe thead th {\n",
       "        text-align: right;\n",
       "    }\n",
       "</style>\n",
       "<table border=\"1\" class=\"dataframe\">\n",
       "  <thead>\n",
       "    <tr style=\"text-align: right;\">\n",
       "      <th></th>\n",
       "      <th>sepal length</th>\n",
       "      <th>petal width</th>\n",
       "    </tr>\n",
       "  </thead>\n",
       "  <tbody>\n",
       "    <tr>\n",
       "      <th>0</th>\n",
       "      <td>5.1</td>\n",
       "      <td>0.2</td>\n",
       "    </tr>\n",
       "    <tr>\n",
       "      <th>1</th>\n",
       "      <td>4.9</td>\n",
       "      <td>0.2</td>\n",
       "    </tr>\n",
       "    <tr>\n",
       "      <th>2</th>\n",
       "      <td>4.7</td>\n",
       "      <td>0.2</td>\n",
       "    </tr>\n",
       "    <tr>\n",
       "      <th>3</th>\n",
       "      <td>4.6</td>\n",
       "      <td>0.2</td>\n",
       "    </tr>\n",
       "    <tr>\n",
       "      <th>4</th>\n",
       "      <td>5.0</td>\n",
       "      <td>0.2</td>\n",
       "    </tr>\n",
       "    <tr>\n",
       "      <th>...</th>\n",
       "      <td>...</td>\n",
       "      <td>...</td>\n",
       "    </tr>\n",
       "    <tr>\n",
       "      <th>145</th>\n",
       "      <td>6.7</td>\n",
       "      <td>2.3</td>\n",
       "    </tr>\n",
       "    <tr>\n",
       "      <th>146</th>\n",
       "      <td>6.3</td>\n",
       "      <td>1.9</td>\n",
       "    </tr>\n",
       "    <tr>\n",
       "      <th>147</th>\n",
       "      <td>6.5</td>\n",
       "      <td>2.0</td>\n",
       "    </tr>\n",
       "    <tr>\n",
       "      <th>148</th>\n",
       "      <td>6.2</td>\n",
       "      <td>2.3</td>\n",
       "    </tr>\n",
       "    <tr>\n",
       "      <th>149</th>\n",
       "      <td>5.9</td>\n",
       "      <td>1.8</td>\n",
       "    </tr>\n",
       "  </tbody>\n",
       "</table>\n",
       "<p>150 rows × 2 columns</p>\n",
       "</div>"
      ],
      "text/plain": [
       "     sepal length  petal width\n",
       "0             5.1          0.2\n",
       "1             4.9          0.2\n",
       "2             4.7          0.2\n",
       "3             4.6          0.2\n",
       "4             5.0          0.2\n",
       "..            ...          ...\n",
       "145           6.7          2.3\n",
       "146           6.3          1.9\n",
       "147           6.5          2.0\n",
       "148           6.2          2.3\n",
       "149           5.9          1.8\n",
       "\n",
       "[150 rows x 2 columns]"
      ]
     },
     "execution_count": 70,
     "metadata": {},
     "output_type": "execute_result"
    }
   ],
   "source": [
    "df[['sepal length', 'petal width']]"
   ]
  },
  {
   "cell_type": "markdown",
   "id": "30b5f488",
   "metadata": {},
   "source": [
    "To już nie zadziała:"
   ]
  },
  {
   "cell_type": "code",
   "execution_count": 71,
   "id": "fc45b150",
   "metadata": {},
   "outputs": [
    {
     "ename": "KeyError",
     "evalue": "('sepal length', 'petal width')",
     "output_type": "error",
     "traceback": [
      "\u001b[1;31m---------------------------------------------------------------------------\u001b[0m",
      "\u001b[1;31mKeyError\u001b[0m                                  Traceback (most recent call last)",
      "File \u001b[1;32m~\\.conda\\envs\\Python_Course_2024\\lib\\site-packages\\pandas\\core\\indexes\\base.py:3791\u001b[0m, in \u001b[0;36mIndex.get_loc\u001b[1;34m(self, key)\u001b[0m\n\u001b[0;32m   3790\u001b[0m \u001b[38;5;28;01mtry\u001b[39;00m:\n\u001b[1;32m-> 3791\u001b[0m     \u001b[38;5;28;01mreturn\u001b[39;00m \u001b[38;5;28;43mself\u001b[39;49m\u001b[38;5;241;43m.\u001b[39;49m\u001b[43m_engine\u001b[49m\u001b[38;5;241;43m.\u001b[39;49m\u001b[43mget_loc\u001b[49m\u001b[43m(\u001b[49m\u001b[43mcasted_key\u001b[49m\u001b[43m)\u001b[49m\n\u001b[0;32m   3792\u001b[0m \u001b[38;5;28;01mexcept\u001b[39;00m \u001b[38;5;167;01mKeyError\u001b[39;00m \u001b[38;5;28;01mas\u001b[39;00m err:\n",
      "File \u001b[1;32mindex.pyx:152\u001b[0m, in \u001b[0;36mpandas._libs.index.IndexEngine.get_loc\u001b[1;34m()\u001b[0m\n",
      "File \u001b[1;32mindex.pyx:181\u001b[0m, in \u001b[0;36mpandas._libs.index.IndexEngine.get_loc\u001b[1;34m()\u001b[0m\n",
      "File \u001b[1;32mpandas\\_libs\\hashtable_class_helper.pxi:7080\u001b[0m, in \u001b[0;36mpandas._libs.hashtable.PyObjectHashTable.get_item\u001b[1;34m()\u001b[0m\n",
      "File \u001b[1;32mpandas\\_libs\\hashtable_class_helper.pxi:7088\u001b[0m, in \u001b[0;36mpandas._libs.hashtable.PyObjectHashTable.get_item\u001b[1;34m()\u001b[0m\n",
      "\u001b[1;31mKeyError\u001b[0m: ('sepal length', 'petal width')",
      "\nThe above exception was the direct cause of the following exception:\n",
      "\u001b[1;31mKeyError\u001b[0m                                  Traceback (most recent call last)",
      "Cell \u001b[1;32mIn[71], line 1\u001b[0m\n\u001b[1;32m----> 1\u001b[0m \u001b[43mdf\u001b[49m\u001b[43m[\u001b[49m\u001b[38;5;124;43m'\u001b[39;49m\u001b[38;5;124;43msepal length\u001b[39;49m\u001b[38;5;124;43m'\u001b[39;49m\u001b[43m,\u001b[49m\u001b[43m \u001b[49m\u001b[38;5;124;43m'\u001b[39;49m\u001b[38;5;124;43mpetal width\u001b[39;49m\u001b[38;5;124;43m'\u001b[39;49m\u001b[43m]\u001b[49m\n",
      "File \u001b[1;32m~\\.conda\\envs\\Python_Course_2024\\lib\\site-packages\\pandas\\core\\frame.py:3893\u001b[0m, in \u001b[0;36mDataFrame.__getitem__\u001b[1;34m(self, key)\u001b[0m\n\u001b[0;32m   3891\u001b[0m \u001b[38;5;28;01mif\u001b[39;00m \u001b[38;5;28mself\u001b[39m\u001b[38;5;241m.\u001b[39mcolumns\u001b[38;5;241m.\u001b[39mnlevels \u001b[38;5;241m>\u001b[39m \u001b[38;5;241m1\u001b[39m:\n\u001b[0;32m   3892\u001b[0m     \u001b[38;5;28;01mreturn\u001b[39;00m \u001b[38;5;28mself\u001b[39m\u001b[38;5;241m.\u001b[39m_getitem_multilevel(key)\n\u001b[1;32m-> 3893\u001b[0m indexer \u001b[38;5;241m=\u001b[39m \u001b[38;5;28;43mself\u001b[39;49m\u001b[38;5;241;43m.\u001b[39;49m\u001b[43mcolumns\u001b[49m\u001b[38;5;241;43m.\u001b[39;49m\u001b[43mget_loc\u001b[49m\u001b[43m(\u001b[49m\u001b[43mkey\u001b[49m\u001b[43m)\u001b[49m\n\u001b[0;32m   3894\u001b[0m \u001b[38;5;28;01mif\u001b[39;00m is_integer(indexer):\n\u001b[0;32m   3895\u001b[0m     indexer \u001b[38;5;241m=\u001b[39m [indexer]\n",
      "File \u001b[1;32m~\\.conda\\envs\\Python_Course_2024\\lib\\site-packages\\pandas\\core\\indexes\\base.py:3798\u001b[0m, in \u001b[0;36mIndex.get_loc\u001b[1;34m(self, key)\u001b[0m\n\u001b[0;32m   3793\u001b[0m     \u001b[38;5;28;01mif\u001b[39;00m \u001b[38;5;28misinstance\u001b[39m(casted_key, \u001b[38;5;28mslice\u001b[39m) \u001b[38;5;129;01mor\u001b[39;00m (\n\u001b[0;32m   3794\u001b[0m         \u001b[38;5;28misinstance\u001b[39m(casted_key, abc\u001b[38;5;241m.\u001b[39mIterable)\n\u001b[0;32m   3795\u001b[0m         \u001b[38;5;129;01mand\u001b[39;00m \u001b[38;5;28many\u001b[39m(\u001b[38;5;28misinstance\u001b[39m(x, \u001b[38;5;28mslice\u001b[39m) \u001b[38;5;28;01mfor\u001b[39;00m x \u001b[38;5;129;01min\u001b[39;00m casted_key)\n\u001b[0;32m   3796\u001b[0m     ):\n\u001b[0;32m   3797\u001b[0m         \u001b[38;5;28;01mraise\u001b[39;00m InvalidIndexError(key)\n\u001b[1;32m-> 3798\u001b[0m     \u001b[38;5;28;01mraise\u001b[39;00m \u001b[38;5;167;01mKeyError\u001b[39;00m(key) \u001b[38;5;28;01mfrom\u001b[39;00m \u001b[38;5;21;01merr\u001b[39;00m\n\u001b[0;32m   3799\u001b[0m \u001b[38;5;28;01mexcept\u001b[39;00m \u001b[38;5;167;01mTypeError\u001b[39;00m:\n\u001b[0;32m   3800\u001b[0m     \u001b[38;5;66;03m# If we have a listlike key, _check_indexing_error will raise\u001b[39;00m\n\u001b[0;32m   3801\u001b[0m     \u001b[38;5;66;03m#  InvalidIndexError. Otherwise we fall through and re-raise\u001b[39;00m\n\u001b[0;32m   3802\u001b[0m     \u001b[38;5;66;03m#  the TypeError.\u001b[39;00m\n\u001b[0;32m   3803\u001b[0m     \u001b[38;5;28mself\u001b[39m\u001b[38;5;241m.\u001b[39m_check_indexing_error(key)\n",
      "\u001b[1;31mKeyError\u001b[0m: ('sepal length', 'petal width')"
     ]
    }
   ],
   "source": [
    "df['sepal length', 'petal width']"
   ]
  },
  {
   "cell_type": "markdown",
   "id": "56a310f8",
   "metadata": {},
   "source": [
    "Możemy dokonywać wyboru kolumn za pomocą zakresu etykiet lub wartości boolowskich:"
   ]
  },
  {
   "cell_type": "code",
   "execution_count": 72,
   "id": "145e700a",
   "metadata": {},
   "outputs": [
    {
     "data": {
      "text/html": [
       "<div>\n",
       "<style scoped>\n",
       "    .dataframe tbody tr th:only-of-type {\n",
       "        vertical-align: middle;\n",
       "    }\n",
       "\n",
       "    .dataframe tbody tr th {\n",
       "        vertical-align: top;\n",
       "    }\n",
       "\n",
       "    .dataframe thead th {\n",
       "        text-align: right;\n",
       "    }\n",
       "</style>\n",
       "<table border=\"1\" class=\"dataframe\">\n",
       "  <thead>\n",
       "    <tr style=\"text-align: right;\">\n",
       "      <th></th>\n",
       "      <th>sepal length</th>\n",
       "      <th>sepal width</th>\n",
       "      <th>petal length</th>\n",
       "    </tr>\n",
       "  </thead>\n",
       "  <tbody>\n",
       "    <tr>\n",
       "      <th>0</th>\n",
       "      <td>5.1</td>\n",
       "      <td>3.5</td>\n",
       "      <td>1.4</td>\n",
       "    </tr>\n",
       "    <tr>\n",
       "      <th>1</th>\n",
       "      <td>4.9</td>\n",
       "      <td>3.0</td>\n",
       "      <td>1.4</td>\n",
       "    </tr>\n",
       "    <tr>\n",
       "      <th>2</th>\n",
       "      <td>4.7</td>\n",
       "      <td>3.2</td>\n",
       "      <td>1.3</td>\n",
       "    </tr>\n",
       "    <tr>\n",
       "      <th>3</th>\n",
       "      <td>4.6</td>\n",
       "      <td>3.1</td>\n",
       "      <td>1.5</td>\n",
       "    </tr>\n",
       "    <tr>\n",
       "      <th>4</th>\n",
       "      <td>5.0</td>\n",
       "      <td>3.6</td>\n",
       "      <td>1.4</td>\n",
       "    </tr>\n",
       "    <tr>\n",
       "      <th>...</th>\n",
       "      <td>...</td>\n",
       "      <td>...</td>\n",
       "      <td>...</td>\n",
       "    </tr>\n",
       "    <tr>\n",
       "      <th>145</th>\n",
       "      <td>6.7</td>\n",
       "      <td>3.0</td>\n",
       "      <td>5.2</td>\n",
       "    </tr>\n",
       "    <tr>\n",
       "      <th>146</th>\n",
       "      <td>6.3</td>\n",
       "      <td>2.5</td>\n",
       "      <td>5.0</td>\n",
       "    </tr>\n",
       "    <tr>\n",
       "      <th>147</th>\n",
       "      <td>6.5</td>\n",
       "      <td>3.0</td>\n",
       "      <td>5.2</td>\n",
       "    </tr>\n",
       "    <tr>\n",
       "      <th>148</th>\n",
       "      <td>6.2</td>\n",
       "      <td>3.4</td>\n",
       "      <td>5.4</td>\n",
       "    </tr>\n",
       "    <tr>\n",
       "      <th>149</th>\n",
       "      <td>5.9</td>\n",
       "      <td>3.0</td>\n",
       "      <td>5.1</td>\n",
       "    </tr>\n",
       "  </tbody>\n",
       "</table>\n",
       "<p>150 rows × 3 columns</p>\n",
       "</div>"
      ],
      "text/plain": [
       "     sepal length  sepal width  petal length\n",
       "0             5.1          3.5           1.4\n",
       "1             4.9          3.0           1.4\n",
       "2             4.7          3.2           1.3\n",
       "3             4.6          3.1           1.5\n",
       "4             5.0          3.6           1.4\n",
       "..            ...          ...           ...\n",
       "145           6.7          3.0           5.2\n",
       "146           6.3          2.5           5.0\n",
       "147           6.5          3.0           5.2\n",
       "148           6.2          3.4           5.4\n",
       "149           5.9          3.0           5.1\n",
       "\n",
       "[150 rows x 3 columns]"
      ]
     },
     "execution_count": 72,
     "metadata": {},
     "output_type": "execute_result"
    }
   ],
   "source": [
    "df.loc[:, 'sepal length':'petal length']"
   ]
  },
  {
   "cell_type": "code",
   "execution_count": 73,
   "id": "448b8138",
   "metadata": {},
   "outputs": [
    {
     "data": {
      "text/html": [
       "<div>\n",
       "<style scoped>\n",
       "    .dataframe tbody tr th:only-of-type {\n",
       "        vertical-align: middle;\n",
       "    }\n",
       "\n",
       "    .dataframe tbody tr th {\n",
       "        vertical-align: top;\n",
       "    }\n",
       "\n",
       "    .dataframe thead th {\n",
       "        text-align: right;\n",
       "    }\n",
       "</style>\n",
       "<table border=\"1\" class=\"dataframe\">\n",
       "  <thead>\n",
       "    <tr style=\"text-align: right;\">\n",
       "      <th></th>\n",
       "      <th>petal length</th>\n",
       "      <th>class</th>\n",
       "    </tr>\n",
       "  </thead>\n",
       "  <tbody>\n",
       "    <tr>\n",
       "      <th>0</th>\n",
       "      <td>1.4</td>\n",
       "      <td>Iris-setosa</td>\n",
       "    </tr>\n",
       "    <tr>\n",
       "      <th>1</th>\n",
       "      <td>1.4</td>\n",
       "      <td>Iris-setosa</td>\n",
       "    </tr>\n",
       "    <tr>\n",
       "      <th>2</th>\n",
       "      <td>1.3</td>\n",
       "      <td>Iris-setosa</td>\n",
       "    </tr>\n",
       "    <tr>\n",
       "      <th>3</th>\n",
       "      <td>1.5</td>\n",
       "      <td>Iris-setosa</td>\n",
       "    </tr>\n",
       "    <tr>\n",
       "      <th>4</th>\n",
       "      <td>1.4</td>\n",
       "      <td>Iris-setosa</td>\n",
       "    </tr>\n",
       "    <tr>\n",
       "      <th>...</th>\n",
       "      <td>...</td>\n",
       "      <td>...</td>\n",
       "    </tr>\n",
       "    <tr>\n",
       "      <th>145</th>\n",
       "      <td>5.2</td>\n",
       "      <td>Iris-virginica</td>\n",
       "    </tr>\n",
       "    <tr>\n",
       "      <th>146</th>\n",
       "      <td>5.0</td>\n",
       "      <td>Iris-virginica</td>\n",
       "    </tr>\n",
       "    <tr>\n",
       "      <th>147</th>\n",
       "      <td>5.2</td>\n",
       "      <td>Iris-virginica</td>\n",
       "    </tr>\n",
       "    <tr>\n",
       "      <th>148</th>\n",
       "      <td>5.4</td>\n",
       "      <td>Iris-virginica</td>\n",
       "    </tr>\n",
       "    <tr>\n",
       "      <th>149</th>\n",
       "      <td>5.1</td>\n",
       "      <td>Iris-virginica</td>\n",
       "    </tr>\n",
       "  </tbody>\n",
       "</table>\n",
       "<p>150 rows × 2 columns</p>\n",
       "</div>"
      ],
      "text/plain": [
       "     petal length           class\n",
       "0             1.4     Iris-setosa\n",
       "1             1.4     Iris-setosa\n",
       "2             1.3     Iris-setosa\n",
       "3             1.5     Iris-setosa\n",
       "4             1.4     Iris-setosa\n",
       "..            ...             ...\n",
       "145           5.2  Iris-virginica\n",
       "146           5.0  Iris-virginica\n",
       "147           5.2  Iris-virginica\n",
       "148           5.4  Iris-virginica\n",
       "149           5.1  Iris-virginica\n",
       "\n",
       "[150 rows x 2 columns]"
      ]
     },
     "execution_count": 73,
     "metadata": {},
     "output_type": "execute_result"
    }
   ],
   "source": [
    "df.loc[:, [False, False, True, False, True]]"
   ]
  },
  {
   "cell_type": "markdown",
   "id": "da1a1ddc",
   "metadata": {},
   "source": [
    "Wiersze mogą być wybierane za pomocą wartości indeksu:"
   ]
  },
  {
   "cell_type": "code",
   "execution_count": 74,
   "id": "9f5092b5",
   "metadata": {},
   "outputs": [
    {
     "name": "stdout",
     "output_type": "stream",
     "text": [
      "    sepal length  sepal width  petal length  petal width        class\n",
      "0            5.1          3.5           1.4          0.2  Iris-setosa\n",
      "1            4.9          3.0           1.4          0.2  Iris-setosa\n",
      "2            4.7          3.2           1.3          0.2  Iris-setosa\n",
      "3            4.6          3.1           1.5          0.2  Iris-setosa\n",
      "4            5.0          3.6           1.4          0.2  Iris-setosa\n",
      "5            5.4          3.9           1.7          0.4  Iris-setosa\n",
      "6            4.6          3.4           1.4          0.3  Iris-setosa\n",
      "7            5.0          3.4           1.5          0.2  Iris-setosa\n",
      "8            4.4          2.9           1.4          0.2  Iris-setosa\n",
      "9            4.9          3.1           1.5          0.1  Iris-setosa\n",
      "10           5.4          3.7           1.5          0.2  Iris-setosa\n",
      "11           4.8          3.4           1.6          0.2  Iris-setosa\n",
      "12           4.8          3.0           1.4          0.1  Iris-setosa\n",
      "13           4.3          3.0           1.1          0.1  Iris-setosa\n",
      "14           5.8          4.0           1.2          0.2  Iris-setosa\n",
      "15           5.7          4.4           1.5          0.4  Iris-setosa\n",
      "16           5.4          3.9           1.3          0.4  Iris-setosa\n",
      "17           5.1          3.5           1.4          0.3  Iris-setosa\n",
      "18           5.7          3.8           1.7          0.3  Iris-setosa\n",
      "19           5.1          3.8           1.5          0.3  Iris-setosa\n",
      "20           5.4          3.4           1.7          0.2  Iris-setosa\n",
      "21           5.1          3.7           1.5          0.4  Iris-setosa\n",
      "22           4.6          3.6           1.0          0.2  Iris-setosa\n",
      "23           5.1          3.3           1.7          0.5  Iris-setosa\n",
      "24           4.8          3.4           1.9          0.2  Iris-setosa\n",
      "25           5.0          3.0           1.6          0.2  Iris-setosa\n",
      "26           5.0          3.4           1.6          0.4  Iris-setosa\n",
      "27           5.2          3.5           1.5          0.2  Iris-setosa\n",
      "28           5.2          3.4           1.4          0.2  Iris-setosa\n",
      "29           4.7          3.2           1.6          0.2  Iris-setosa\n",
      "30           4.8          3.1           1.6          0.2  Iris-setosa\n",
      "31           5.4          3.4           1.5          0.4  Iris-setosa\n",
      "32           5.2          4.1           1.5          0.1  Iris-setosa\n",
      "33           5.5          4.2           1.4          0.2  Iris-setosa\n",
      "34           4.9          3.1           1.5          0.1  Iris-setosa\n",
      "35           5.0          3.2           1.2          0.2  Iris-setosa\n",
      "36           5.5          3.5           1.3          0.2  Iris-setosa\n",
      "37           4.9          3.1           1.5          0.1  Iris-setosa\n",
      "38           4.4          3.0           1.3          0.2  Iris-setosa\n",
      "39           5.1          3.4           1.5          0.2  Iris-setosa\n",
      "40           5.0          3.5           1.3          0.3  Iris-setosa\n",
      "41           4.5          2.3           1.3          0.3  Iris-setosa\n",
      "42           4.4          3.2           1.3          0.2  Iris-setosa\n",
      "43           5.0          3.5           1.6          0.6  Iris-setosa\n",
      "44           5.1          3.8           1.9          0.4  Iris-setosa\n",
      "45           4.8          3.0           1.4          0.3  Iris-setosa\n",
      "46           5.1          3.8           1.6          0.2  Iris-setosa\n",
      "47           4.6          3.2           1.4          0.2  Iris-setosa\n",
      "48           5.3          3.7           1.5          0.2  Iris-setosa\n",
      "49           5.0          3.3           1.4          0.2  Iris-setosa\n"
     ]
    }
   ],
   "source": [
    "idx = df[df['petal length'] <= 2].index\n",
    "print(df.loc[idx])"
   ]
  },
  {
   "cell_type": "code",
   "execution_count": 76,
   "id": "b75201f7",
   "metadata": {},
   "outputs": [
    {
     "data": {
      "text/plain": [
       "0       True\n",
       "1       True\n",
       "2       True\n",
       "3       True\n",
       "4       True\n",
       "       ...  \n",
       "145    False\n",
       "146    False\n",
       "147    False\n",
       "148    False\n",
       "149    False\n",
       "Name: petal length, Length: 150, dtype: bool"
      ]
     },
     "execution_count": 76,
     "metadata": {},
     "output_type": "execute_result"
    }
   ],
   "source": [
    "df['petal length'] <= 2"
   ]
  },
  {
   "cell_type": "markdown",
   "id": "ea6ab03d",
   "metadata": {},
   "source": [
    "Możemy dostawać się do konkretnych elementów ramki danych za pomocą standardowych indeksów całkowitoliczbowych korzystając z metody [pandas.DataFrame.iloc](https://pandas.pydata.org/docs/reference/api/pandas.DataFrame.iloc.html):"
   ]
  },
  {
   "cell_type": "code",
   "execution_count": 92,
   "id": "3f907b42",
   "metadata": {},
   "outputs": [
    {
     "data": {
      "text/html": [
       "<div>\n",
       "<style scoped>\n",
       "    .dataframe tbody tr th:only-of-type {\n",
       "        vertical-align: middle;\n",
       "    }\n",
       "\n",
       "    .dataframe tbody tr th {\n",
       "        vertical-align: top;\n",
       "    }\n",
       "\n",
       "    .dataframe thead th {\n",
       "        text-align: right;\n",
       "    }\n",
       "</style>\n",
       "<table border=\"1\" class=\"dataframe\">\n",
       "  <thead>\n",
       "    <tr style=\"text-align: right;\">\n",
       "      <th></th>\n",
       "      <th>sepal length</th>\n",
       "      <th>sepal width</th>\n",
       "      <th>petal length</th>\n",
       "      <th>petal width</th>\n",
       "      <th>class</th>\n",
       "    </tr>\n",
       "  </thead>\n",
       "  <tbody>\n",
       "    <tr>\n",
       "      <th>0</th>\n",
       "      <td>5.1</td>\n",
       "      <td>3.5</td>\n",
       "      <td>1.4</td>\n",
       "      <td>0.2</td>\n",
       "      <td>Iris-setosa</td>\n",
       "    </tr>\n",
       "    <tr>\n",
       "      <th>1</th>\n",
       "      <td>4.9</td>\n",
       "      <td>3.0</td>\n",
       "      <td>1.4</td>\n",
       "      <td>0.2</td>\n",
       "      <td>Iris-setosa</td>\n",
       "    </tr>\n",
       "    <tr>\n",
       "      <th>2</th>\n",
       "      <td>4.7</td>\n",
       "      <td>3.2</td>\n",
       "      <td>1.3</td>\n",
       "      <td>0.2</td>\n",
       "      <td>Iris-setosa</td>\n",
       "    </tr>\n",
       "    <tr>\n",
       "      <th>3</th>\n",
       "      <td>4.6</td>\n",
       "      <td>3.1</td>\n",
       "      <td>1.5</td>\n",
       "      <td>0.2</td>\n",
       "      <td>Iris-setosa</td>\n",
       "    </tr>\n",
       "    <tr>\n",
       "      <th>4</th>\n",
       "      <td>5.0</td>\n",
       "      <td>3.6</td>\n",
       "      <td>1.4</td>\n",
       "      <td>0.2</td>\n",
       "      <td>Iris-setosa</td>\n",
       "    </tr>\n",
       "  </tbody>\n",
       "</table>\n",
       "</div>"
      ],
      "text/plain": [
       "   sepal length  sepal width  petal length  petal width        class\n",
       "0           5.1          3.5           1.4          0.2  Iris-setosa\n",
       "1           4.9          3.0           1.4          0.2  Iris-setosa\n",
       "2           4.7          3.2           1.3          0.2  Iris-setosa\n",
       "3           4.6          3.1           1.5          0.2  Iris-setosa\n",
       "4           5.0          3.6           1.4          0.2  Iris-setosa"
      ]
     },
     "execution_count": 92,
     "metadata": {},
     "output_type": "execute_result"
    }
   ],
   "source": [
    "sub_df = df.iloc[:5,:5]\n",
    "sub_df"
   ]
  },
  {
   "cell_type": "markdown",
   "id": "ac2d56d2",
   "metadata": {},
   "source": [
    "Możemy też zmienić wartość konkretnego elementu: "
   ]
  },
  {
   "cell_type": "code",
   "execution_count": 93,
   "id": "6606e655",
   "metadata": {},
   "outputs": [
    {
     "data": {
      "text/html": [
       "<div>\n",
       "<style scoped>\n",
       "    .dataframe tbody tr th:only-of-type {\n",
       "        vertical-align: middle;\n",
       "    }\n",
       "\n",
       "    .dataframe tbody tr th {\n",
       "        vertical-align: top;\n",
       "    }\n",
       "\n",
       "    .dataframe thead th {\n",
       "        text-align: right;\n",
       "    }\n",
       "</style>\n",
       "<table border=\"1\" class=\"dataframe\">\n",
       "  <thead>\n",
       "    <tr style=\"text-align: right;\">\n",
       "      <th></th>\n",
       "      <th>sepal length</th>\n",
       "      <th>sepal width</th>\n",
       "      <th>petal length</th>\n",
       "      <th>petal width</th>\n",
       "      <th>class</th>\n",
       "    </tr>\n",
       "  </thead>\n",
       "  <tbody>\n",
       "    <tr>\n",
       "      <th>0</th>\n",
       "      <td>5.1</td>\n",
       "      <td>3.5</td>\n",
       "      <td>1.4</td>\n",
       "      <td>0.2</td>\n",
       "      <td>Iris-setosa</td>\n",
       "    </tr>\n",
       "    <tr>\n",
       "      <th>1</th>\n",
       "      <td>4.9</td>\n",
       "      <td>3.0</td>\n",
       "      <td>1.4</td>\n",
       "      <td>0.2</td>\n",
       "      <td>Iris-setosa</td>\n",
       "    </tr>\n",
       "    <tr>\n",
       "      <th>2</th>\n",
       "      <td>4.7</td>\n",
       "      <td>-3.2</td>\n",
       "      <td>1.3</td>\n",
       "      <td>0.2</td>\n",
       "      <td>Iris-setosa</td>\n",
       "    </tr>\n",
       "    <tr>\n",
       "      <th>3</th>\n",
       "      <td>4.6</td>\n",
       "      <td>3.1</td>\n",
       "      <td>1.5</td>\n",
       "      <td>0.2</td>\n",
       "      <td>Iris-setosa</td>\n",
       "    </tr>\n",
       "    <tr>\n",
       "      <th>4</th>\n",
       "      <td>5.0</td>\n",
       "      <td>3.6</td>\n",
       "      <td>1.4</td>\n",
       "      <td>0.2</td>\n",
       "      <td>Iris-setosa</td>\n",
       "    </tr>\n",
       "  </tbody>\n",
       "</table>\n",
       "</div>"
      ],
      "text/plain": [
       "   sepal length  sepal width  petal length  petal width        class\n",
       "0           5.1          3.5           1.4          0.2  Iris-setosa\n",
       "1           4.9          3.0           1.4          0.2  Iris-setosa\n",
       "2           4.7         -3.2           1.3          0.2  Iris-setosa\n",
       "3           4.6          3.1           1.5          0.2  Iris-setosa\n",
       "4           5.0          3.6           1.4          0.2  Iris-setosa"
      ]
     },
     "execution_count": 93,
     "metadata": {},
     "output_type": "execute_result"
    }
   ],
   "source": [
    "sub_df.iloc[2,1] = -3.2\n",
    "sub_df"
   ]
  },
  {
   "cell_type": "markdown",
   "id": "a9bde876",
   "metadata": {},
   "source": [
    "Zobaczmy czy nasze przypisanie spowodowało zmiany w df:"
   ]
  },
  {
   "cell_type": "code",
   "execution_count": 94,
   "id": "0df1fc07",
   "metadata": {},
   "outputs": [
    {
     "data": {
      "text/html": [
       "<div>\n",
       "<style scoped>\n",
       "    .dataframe tbody tr th:only-of-type {\n",
       "        vertical-align: middle;\n",
       "    }\n",
       "\n",
       "    .dataframe tbody tr th {\n",
       "        vertical-align: top;\n",
       "    }\n",
       "\n",
       "    .dataframe thead th {\n",
       "        text-align: right;\n",
       "    }\n",
       "</style>\n",
       "<table border=\"1\" class=\"dataframe\">\n",
       "  <thead>\n",
       "    <tr style=\"text-align: right;\">\n",
       "      <th></th>\n",
       "      <th>sepal length</th>\n",
       "      <th>sepal width</th>\n",
       "      <th>petal length</th>\n",
       "      <th>petal width</th>\n",
       "      <th>class</th>\n",
       "    </tr>\n",
       "  </thead>\n",
       "  <tbody>\n",
       "    <tr>\n",
       "      <th>0</th>\n",
       "      <td>5.1</td>\n",
       "      <td>3.5</td>\n",
       "      <td>1.4</td>\n",
       "      <td>0.2</td>\n",
       "      <td>Iris-setosa</td>\n",
       "    </tr>\n",
       "    <tr>\n",
       "      <th>1</th>\n",
       "      <td>4.9</td>\n",
       "      <td>3.0</td>\n",
       "      <td>1.4</td>\n",
       "      <td>0.2</td>\n",
       "      <td>Iris-setosa</td>\n",
       "    </tr>\n",
       "    <tr>\n",
       "      <th>2</th>\n",
       "      <td>4.7</td>\n",
       "      <td>3.2</td>\n",
       "      <td>1.3</td>\n",
       "      <td>0.2</td>\n",
       "      <td>Iris-setosa</td>\n",
       "    </tr>\n",
       "    <tr>\n",
       "      <th>3</th>\n",
       "      <td>4.6</td>\n",
       "      <td>3.1</td>\n",
       "      <td>1.5</td>\n",
       "      <td>0.2</td>\n",
       "      <td>Iris-setosa</td>\n",
       "    </tr>\n",
       "    <tr>\n",
       "      <th>4</th>\n",
       "      <td>5.0</td>\n",
       "      <td>3.6</td>\n",
       "      <td>1.4</td>\n",
       "      <td>0.2</td>\n",
       "      <td>Iris-setosa</td>\n",
       "    </tr>\n",
       "  </tbody>\n",
       "</table>\n",
       "</div>"
      ],
      "text/plain": [
       "   sepal length  sepal width  petal length  petal width        class\n",
       "0           5.1          3.5           1.4          0.2  Iris-setosa\n",
       "1           4.9          3.0           1.4          0.2  Iris-setosa\n",
       "2           4.7          3.2           1.3          0.2  Iris-setosa\n",
       "3           4.6          3.1           1.5          0.2  Iris-setosa\n",
       "4           5.0          3.6           1.4          0.2  Iris-setosa"
      ]
     },
     "execution_count": 94,
     "metadata": {},
     "output_type": "execute_result"
    }
   ],
   "source": [
    "df.head()"
   ]
  },
  {
   "cell_type": "markdown",
   "id": "8235efff",
   "metadata": {},
   "source": [
    "Nie, a więc df.iloc utworzyło kopię zadanego fragmentu ramki danych!"
   ]
  },
  {
   "cell_type": "markdown",
   "id": "cff5b282",
   "metadata": {},
   "source": [
    "Możemy usunąć kolumnę z ramki danych w następujący sposób:"
   ]
  },
  {
   "cell_type": "code",
   "execution_count": 95,
   "id": "6329349c-4e30-4dba-8b03-a4b84771be19",
   "metadata": {},
   "outputs": [
    {
     "data": {
      "text/plain": [
       "Index(['sepal length', 'sepal width', 'petal length', 'petal width', 'class'], dtype='object')"
      ]
     },
     "execution_count": 95,
     "metadata": {},
     "output_type": "execute_result"
    }
   ],
   "source": [
    "sub_df.columns"
   ]
  },
  {
   "cell_type": "code",
   "execution_count": 96,
   "id": "2f12d21b",
   "metadata": {},
   "outputs": [
    {
     "data": {
      "text/plain": [
       "0    3.5\n",
       "1    3.0\n",
       "2   -3.2\n",
       "3    3.1\n",
       "4    3.6\n",
       "Name: sepal width, dtype: float64"
      ]
     },
     "execution_count": 96,
     "metadata": {},
     "output_type": "execute_result"
    }
   ],
   "source": [
    "removed_col = sub_df.pop('sepal width')\n",
    "removed_col"
   ]
  },
  {
   "cell_type": "code",
   "execution_count": 97,
   "id": "aad4a850",
   "metadata": {},
   "outputs": [
    {
     "data": {
      "text/html": [
       "<div>\n",
       "<style scoped>\n",
       "    .dataframe tbody tr th:only-of-type {\n",
       "        vertical-align: middle;\n",
       "    }\n",
       "\n",
       "    .dataframe tbody tr th {\n",
       "        vertical-align: top;\n",
       "    }\n",
       "\n",
       "    .dataframe thead th {\n",
       "        text-align: right;\n",
       "    }\n",
       "</style>\n",
       "<table border=\"1\" class=\"dataframe\">\n",
       "  <thead>\n",
       "    <tr style=\"text-align: right;\">\n",
       "      <th></th>\n",
       "      <th>sepal length</th>\n",
       "      <th>petal length</th>\n",
       "      <th>petal width</th>\n",
       "      <th>class</th>\n",
       "    </tr>\n",
       "  </thead>\n",
       "  <tbody>\n",
       "    <tr>\n",
       "      <th>0</th>\n",
       "      <td>5.1</td>\n",
       "      <td>1.4</td>\n",
       "      <td>0.2</td>\n",
       "      <td>Iris-setosa</td>\n",
       "    </tr>\n",
       "    <tr>\n",
       "      <th>1</th>\n",
       "      <td>4.9</td>\n",
       "      <td>1.4</td>\n",
       "      <td>0.2</td>\n",
       "      <td>Iris-setosa</td>\n",
       "    </tr>\n",
       "    <tr>\n",
       "      <th>2</th>\n",
       "      <td>4.7</td>\n",
       "      <td>1.3</td>\n",
       "      <td>0.2</td>\n",
       "      <td>Iris-setosa</td>\n",
       "    </tr>\n",
       "    <tr>\n",
       "      <th>3</th>\n",
       "      <td>4.6</td>\n",
       "      <td>1.5</td>\n",
       "      <td>0.2</td>\n",
       "      <td>Iris-setosa</td>\n",
       "    </tr>\n",
       "    <tr>\n",
       "      <th>4</th>\n",
       "      <td>5.0</td>\n",
       "      <td>1.4</td>\n",
       "      <td>0.2</td>\n",
       "      <td>Iris-setosa</td>\n",
       "    </tr>\n",
       "  </tbody>\n",
       "</table>\n",
       "</div>"
      ],
      "text/plain": [
       "   sepal length  petal length  petal width        class\n",
       "0           5.1           1.4          0.2  Iris-setosa\n",
       "1           4.9           1.4          0.2  Iris-setosa\n",
       "2           4.7           1.3          0.2  Iris-setosa\n",
       "3           4.6           1.5          0.2  Iris-setosa\n",
       "4           5.0           1.4          0.2  Iris-setosa"
      ]
     },
     "execution_count": 97,
     "metadata": {},
     "output_type": "execute_result"
    }
   ],
   "source": [
    "sub_df"
   ]
  },
  {
   "cell_type": "markdown",
   "id": "bc9e9ee8",
   "metadata": {},
   "source": [
    "Możemy iterować po kolumnach ramki danych:"
   ]
  },
  {
   "cell_type": "code",
   "execution_count": 98,
   "id": "6d63013e",
   "metadata": {},
   "outputs": [
    {
     "name": "stdout",
     "output_type": "stream",
     "text": [
      "Nazwa kolumny: sepal length\n",
      "Trzecia wartość w kolumnie: 4.7\n",
      "\n",
      "Nazwa kolumny: sepal width\n",
      "Trzecia wartość w kolumnie: 3.2\n",
      "\n",
      "Nazwa kolumny: petal length\n",
      "Trzecia wartość w kolumnie: 1.3\n",
      "\n",
      "Nazwa kolumny: petal width\n",
      "Trzecia wartość w kolumnie: 0.2\n",
      "\n",
      "Nazwa kolumny: class\n",
      "Trzecia wartość w kolumnie: Iris-setosa\n",
      "\n"
     ]
    }
   ],
   "source": [
    "for name in df.columns:\n",
    "    print('Nazwa kolumny: ' + str(name))\n",
    "    print('Trzecia wartość w kolumnie: ' + str(df[name][2]) + '\\n')"
   ]
  },
  {
   "cell_type": "markdown",
   "id": "b6500358",
   "metadata": {},
   "source": [
    "lub po wierszach:"
   ]
  },
  {
   "cell_type": "code",
   "execution_count": 99,
   "id": "135507d2",
   "metadata": {},
   "outputs": [
    {
     "name": "stdout",
     "output_type": "stream",
     "text": [
      "Indeks wiersza: 0\n",
      "Pierwszy element w wierszu: 5.1\n",
      "Indeks wiersza: 1\n",
      "Pierwszy element w wierszu: 4.9\n",
      "Indeks wiersza: 2\n",
      "Pierwszy element w wierszu: 4.7\n",
      "Indeks wiersza: 3\n",
      "Pierwszy element w wierszu: 4.6\n",
      "Indeks wiersza: 4\n",
      "Pierwszy element w wierszu: 5.0\n"
     ]
    }
   ],
   "source": [
    "for (row_index, series) in df.iloc[:5,:].iterrows():\n",
    "    print(f\"Indeks wiersza: {row_index}\")\n",
    "    print(f\"Pierwszy element w wierszu: {series.iat[0]}\")"
   ]
  },
  {
   "cell_type": "markdown",
   "id": "36abcfbe",
   "metadata": {},
   "source": [
    "---\n",
    "\n",
    "## 2. Przykłady operacji matematycznych na kolumnach ramki danych w pandas"
   ]
  },
  {
   "cell_type": "markdown",
   "id": "b242e2e5",
   "metadata": {},
   "source": [
    "Suma elementów w kolumnie"
   ]
  },
  {
   "cell_type": "code",
   "execution_count": 100,
   "id": "3aedf3a3",
   "metadata": {},
   "outputs": [
    {
     "data": {
      "text/plain": [
       "563.8"
      ]
     },
     "execution_count": 100,
     "metadata": {},
     "output_type": "execute_result"
    }
   ],
   "source": [
    "df['petal length'].sum()"
   ]
  },
  {
   "cell_type": "markdown",
   "id": "963ac131",
   "metadata": {},
   "source": [
    "Iloczyn elementów w kolumnie"
   ]
  },
  {
   "cell_type": "code",
   "execution_count": 101,
   "id": "43a8d013",
   "metadata": {},
   "outputs": [
    {
     "data": {
      "text/plain": [
       "3.774489440906495e+76"
      ]
     },
     "execution_count": 101,
     "metadata": {},
     "output_type": "execute_result"
    }
   ],
   "source": [
    "df['petal length'].prod()"
   ]
  },
  {
   "cell_type": "markdown",
   "id": "e4753394",
   "metadata": {},
   "source": [
    "Najmniejsza wartość w kolumnie"
   ]
  },
  {
   "cell_type": "code",
   "execution_count": 102,
   "id": "19df1564",
   "metadata": {},
   "outputs": [
    {
     "data": {
      "text/plain": [
       "1.0"
      ]
     },
     "execution_count": 102,
     "metadata": {},
     "output_type": "execute_result"
    }
   ],
   "source": [
    "df['petal length'].min()"
   ]
  },
  {
   "cell_type": "markdown",
   "id": "44fe1d70",
   "metadata": {},
   "source": [
    "Wartość średnia wartości w kolumnie"
   ]
  },
  {
   "cell_type": "code",
   "execution_count": 103,
   "id": "380efc90",
   "metadata": {},
   "outputs": [
    {
     "data": {
      "text/plain": [
       "3.758666666666666"
      ]
     },
     "execution_count": 103,
     "metadata": {},
     "output_type": "execute_result"
    }
   ],
   "source": [
    "df['petal length'].mean()"
   ]
  },
  {
   "cell_type": "markdown",
   "id": "a934c5d0",
   "metadata": {},
   "source": [
    "Mediana wartości w kolumnie"
   ]
  },
  {
   "cell_type": "code",
   "execution_count": 104,
   "id": "400d2a89",
   "metadata": {},
   "outputs": [
    {
     "data": {
      "text/plain": [
       "4.35"
      ]
     },
     "execution_count": 104,
     "metadata": {},
     "output_type": "execute_result"
    }
   ],
   "source": [
    "df['petal length'].median()"
   ]
  },
  {
   "cell_type": "markdown",
   "id": "bc0ed482",
   "metadata": {},
   "source": [
    "Podstawowe statystyki dla wartości w kolumnie"
   ]
  },
  {
   "cell_type": "code",
   "execution_count": 105,
   "id": "016031bb",
   "metadata": {},
   "outputs": [
    {
     "data": {
      "text/plain": [
       "count    150.000000\n",
       "mean       3.758667\n",
       "std        1.764420\n",
       "min        1.000000\n",
       "25%        1.600000\n",
       "50%        4.350000\n",
       "75%        5.100000\n",
       "max        6.900000\n",
       "Name: petal length, dtype: float64"
      ]
     },
     "execution_count": 105,
     "metadata": {},
     "output_type": "execute_result"
    }
   ],
   "source": [
    "df['petal length'].describe()"
   ]
  },
  {
   "cell_type": "markdown",
   "id": "0e3e1027",
   "metadata": {},
   "source": [
    "Indeks wierszowy dla wartości minimalnej w kolumnie"
   ]
  },
  {
   "cell_type": "code",
   "execution_count": 106,
   "id": "770be19d",
   "metadata": {},
   "outputs": [
    {
     "data": {
      "text/plain": [
       "22"
      ]
     },
     "execution_count": 106,
     "metadata": {},
     "output_type": "execute_result"
    }
   ],
   "source": [
    "df['petal length'].idxmin()"
   ]
  },
  {
   "cell_type": "markdown",
   "id": "fb11acd6",
   "metadata": {},
   "source": [
    "i dla wartości maksymalnej"
   ]
  },
  {
   "cell_type": "code",
   "execution_count": 107,
   "id": "0b7456a1",
   "metadata": {},
   "outputs": [
    {
     "data": {
      "text/plain": [
       "118"
      ]
     },
     "execution_count": 107,
     "metadata": {},
     "output_type": "execute_result"
    }
   ],
   "source": [
    "df['petal length'].idxmax()"
   ]
  },
  {
   "cell_type": "markdown",
   "id": "4a61c9e5",
   "metadata": {},
   "source": [
    "---\n",
    "## 3. Przykłady sortowania ramki danych w pandas"
   ]
  },
  {
   "cell_type": "code",
   "execution_count": 108,
   "id": "a67fbbf1",
   "metadata": {},
   "outputs": [
    {
     "data": {
      "text/html": [
       "<div>\n",
       "<style scoped>\n",
       "    .dataframe tbody tr th:only-of-type {\n",
       "        vertical-align: middle;\n",
       "    }\n",
       "\n",
       "    .dataframe tbody tr th {\n",
       "        vertical-align: top;\n",
       "    }\n",
       "\n",
       "    .dataframe thead th {\n",
       "        text-align: right;\n",
       "    }\n",
       "</style>\n",
       "<table border=\"1\" class=\"dataframe\">\n",
       "  <thead>\n",
       "    <tr style=\"text-align: right;\">\n",
       "      <th></th>\n",
       "      <th>col1</th>\n",
       "      <th>col2</th>\n",
       "      <th>col3</th>\n",
       "      <th>col4</th>\n",
       "    </tr>\n",
       "  </thead>\n",
       "  <tbody>\n",
       "    <tr>\n",
       "      <th>0</th>\n",
       "      <td>A</td>\n",
       "      <td>2</td>\n",
       "      <td>0</td>\n",
       "      <td>a</td>\n",
       "    </tr>\n",
       "    <tr>\n",
       "      <th>1</th>\n",
       "      <td>A</td>\n",
       "      <td>1</td>\n",
       "      <td>1</td>\n",
       "      <td>B</td>\n",
       "    </tr>\n",
       "    <tr>\n",
       "      <th>2</th>\n",
       "      <td>B</td>\n",
       "      <td>9</td>\n",
       "      <td>9</td>\n",
       "      <td>c</td>\n",
       "    </tr>\n",
       "    <tr>\n",
       "      <th>3</th>\n",
       "      <td>NaN</td>\n",
       "      <td>8</td>\n",
       "      <td>4</td>\n",
       "      <td>D</td>\n",
       "    </tr>\n",
       "    <tr>\n",
       "      <th>4</th>\n",
       "      <td>D</td>\n",
       "      <td>7</td>\n",
       "      <td>2</td>\n",
       "      <td>e</td>\n",
       "    </tr>\n",
       "    <tr>\n",
       "      <th>5</th>\n",
       "      <td>C</td>\n",
       "      <td>4</td>\n",
       "      <td>3</td>\n",
       "      <td>F</td>\n",
       "    </tr>\n",
       "  </tbody>\n",
       "</table>\n",
       "</div>"
      ],
      "text/plain": [
       "  col1  col2  col3 col4\n",
       "0    A     2     0    a\n",
       "1    A     1     1    B\n",
       "2    B     9     9    c\n",
       "3  NaN     8     4    D\n",
       "4    D     7     2    e\n",
       "5    C     4     3    F"
      ]
     },
     "execution_count": 108,
     "metadata": {},
     "output_type": "execute_result"
    }
   ],
   "source": [
    "df = pd.DataFrame({'col1': ['A', 'A', 'B', np.nan, 'D', 'C'],\n",
    "                   'col2': [2, 1, 9, 8, 7, 4],\n",
    "                   'col3': [0, 1, 9, 4, 2, 3],\n",
    "                   'col4': ['a', 'B', 'c', 'D', 'e', 'F']\n",
    "})\n",
    "df"
   ]
  },
  {
   "cell_type": "markdown",
   "id": "485d5ac6",
   "metadata": {},
   "source": [
    "Sortowanie ramki danych według wybranej kolumny"
   ]
  },
  {
   "cell_type": "code",
   "execution_count": 109,
   "id": "8d0373b2",
   "metadata": {},
   "outputs": [
    {
     "data": {
      "text/html": [
       "<div>\n",
       "<style scoped>\n",
       "    .dataframe tbody tr th:only-of-type {\n",
       "        vertical-align: middle;\n",
       "    }\n",
       "\n",
       "    .dataframe tbody tr th {\n",
       "        vertical-align: top;\n",
       "    }\n",
       "\n",
       "    .dataframe thead th {\n",
       "        text-align: right;\n",
       "    }\n",
       "</style>\n",
       "<table border=\"1\" class=\"dataframe\">\n",
       "  <thead>\n",
       "    <tr style=\"text-align: right;\">\n",
       "      <th></th>\n",
       "      <th>col1</th>\n",
       "      <th>col2</th>\n",
       "      <th>col3</th>\n",
       "      <th>col4</th>\n",
       "    </tr>\n",
       "  </thead>\n",
       "  <tbody>\n",
       "    <tr>\n",
       "      <th>1</th>\n",
       "      <td>A</td>\n",
       "      <td>1</td>\n",
       "      <td>1</td>\n",
       "      <td>B</td>\n",
       "    </tr>\n",
       "    <tr>\n",
       "      <th>3</th>\n",
       "      <td>NaN</td>\n",
       "      <td>8</td>\n",
       "      <td>4</td>\n",
       "      <td>D</td>\n",
       "    </tr>\n",
       "    <tr>\n",
       "      <th>5</th>\n",
       "      <td>C</td>\n",
       "      <td>4</td>\n",
       "      <td>3</td>\n",
       "      <td>F</td>\n",
       "    </tr>\n",
       "    <tr>\n",
       "      <th>0</th>\n",
       "      <td>A</td>\n",
       "      <td>2</td>\n",
       "      <td>0</td>\n",
       "      <td>a</td>\n",
       "    </tr>\n",
       "    <tr>\n",
       "      <th>2</th>\n",
       "      <td>B</td>\n",
       "      <td>9</td>\n",
       "      <td>9</td>\n",
       "      <td>c</td>\n",
       "    </tr>\n",
       "    <tr>\n",
       "      <th>4</th>\n",
       "      <td>D</td>\n",
       "      <td>7</td>\n",
       "      <td>2</td>\n",
       "      <td>e</td>\n",
       "    </tr>\n",
       "  </tbody>\n",
       "</table>\n",
       "</div>"
      ],
      "text/plain": [
       "  col1  col2  col3 col4\n",
       "1    A     1     1    B\n",
       "3  NaN     8     4    D\n",
       "5    C     4     3    F\n",
       "0    A     2     0    a\n",
       "2    B     9     9    c\n",
       "4    D     7     2    e"
      ]
     },
     "execution_count": 109,
     "metadata": {},
     "output_type": "execute_result"
    }
   ],
   "source": [
    "df.sort_values(by=['col4'])"
   ]
  },
  {
   "cell_type": "markdown",
   "id": "295e9f43",
   "metadata": {},
   "source": [
    "Sortowanie ramki danych według kilku kolumn"
   ]
  },
  {
   "cell_type": "code",
   "execution_count": 110,
   "id": "bb9f8039",
   "metadata": {},
   "outputs": [
    {
     "data": {
      "text/html": [
       "<div>\n",
       "<style scoped>\n",
       "    .dataframe tbody tr th:only-of-type {\n",
       "        vertical-align: middle;\n",
       "    }\n",
       "\n",
       "    .dataframe tbody tr th {\n",
       "        vertical-align: top;\n",
       "    }\n",
       "\n",
       "    .dataframe thead th {\n",
       "        text-align: right;\n",
       "    }\n",
       "</style>\n",
       "<table border=\"1\" class=\"dataframe\">\n",
       "  <thead>\n",
       "    <tr style=\"text-align: right;\">\n",
       "      <th></th>\n",
       "      <th>col1</th>\n",
       "      <th>col2</th>\n",
       "      <th>col3</th>\n",
       "      <th>col4</th>\n",
       "    </tr>\n",
       "  </thead>\n",
       "  <tbody>\n",
       "    <tr>\n",
       "      <th>1</th>\n",
       "      <td>A</td>\n",
       "      <td>1</td>\n",
       "      <td>1</td>\n",
       "      <td>B</td>\n",
       "    </tr>\n",
       "    <tr>\n",
       "      <th>0</th>\n",
       "      <td>A</td>\n",
       "      <td>2</td>\n",
       "      <td>0</td>\n",
       "      <td>a</td>\n",
       "    </tr>\n",
       "    <tr>\n",
       "      <th>2</th>\n",
       "      <td>B</td>\n",
       "      <td>9</td>\n",
       "      <td>9</td>\n",
       "      <td>c</td>\n",
       "    </tr>\n",
       "    <tr>\n",
       "      <th>5</th>\n",
       "      <td>C</td>\n",
       "      <td>4</td>\n",
       "      <td>3</td>\n",
       "      <td>F</td>\n",
       "    </tr>\n",
       "    <tr>\n",
       "      <th>4</th>\n",
       "      <td>D</td>\n",
       "      <td>7</td>\n",
       "      <td>2</td>\n",
       "      <td>e</td>\n",
       "    </tr>\n",
       "    <tr>\n",
       "      <th>3</th>\n",
       "      <td>NaN</td>\n",
       "      <td>8</td>\n",
       "      <td>4</td>\n",
       "      <td>D</td>\n",
       "    </tr>\n",
       "  </tbody>\n",
       "</table>\n",
       "</div>"
      ],
      "text/plain": [
       "  col1  col2  col3 col4\n",
       "1    A     1     1    B\n",
       "0    A     2     0    a\n",
       "2    B     9     9    c\n",
       "5    C     4     3    F\n",
       "4    D     7     2    e\n",
       "3  NaN     8     4    D"
      ]
     },
     "execution_count": 110,
     "metadata": {},
     "output_type": "execute_result"
    }
   ],
   "source": [
    "df.sort_values(by=['col1', 'col2'])"
   ]
  },
  {
   "cell_type": "markdown",
   "id": "dc1c8fd7",
   "metadata": {},
   "source": [
    "Sortowanie malejąco według określonej kolumny z wartościami NaN na pierwszych pozycjach:"
   ]
  },
  {
   "cell_type": "code",
   "execution_count": 112,
   "id": "e1794ef3",
   "metadata": {},
   "outputs": [
    {
     "data": {
      "text/html": [
       "<div>\n",
       "<style scoped>\n",
       "    .dataframe tbody tr th:only-of-type {\n",
       "        vertical-align: middle;\n",
       "    }\n",
       "\n",
       "    .dataframe tbody tr th {\n",
       "        vertical-align: top;\n",
       "    }\n",
       "\n",
       "    .dataframe thead th {\n",
       "        text-align: right;\n",
       "    }\n",
       "</style>\n",
       "<table border=\"1\" class=\"dataframe\">\n",
       "  <thead>\n",
       "    <tr style=\"text-align: right;\">\n",
       "      <th></th>\n",
       "      <th>col1</th>\n",
       "      <th>col2</th>\n",
       "      <th>col3</th>\n",
       "      <th>col4</th>\n",
       "    </tr>\n",
       "  </thead>\n",
       "  <tbody>\n",
       "    <tr>\n",
       "      <th>3</th>\n",
       "      <td>NaN</td>\n",
       "      <td>8</td>\n",
       "      <td>4</td>\n",
       "      <td>D</td>\n",
       "    </tr>\n",
       "    <tr>\n",
       "      <th>4</th>\n",
       "      <td>D</td>\n",
       "      <td>7</td>\n",
       "      <td>2</td>\n",
       "      <td>e</td>\n",
       "    </tr>\n",
       "    <tr>\n",
       "      <th>5</th>\n",
       "      <td>C</td>\n",
       "      <td>4</td>\n",
       "      <td>3</td>\n",
       "      <td>F</td>\n",
       "    </tr>\n",
       "    <tr>\n",
       "      <th>2</th>\n",
       "      <td>B</td>\n",
       "      <td>9</td>\n",
       "      <td>9</td>\n",
       "      <td>c</td>\n",
       "    </tr>\n",
       "    <tr>\n",
       "      <th>0</th>\n",
       "      <td>A</td>\n",
       "      <td>2</td>\n",
       "      <td>0</td>\n",
       "      <td>a</td>\n",
       "    </tr>\n",
       "    <tr>\n",
       "      <th>1</th>\n",
       "      <td>A</td>\n",
       "      <td>1</td>\n",
       "      <td>1</td>\n",
       "      <td>B</td>\n",
       "    </tr>\n",
       "  </tbody>\n",
       "</table>\n",
       "</div>"
      ],
      "text/plain": [
       "  col1  col2  col3 col4\n",
       "3  NaN     8     4    D\n",
       "4    D     7     2    e\n",
       "5    C     4     3    F\n",
       "2    B     9     9    c\n",
       "0    A     2     0    a\n",
       "1    A     1     1    B"
      ]
     },
     "execution_count": 112,
     "metadata": {},
     "output_type": "execute_result"
    }
   ],
   "source": [
    "df.sort_values(by='col1', ascending=False, na_position='first')"
   ]
  },
  {
   "cell_type": "markdown",
   "id": "19232c9b",
   "metadata": {},
   "source": [
    "Sortowanie z wykorzystaniem funkcji zwracającej wartość klucza:"
   ]
  },
  {
   "cell_type": "code",
   "execution_count": 113,
   "id": "1fcf8c2f",
   "metadata": {},
   "outputs": [
    {
     "data": {
      "text/html": [
       "<div>\n",
       "<style scoped>\n",
       "    .dataframe tbody tr th:only-of-type {\n",
       "        vertical-align: middle;\n",
       "    }\n",
       "\n",
       "    .dataframe tbody tr th {\n",
       "        vertical-align: top;\n",
       "    }\n",
       "\n",
       "    .dataframe thead th {\n",
       "        text-align: right;\n",
       "    }\n",
       "</style>\n",
       "<table border=\"1\" class=\"dataframe\">\n",
       "  <thead>\n",
       "    <tr style=\"text-align: right;\">\n",
       "      <th></th>\n",
       "      <th>col1</th>\n",
       "      <th>col2</th>\n",
       "      <th>col3</th>\n",
       "      <th>col4</th>\n",
       "    </tr>\n",
       "  </thead>\n",
       "  <tbody>\n",
       "    <tr>\n",
       "      <th>0</th>\n",
       "      <td>A</td>\n",
       "      <td>2</td>\n",
       "      <td>0</td>\n",
       "      <td>a</td>\n",
       "    </tr>\n",
       "    <tr>\n",
       "      <th>1</th>\n",
       "      <td>A</td>\n",
       "      <td>1</td>\n",
       "      <td>1</td>\n",
       "      <td>B</td>\n",
       "    </tr>\n",
       "    <tr>\n",
       "      <th>2</th>\n",
       "      <td>B</td>\n",
       "      <td>9</td>\n",
       "      <td>9</td>\n",
       "      <td>c</td>\n",
       "    </tr>\n",
       "    <tr>\n",
       "      <th>3</th>\n",
       "      <td>NaN</td>\n",
       "      <td>8</td>\n",
       "      <td>4</td>\n",
       "      <td>D</td>\n",
       "    </tr>\n",
       "    <tr>\n",
       "      <th>4</th>\n",
       "      <td>D</td>\n",
       "      <td>7</td>\n",
       "      <td>2</td>\n",
       "      <td>e</td>\n",
       "    </tr>\n",
       "    <tr>\n",
       "      <th>5</th>\n",
       "      <td>C</td>\n",
       "      <td>4</td>\n",
       "      <td>3</td>\n",
       "      <td>F</td>\n",
       "    </tr>\n",
       "  </tbody>\n",
       "</table>\n",
       "</div>"
      ],
      "text/plain": [
       "  col1  col2  col3 col4\n",
       "0    A     2     0    a\n",
       "1    A     1     1    B\n",
       "2    B     9     9    c\n",
       "3  NaN     8     4    D\n",
       "4    D     7     2    e\n",
       "5    C     4     3    F"
      ]
     },
     "execution_count": 113,
     "metadata": {},
     "output_type": "execute_result"
    }
   ],
   "source": [
    "df.sort_values(by='col4', key=lambda col: col.str.lower())"
   ]
  },
  {
   "cell_type": "code",
   "execution_count": 114,
   "id": "a4df4e3e",
   "metadata": {},
   "outputs": [
    {
     "data": {
      "text/plain": [
       "0    a\n",
       "1    b\n",
       "2    c\n",
       "3    d\n",
       "4    e\n",
       "5    f\n",
       "Name: col4, dtype: object"
      ]
     },
     "execution_count": 114,
     "metadata": {},
     "output_type": "execute_result"
    }
   ],
   "source": [
    "\n",
    "df['col4'].str.lower()"
   ]
  },
  {
   "cell_type": "code",
   "execution_count": 115,
   "id": "88af0338",
   "metadata": {},
   "outputs": [
    {
     "data": {
      "text/html": [
       "<div>\n",
       "<style scoped>\n",
       "    .dataframe tbody tr th:only-of-type {\n",
       "        vertical-align: middle;\n",
       "    }\n",
       "\n",
       "    .dataframe tbody tr th {\n",
       "        vertical-align: top;\n",
       "    }\n",
       "\n",
       "    .dataframe thead th {\n",
       "        text-align: right;\n",
       "    }\n",
       "</style>\n",
       "<table border=\"1\" class=\"dataframe\">\n",
       "  <thead>\n",
       "    <tr style=\"text-align: right;\">\n",
       "      <th></th>\n",
       "      <th>col1</th>\n",
       "      <th>col2</th>\n",
       "      <th>col3</th>\n",
       "      <th>col4</th>\n",
       "    </tr>\n",
       "  </thead>\n",
       "  <tbody>\n",
       "    <tr>\n",
       "      <th>0</th>\n",
       "      <td>A</td>\n",
       "      <td>2</td>\n",
       "      <td>0</td>\n",
       "      <td>a</td>\n",
       "    </tr>\n",
       "    <tr>\n",
       "      <th>1</th>\n",
       "      <td>A</td>\n",
       "      <td>1</td>\n",
       "      <td>1</td>\n",
       "      <td>B</td>\n",
       "    </tr>\n",
       "    <tr>\n",
       "      <th>2</th>\n",
       "      <td>B</td>\n",
       "      <td>9</td>\n",
       "      <td>9</td>\n",
       "      <td>c</td>\n",
       "    </tr>\n",
       "    <tr>\n",
       "      <th>5</th>\n",
       "      <td>C</td>\n",
       "      <td>4</td>\n",
       "      <td>3</td>\n",
       "      <td>F</td>\n",
       "    </tr>\n",
       "    <tr>\n",
       "      <th>4</th>\n",
       "      <td>D</td>\n",
       "      <td>7</td>\n",
       "      <td>2</td>\n",
       "      <td>e</td>\n",
       "    </tr>\n",
       "    <tr>\n",
       "      <th>3</th>\n",
       "      <td>NaN</td>\n",
       "      <td>8</td>\n",
       "      <td>4</td>\n",
       "      <td>D</td>\n",
       "    </tr>\n",
       "  </tbody>\n",
       "</table>\n",
       "</div>"
      ],
      "text/plain": [
       "  col1  col2  col3 col4\n",
       "0    A     2     0    a\n",
       "1    A     1     1    B\n",
       "2    B     9     9    c\n",
       "5    C     4     3    F\n",
       "4    D     7     2    e\n",
       "3  NaN     8     4    D"
      ]
     },
     "execution_count": 115,
     "metadata": {},
     "output_type": "execute_result"
    }
   ],
   "source": [
    "df.sort_values(by=['col1','col4'], key=lambda col: col.str.lower())"
   ]
  },
  {
   "cell_type": "markdown",
   "id": "22d86f4a",
   "metadata": {},
   "source": [
    "**Uwaga:** Argumentami funkcji lambda są całe serie danych odpowiadające poszczególnym kolumnom z listy 'by' a nie poszczególne elementy w kolumnach."
   ]
  },
  {
   "cell_type": "markdown",
   "id": "b46a3c99",
   "metadata": {},
   "source": [
    "### Ćwiczenie 2\n",
    "\n",
    "Dana jest ramka danych oraz lista zawierająca wszystkie unikatowe wartości jednej z kolumn ramki. Posortuj wiersze ramki, tak aby wartości w tej kolumnie występowały w tym samym porządku co na podanej liście.\n",
    "\n",
    "Przykład:\n",
    "Dla ramki danych\n",
    "\n",
    "<table>\n",
    "  <tr>\n",
    "    <th>colA</th>\n",
    "    <th>colB</th>\n",
    "  </tr>\n",
    "  <tr>\n",
    "    <th>A</th>\n",
    "    <th>1</th>\n",
    "  </tr>\n",
    "  <tr>\n",
    "    <th>B</th>\n",
    "    <th>2</th>\n",
    "  </tr>\n",
    "  <tr>\n",
    "    <th>C</th>\n",
    "    <th>3</th>\n",
    "  </tr>\n",
    "  <tr>\n",
    "    <th>D</th>\n",
    "    <th>4</th>\n",
    "  </tr>\n",
    "</table>\n",
    "\n",
    "i listy ['C','A','D','B'] dla kolumny colA wynikiem powinno być\n",
    "\n",
    "<table>\n",
    "  <tr>\n",
    "    <th>colA</th>\n",
    "    <th>colB</th>\n",
    "  </tr>\n",
    "  <tr>\n",
    "    <th>C</th>\n",
    "    <th>3</th>\n",
    "  </tr>\n",
    "  <tr>\n",
    "    <th>A</th>\n",
    "    <th>1</th>\n",
    "  </tr>\n",
    "  <tr>\n",
    "    <th>D</th>\n",
    "    <th>4</th>\n",
    "  </tr>\n",
    "  <tr>\n",
    "    <th>B</th>\n",
    "    <th>2</th>\n",
    "  </tr>\n",
    "</table>"
   ]
  },
  {
   "cell_type": "code",
   "execution_count": 122,
   "id": "68c4f834",
   "metadata": {},
   "outputs": [
    {
     "name": "stdout",
     "output_type": "stream",
     "text": [
      "  colA  colB\n",
      "2    C     3\n",
      "0    A     1\n",
      "3    D     4\n",
      "1    B     2\n"
     ]
    }
   ],
   "source": [
    "# Rozwiązanie\n",
    "df = pd.DataFrame({\n",
    "    \"colA\": [\"A\", \"B\", \"C\", \"D\"],\n",
    "    \"colB\": [1, 2, 3, 4]\n",
    "})\n",
    "lista = [\"C\", \"A\", \"D\", \"B\"]\n",
    "\n",
    "def sort_by_column(df, lista):\n",
    "    for c in df.columns:\n",
    "        if all(df[c].isin(lista)):\n",
    "            column = c\n",
    "            break  # Exit loop once a valid column is found\n",
    "    return df.sort_values(by=column, key = lambda x: x.map(lista.index))\n",
    "    \n",
    "sorted_df = sort_by_column(df, lista)\n",
    "print(sorted_df)"
   ]
  },
  {
   "cell_type": "markdown",
   "id": "6c6bc637",
   "metadata": {},
   "source": [
    "---\n",
    "## 4. Złączenia ramek danych w pandas"
   ]
  },
  {
   "cell_type": "markdown",
   "id": "bb25d27b",
   "metadata": {},
   "source": [
    "Istnieją następujące sposoby złączania ramek danych w pandas:\n",
    "- za pomocą metod [pandas.DataFrame.merge](https://pandas.pydata.org/docs/reference/api/pandas.DataFrame.merge.html) lub [pandas.DataFrame.join](https://pandas.pydata.org/docs/reference/api/pandas.DataFrame.join.html#pandas.DataFrame.join) (bazodanowe SQL join)\n",
    "- za pomocą funkcji [pandas.concat](https://pandas.pydata.org/docs/reference/api/pandas.concat.html) (dołączanie kolumn lub wierszy)\n",
    "- combine_first"
   ]
  },
  {
   "cell_type": "code",
   "execution_count": null,
   "id": "54b0a553",
   "metadata": {},
   "outputs": [],
   "source": [
    "df1 = pd.DataFrame({'lkey': ['foo', 'bar', 'baz', 'foo'],\n",
    "                    \n",
    "                    'value': [1, 2, 3, 5]})\n",
    "\n",
    "df2 = pd.DataFrame({'rkey': ['foo', 'bar', 'baz', 'foo'],\n",
    "\n",
    "                    'value': [5, 6, 7, 8]})"
   ]
  },
  {
   "cell_type": "markdown",
   "id": "fda7321c",
   "metadata": {},
   "source": [
    "Bazodanowe złączenie po indeksach (SQL full outer join):"
   ]
  },
  {
   "cell_type": "code",
   "execution_count": null,
   "id": "df6effc7",
   "metadata": {},
   "outputs": [],
   "source": [
    "df_merged = pd.merge(left=df1, right=df2, left_index=True, right_index=True)\n",
    "df_merged"
   ]
  },
  {
   "cell_type": "markdown",
   "id": "d9ce900c",
   "metadata": {},
   "source": [
    "Bazodanowe złączenie po określonych kolumnach (kluczach):"
   ]
  },
  {
   "cell_type": "code",
   "execution_count": null,
   "id": "51a676a0",
   "metadata": {},
   "outputs": [],
   "source": [
    "df1.merge(df2, how='left', left_on='lkey', right_on='rkey')"
   ]
  },
  {
   "cell_type": "code",
   "execution_count": null,
   "id": "3715dc17",
   "metadata": {},
   "outputs": [],
   "source": [
    "df1.merge(df2, how='right', left_on='lkey', right_on='rkey')"
   ]
  },
  {
   "cell_type": "markdown",
   "id": "9d13ed88",
   "metadata": {},
   "source": [
    "Zwróćmy uwagę, jak zostały zmienione etykiety 'value' w odpowiednich kolumnach.\n",
    "\n",
    "Przemianowywanie kolumn o takich samych etykietach można dostosować do własnych potrzeb:"
   ]
  },
  {
   "cell_type": "code",
   "execution_count": null,
   "id": "8fb99aba",
   "metadata": {},
   "outputs": [],
   "source": [
    "df1.merge(df2, how='left', left_on='lkey', right_on='rkey', suffixes=('_left', '_right'))"
   ]
  },
  {
   "cell_type": "markdown",
   "id": "114d117a",
   "metadata": {},
   "source": [
    "Przyjrzymy się teraz różnym rodzajom złączeń bazodanowych:"
   ]
  },
  {
   "cell_type": "code",
   "execution_count": null,
   "id": "29cd096b",
   "metadata": {},
   "outputs": [],
   "source": [
    "df1 = pd.DataFrame({'a': ['foo', 'bar'], 'b': [1, 2]})\n",
    "df2 = pd.DataFrame({'a': ['foo', 'baz'], 'c': [3, 4]})\n",
    "print(df1)\n",
    "print(df2)"
   ]
  },
  {
   "cell_type": "markdown",
   "id": "ce913845",
   "metadata": {},
   "source": [
    "Odpowiednik 'SQL full outer join'; używa teoriomnogościowej sumy zbiorów kluczy, która jest sortowana leksykograficznie:"
   ]
  },
  {
   "cell_type": "code",
   "execution_count": null,
   "id": "f80e5b6e",
   "metadata": {},
   "outputs": [],
   "source": [
    "df1.merge(df2, how='outer', on='a')"
   ]
  },
  {
   "cell_type": "markdown",
   "id": "122fee57",
   "metadata": {},
   "source": [
    "Odpowiednik 'SQL inner join'; używa teoriomnogościwego iloczynu (przecięcia) zbiorów kluczy, zachowując kolejność kluczy w lewej ramce:"
   ]
  },
  {
   "cell_type": "code",
   "execution_count": null,
   "id": "6ef1740b",
   "metadata": {},
   "outputs": [],
   "source": [
    "#pd.merge(left=df1, right=df2, how='inner', on='a')\n",
    "df1.merge(df2, how='inner', on='a')"
   ]
  },
  {
   "cell_type": "markdown",
   "id": "1d2ff0d8",
   "metadata": {},
   "source": [
    "Odpowiednik 'SQL left outer join'; używa wyłącznie kluczy z lewej ramki zachowując ich kolejność:"
   ]
  },
  {
   "cell_type": "code",
   "execution_count": null,
   "id": "b31de181",
   "metadata": {},
   "outputs": [],
   "source": [
    "#pd.merge(left=df1, right=df2, how='left', on='a')\n",
    "df1.merge(df2, how='left', on='a')"
   ]
  },
  {
   "cell_type": "markdown",
   "id": "757391fd",
   "metadata": {},
   "source": [
    "Odpowiednik 'SQL right outer join', używa wyłącznik kluczy prawej ramki zachowując ich kolejność:"
   ]
  },
  {
   "cell_type": "code",
   "execution_count": null,
   "id": "2bfbfddb",
   "metadata": {},
   "outputs": [],
   "source": [
    "#pd.merge(left=df1, right=df2, how='right', on='a')\n",
    "df1.merge(df2, how='right', on='a')"
   ]
  },
  {
   "cell_type": "markdown",
   "id": "f214a824",
   "metadata": {},
   "source": [
    "Iloczyn kartezjański obu ramek danych, który zachowuje kolejność kluczy lewej ramki:"
   ]
  },
  {
   "cell_type": "code",
   "execution_count": null,
   "id": "bb063cec",
   "metadata": {},
   "outputs": [],
   "source": [
    "df1.merge(df2, how='cross')"
   ]
  },
  {
   "cell_type": "markdown",
   "id": "a0431de2",
   "metadata": {},
   "source": [
    "Złączenia można realizować także za pomocą metody [pandas.DataFrame.join](https://pandas.pydata.org/docs/reference/api/pandas.DataFrame.join.html#pandas.DataFrame.join), która domyślnie realizuje złączenie po indeksach (w odróżnieniu od merge, która domyślnie dokonuje złączenia po wspólnych kolumnach):"
   ]
  },
  {
   "cell_type": "code",
   "execution_count": null,
   "id": "ff0c6939",
   "metadata": {},
   "outputs": [],
   "source": [
    "df1.join(other=df2, how='outer', lsuffix='_lewa', rsuffix='_prawa')"
   ]
  },
  {
   "cell_type": "markdown",
   "id": "8157e3c0",
   "metadata": {},
   "source": [
    "Następująca próba złączenia nie zadziała, gdyż próbuje dokonać złączenia na kolumnie df1.'a' i indeksie df2, których elementy są różnych typów: "
   ]
  },
  {
   "cell_type": "code",
   "execution_count": null,
   "id": "85cf4e6b",
   "metadata": {},
   "outputs": [],
   "source": [
    "df1.join(other=df2, on=['a'], how='outer', lsuffix='_lewa', rsuffix='_prawa')"
   ]
  },
  {
   "cell_type": "markdown",
   "id": "81515c6d",
   "metadata": {},
   "source": [
    "Za pomocą funkcji [pandas.concat](https://pandas.pydata.org/docs/reference/api/pandas.concat.html) możemy połączyć ramki danych w jedną ramkę kolumnami:"
   ]
  },
  {
   "cell_type": "code",
   "execution_count": null,
   "id": "14d0c2c7",
   "metadata": {},
   "outputs": [],
   "source": [
    "pd.concat([df1,df2],axis=1)"
   ]
  },
  {
   "cell_type": "markdown",
   "id": "72334a00",
   "metadata": {},
   "source": [
    "bądź wierszami:"
   ]
  },
  {
   "cell_type": "code",
   "execution_count": null,
   "id": "1bbc2c74",
   "metadata": {},
   "outputs": [],
   "source": [
    "pd.concat([df1,df2],axis=0)"
   ]
  },
  {
   "cell_type": "markdown",
   "id": "96a236c0",
   "metadata": {},
   "source": [
    "Przy wierszowym łączeniu ramek przydatna może okazać się możliwość ignorowania wartości indeksów łączonych ramek danych. W takim przypadku kolejne wiersze będą inkesowane liczbami od 0 do n-1:"
   ]
  },
  {
   "cell_type": "code",
   "execution_count": null,
   "id": "78bbb674",
   "metadata": {},
   "outputs": [],
   "source": [
    "pd.concat([df1,df2],axis=0,ignore_index=True)"
   ]
  },
  {
   "cell_type": "markdown",
   "id": "3d7fa2af",
   "metadata": {},
   "source": [
    "Domyślną wartością parametru join jest 'outer'. Możemy wywołać funkcję concat z argumentem join o wartości 'inner', co spowoduje uwzględnienie w wyniku naszego wywołania tylko kolumn o wspólnych etykiach w łączonych ramkach danych:"
   ]
  },
  {
   "cell_type": "code",
   "execution_count": null,
   "id": "a547d875",
   "metadata": {},
   "outputs": [],
   "source": [
    "pd.concat([df1,df2],axis=0,join='inner')"
   ]
  },
  {
   "cell_type": "markdown",
   "id": "d7936f08",
   "metadata": {},
   "source": [
    "W przypadku łaczenia wierszy zadziała to tak:"
   ]
  },
  {
   "cell_type": "code",
   "execution_count": null,
   "id": "a0474968",
   "metadata": {},
   "outputs": [],
   "source": [
    "df1 = pd.DataFrame({'a': ['foo', 'bar', 'abc'], 'b': [1, 2, 7]})\n",
    "df2 = pd.DataFrame({'a': ['foo', 'baz'], 'c': [3, 4]})\n",
    "print(df1)\n",
    "print(df2)\n",
    "pd.concat([df1,df2],axis=1,join='inner')"
   ]
  },
  {
   "cell_type": "markdown",
   "id": "f2749eb2",
   "metadata": {},
   "source": [
    "Metoda [pandas.DataFrame.combine_first](https://pandas.pydata.org/docs/reference/api/pandas.DataFrame.combine_first.html) pozwala na uzupełnianie brakujących wartości (None) danej ramki danych odpowiednimi wartościami z drugiej ramki danych:"
   ]
  },
  {
   "cell_type": "code",
   "execution_count": null,
   "id": "d90605fc",
   "metadata": {},
   "outputs": [],
   "source": [
    "df1 = pd.DataFrame({'A': [None, 0], 'B': [None, 4]})\n",
    "df2 = pd.DataFrame({'A': [1, 1], 'B': [3, 3]})\n",
    "print(df1)\n",
    "print(df2)\n",
    "df1.combine_first(df2)"
   ]
  },
  {
   "cell_type": "markdown",
   "id": "b4ba85eb",
   "metadata": {},
   "source": [
    "Wywołanie df1.combine_first(df2) łączy dwie ramki danych uzupełniając brakujące wartości w lokacjach ramki df1 istniejącymi wartościami w odpowiadających lokacjach ramki df2. Brakująca wartość pozostanie w df1 jeżeli nie ma określonej wartości w odpowiadającej lokacji w ramce df2.\n",
    "\n",
    "Indeksy kolumn i wierszy wynikowej ramki danych są teoriomnogościową sumą odpowiednich indeksów obu ramek."
   ]
  },
  {
   "cell_type": "code",
   "execution_count": null,
   "id": "40a2f5ba",
   "metadata": {},
   "outputs": [],
   "source": [
    "df1 = pd.DataFrame({'A': [None, 0], 'B': [4, None]})\n",
    "df2 = pd.DataFrame({'B': [3, 3], 'C': [1, 1]}, index=[1, 2])\n",
    "print(df1)\n",
    "print(df2)\n",
    "df1.combine_first(df2)"
   ]
  },
  {
   "cell_type": "markdown",
   "id": "2bdfa428",
   "metadata": {},
   "source": [
    "---\n",
    "## 5. Grupowanie w pandas"
   ]
  },
  {
   "cell_type": "markdown",
   "id": "066a5771",
   "metadata": {},
   "source": [
    "Mechanizm grupowania w pandas pozwala podzielić dane na grupy i zastosować funkcję agregującą do każdej z grup niezależnie.\n",
    "\n",
    "Metoda [pandas.DataFrame.groupby](https://pandas.pydata.org/docs/reference/api/pandas.DataFrame.groupby.html) zwraca obiekt groupby zawierający informacje o utworzonych grupach:"
   ]
  },
  {
   "cell_type": "code",
   "execution_count": null,
   "id": "5d32c60e",
   "metadata": {},
   "outputs": [],
   "source": [
    "df = pd.DataFrame({'Animal': ['Falcon', 'Falcon', 'Parrot', 'Parrot'],\n",
    "                   'Max Speed': [380., 370., 24., 26.]})"
   ]
  },
  {
   "cell_type": "markdown",
   "id": "ea293174",
   "metadata": {},
   "source": [
    "Grupowanie za pomocą kolumny grupującej:"
   ]
  },
  {
   "cell_type": "code",
   "execution_count": null,
   "id": "dc7baf1a",
   "metadata": {},
   "outputs": [],
   "source": [
    "gb = df.groupby(['Animal'])"
   ]
  },
  {
   "cell_type": "markdown",
   "id": "d2b5312a",
   "metadata": {},
   "source": [
    "Wartością atrubytu .groups jest słownik reprezentujący grupy:"
   ]
  },
  {
   "cell_type": "code",
   "execution_count": null,
   "id": "925faf9f",
   "metadata": {},
   "outputs": [],
   "source": [
    "gb.groups"
   ]
  },
  {
   "cell_type": "markdown",
   "id": "22250947",
   "metadata": {},
   "source": [
    "Iteracja po grupach (zwykle nie jest używana):"
   ]
  },
  {
   "cell_type": "code",
   "execution_count": null,
   "id": "9c0fa6ff",
   "metadata": {},
   "outputs": [],
   "source": [
    "for name, group in gb:\n",
    "    print (name)\n",
    "    print (group)"
   ]
  },
  {
   "cell_type": "code",
   "execution_count": null,
   "id": "0550af94",
   "metadata": {},
   "outputs": [],
   "source": [
    "gb.get_group('Parrot')"
   ]
  },
  {
   "cell_type": "markdown",
   "id": "f3173b65",
   "metadata": {},
   "source": [
    "Możemy teraz policzyć średnie prędkości uzyskiwane przez zwierzęta stosując funkcję agregującą, w naszym przypadku funkcję mean():"
   ]
  },
  {
   "cell_type": "code",
   "execution_count": null,
   "id": "3775b798",
   "metadata": {},
   "outputs": [],
   "source": [
    "gb.mean()"
   ]
  },
  {
   "cell_type": "markdown",
   "id": "0bf89ef3",
   "metadata": {},
   "source": [
    "Funkcja mean() zostanie zastosowana do każdej kolumny w każdej z grup niezależnie. Zobaczymy to jeszcze poniżej."
   ]
  },
  {
   "cell_type": "markdown",
   "id": "fc0e4fd4",
   "metadata": {},
   "source": [
    "Możemy też zastosować wiele funkcji agregujących do jednej kolumny."
   ]
  },
  {
   "cell_type": "code",
   "execution_count": null,
   "id": "22d1a6ce",
   "metadata": {},
   "outputs": [],
   "source": [
    "df_result = gb.agg([np.sum, np.mean, np.std])\n",
    "df_result"
   ]
  },
  {
   "cell_type": "markdown",
   "id": "9f34fc52",
   "metadata": {},
   "source": [
    "Wynikowa ramka danych posiada indeks hierarchiczny ([MultiIndex](https://pandas.pydata.org/docs/user_guide/advanced.html)) dla kolumn:"
   ]
  },
  {
   "cell_type": "code",
   "execution_count": null,
   "id": "4e03054b",
   "metadata": {},
   "outputs": [],
   "source": [
    "df_result.columns"
   ]
  },
  {
   "cell_type": "markdown",
   "id": "95e52798",
   "metadata": {},
   "source": [
    "Możemy też zastosować wiele (różnych) funkcji agregujących do wielu kolumn: "
   ]
  },
  {
   "cell_type": "code",
   "execution_count": null,
   "id": "dc69a735",
   "metadata": {},
   "outputs": [],
   "source": [
    "l = [[1, 2, 3], [1, 5, 4], [2, 0, 3], [1, 2, 2]]\n",
    "df_abc = pd.DataFrame(l, columns=[\"a\", \"b\", \"c\"])\n",
    "df_abc"
   ]
  },
  {
   "cell_type": "code",
   "execution_count": null,
   "id": "1cc7120d",
   "metadata": {},
   "outputs": [],
   "source": [
    "df_abc.groupby('a').agg({'b': np.count_nonzero, 'c': [np.mean, np.sum]})"
   ]
  },
  {
   "cell_type": "markdown",
   "id": "766830c3",
   "metadata": {},
   "source": [
    "Jeżeli kluczem grupy jest NA, wiersze/kolumny odpowiadające takiej grupie domyślnie zostaną pominięte. Aby to zmienić, należy wartość argumentu dropna ustawić na False. Przeanalizujemy to na przykładzie:"
   ]
  },
  {
   "cell_type": "code",
   "execution_count": null,
   "id": "72b23212",
   "metadata": {},
   "outputs": [],
   "source": [
    "l = [[1, 2, 3], [1, None, 4], [2, 1, 3], [1, 2, 2]]\n",
    "df = pd.DataFrame(l, columns=[\"a\", \"b\", \"c\"])\n",
    "df"
   ]
  },
  {
   "cell_type": "markdown",
   "id": "75d9c571",
   "metadata": {},
   "source": [
    "Pogrupujemy po kolumnie 'b' z domyślną wartością argumentu dropna:"
   ]
  },
  {
   "cell_type": "code",
   "execution_count": null,
   "id": "2456c7e6",
   "metadata": {},
   "outputs": [],
   "source": [
    "df.groupby(by=[\"b\"]).sum()"
   ]
  },
  {
   "cell_type": "markdown",
   "id": "fc26deff",
   "metadata": {},
   "source": [
    "W powyższym przykładzie funkcja agregującą sum() została zastosowana do wszystkich kolumn, tj. a i c, dla każdej z grup niezależnie. Możemy to zmienić wybierając kolumny, do których chcemy zastosować funkcję agregującą:"
   ]
  },
  {
   "cell_type": "code",
   "execution_count": null,
   "id": "8f10ffd8",
   "metadata": {},
   "outputs": [],
   "source": [
    "df.groupby(by=[\"b\"])[['c']].sum()"
   ]
  },
  {
   "cell_type": "markdown",
   "id": "dcdc31bb",
   "metadata": {},
   "source": [
    "Teraz zmienimy wartość dropna na False:"
   ]
  },
  {
   "cell_type": "code",
   "execution_count": null,
   "id": "f7ceb1b6",
   "metadata": {},
   "outputs": [],
   "source": [
    "df.groupby(by=[\"b\"], dropna=False).sum()"
   ]
  },
  {
   "cell_type": "markdown",
   "id": "1fd02d54",
   "metadata": {},
   "source": [
    "Możemy również grupować za pomocą poszczególnych poziomów indeksu hierarchicznego.\n",
    "\n",
    "Najpierw utworzymy indeks hierarchiczny z tablicy:"
   ]
  },
  {
   "cell_type": "code",
   "execution_count": null,
   "id": "477d7df5",
   "metadata": {},
   "outputs": [],
   "source": [
    "arrays = [['Falcon', 'Falcon', 'Parrot', 'Parrot'],\n",
    "          ['Captive', 'Wild', 'Captive', 'Wild']]\n",
    "index = pd.MultiIndex.from_arrays(arrays, names=('Animal', 'Type'))\n",
    "index"
   ]
  },
  {
   "cell_type": "markdown",
   "id": "67f75605",
   "metadata": {},
   "source": [
    "Następnie utworzymy ramkę danych z naszymi danymi indeksowaną indeksem hierarchicznym:"
   ]
  },
  {
   "cell_type": "code",
   "execution_count": null,
   "id": "999c8a65",
   "metadata": {},
   "outputs": [],
   "source": [
    "df = pd.DataFrame({'Max Speed': [390., 350., 30., 20.]}, index=index)\n",
    "df"
   ]
  },
  {
   "cell_type": "markdown",
   "id": "534b0a28",
   "metadata": {},
   "source": [
    "Pogrupujemy dane na podstawie pierwszego poziomu indeksu hierarchicznego:"
   ]
  },
  {
   "cell_type": "code",
   "execution_count": null,
   "id": "357d95ad",
   "metadata": {},
   "outputs": [],
   "source": [
    "df.groupby(level=0).groups"
   ]
  },
  {
   "cell_type": "markdown",
   "id": "93ba973d",
   "metadata": {},
   "source": [
    "a teraz na podstawie poziomu drugiego:"
   ]
  },
  {
   "cell_type": "code",
   "execution_count": null,
   "id": "9d1cff71",
   "metadata": {},
   "outputs": [],
   "source": [
    "df.groupby(level='Type').groups"
   ]
  },
  {
   "cell_type": "markdown",
   "id": "a35a5721",
   "metadata": {},
   "source": [
    "---\n",
    "## Małe zadanie domowe 12\n",
    "\n",
    "Poczytać o funkcji [pandas.pivot_table](https://pandas.pydata.org/docs/reference/api/pandas.pivot_table.html) i przeanalizować jej działanie w podanych przykładach. \n",
    "\n",
    "Następnie, dla danych podanych poniżej w ramce df_employees, za pomocą funkcji pivot_table utworzyć podsumowująca ramkę danych, której indeks będzie składał się z poszczególnych rodzajów zatrudnienia, tj. unikatowych wartości kolumny 'Type', a poszczególne kolumny będą zawierały sumę zarobków, wartość średnią zarobków i liczbę pracowników odzielnie dla każdego z wydziałów, tj. dla każdej z unikatowych wartości w kolumnie 'Department'. "
   ]
  },
  {
   "cell_type": "code",
   "execution_count": 188,
   "id": "203d17ae",
   "metadata": {},
   "outputs": [
    {
     "data": {
      "text/html": [
       "<div>\n",
       "<style scoped>\n",
       "    .dataframe tbody tr th:only-of-type {\n",
       "        vertical-align: middle;\n",
       "    }\n",
       "\n",
       "    .dataframe tbody tr th {\n",
       "        vertical-align: top;\n",
       "    }\n",
       "\n",
       "    .dataframe thead th {\n",
       "        text-align: right;\n",
       "    }\n",
       "</style>\n",
       "<table border=\"1\" class=\"dataframe\">\n",
       "  <thead>\n",
       "    <tr style=\"text-align: right;\">\n",
       "      <th></th>\n",
       "      <th>First Name</th>\n",
       "      <th>Last Name</th>\n",
       "      <th>Type</th>\n",
       "      <th>Department</th>\n",
       "      <th>YearsOfExperience</th>\n",
       "      <th>Salary</th>\n",
       "    </tr>\n",
       "  </thead>\n",
       "  <tbody>\n",
       "    <tr>\n",
       "      <th>0</th>\n",
       "      <td>Tom</td>\n",
       "      <td>Brown</td>\n",
       "      <td>Full-time Employee</td>\n",
       "      <td>Administration</td>\n",
       "      <td>4</td>\n",
       "      <td>15000</td>\n",
       "    </tr>\n",
       "    <tr>\n",
       "      <th>1</th>\n",
       "      <td>Adam</td>\n",
       "      <td>Green</td>\n",
       "      <td>Intern</td>\n",
       "      <td>Technical</td>\n",
       "      <td>3</td>\n",
       "      <td>6000</td>\n",
       "    </tr>\n",
       "    <tr>\n",
       "      <th>2</th>\n",
       "      <td>Jane</td>\n",
       "      <td>Thompson</td>\n",
       "      <td>Full-time Employee</td>\n",
       "      <td>Administration</td>\n",
       "      <td>5</td>\n",
       "      <td>9000</td>\n",
       "    </tr>\n",
       "    <tr>\n",
       "      <th>3</th>\n",
       "      <td>Alice</td>\n",
       "      <td>Smith</td>\n",
       "      <td>Part-time Employee</td>\n",
       "      <td>Technical</td>\n",
       "      <td>7</td>\n",
       "      <td>10000</td>\n",
       "    </tr>\n",
       "    <tr>\n",
       "      <th>4</th>\n",
       "      <td>Robert</td>\n",
       "      <td>Newman</td>\n",
       "      <td>Full-time Employee</td>\n",
       "      <td>Management</td>\n",
       "      <td>6</td>\n",
       "      <td>20000</td>\n",
       "    </tr>\n",
       "    <tr>\n",
       "      <th>5</th>\n",
       "      <td>Bob</td>\n",
       "      <td>Parker</td>\n",
       "      <td>Intern</td>\n",
       "      <td>Administration</td>\n",
       "      <td>1</td>\n",
       "      <td>3000</td>\n",
       "    </tr>\n",
       "    <tr>\n",
       "      <th>6</th>\n",
       "      <td>John</td>\n",
       "      <td>Williams</td>\n",
       "      <td>Intern</td>\n",
       "      <td>Management</td>\n",
       "      <td>2</td>\n",
       "      <td>4000</td>\n",
       "    </tr>\n",
       "    <tr>\n",
       "      <th>7</th>\n",
       "      <td>Frank</td>\n",
       "      <td>Taylor</td>\n",
       "      <td>Part-time Employee</td>\n",
       "      <td>Administration</td>\n",
       "      <td>2</td>\n",
       "      <td>6000</td>\n",
       "    </tr>\n",
       "    <tr>\n",
       "      <th>8</th>\n",
       "      <td>Eva</td>\n",
       "      <td>Evans</td>\n",
       "      <td>Part-time Employee</td>\n",
       "      <td>Management</td>\n",
       "      <td>4</td>\n",
       "      <td>12000</td>\n",
       "    </tr>\n",
       "    <tr>\n",
       "      <th>9</th>\n",
       "      <td>John</td>\n",
       "      <td>Lewis</td>\n",
       "      <td>Full-time Employee</td>\n",
       "      <td>Technical</td>\n",
       "      <td>5</td>\n",
       "      <td>8000</td>\n",
       "    </tr>\n",
       "    <tr>\n",
       "      <th>10</th>\n",
       "      <td>Lois</td>\n",
       "      <td>White</td>\n",
       "      <td>Part-time Employee</td>\n",
       "      <td>Management</td>\n",
       "      <td>2</td>\n",
       "      <td>5500</td>\n",
       "    </tr>\n",
       "  </tbody>\n",
       "</table>\n",
       "</div>"
      ],
      "text/plain": [
       "   First Name Last Name                Type      Department  \\\n",
       "0         Tom     Brown  Full-time Employee  Administration   \n",
       "1        Adam     Green              Intern       Technical   \n",
       "2        Jane  Thompson  Full-time Employee  Administration   \n",
       "3       Alice     Smith  Part-time Employee       Technical   \n",
       "4      Robert    Newman  Full-time Employee      Management   \n",
       "5         Bob    Parker              Intern  Administration   \n",
       "6        John  Williams              Intern      Management   \n",
       "7       Frank    Taylor  Part-time Employee  Administration   \n",
       "8         Eva     Evans  Part-time Employee      Management   \n",
       "9        John     Lewis  Full-time Employee       Technical   \n",
       "10       Lois     White  Part-time Employee      Management   \n",
       "\n",
       "    YearsOfExperience  Salary  \n",
       "0                   4   15000  \n",
       "1                   3    6000  \n",
       "2                   5    9000  \n",
       "3                   7   10000  \n",
       "4                   6   20000  \n",
       "5                   1    3000  \n",
       "6                   2    4000  \n",
       "7                   2    6000  \n",
       "8                   4   12000  \n",
       "9                   5    8000  \n",
       "10                  2    5500  "
      ]
     },
     "execution_count": 188,
     "metadata": {},
     "output_type": "execute_result"
    }
   ],
   "source": [
    "df_employees = pd.DataFrame({'First Name': ['Tom', 'Adam', 'Jane', 'Alice', 'Robert', 'Bob', 'John', 'Frank', 'Eva',\n",
    "                                            'John', 'Lois'],\n",
    "                   'Last Name': ['Brown', 'Green', 'Thompson', 'Smith', 'Newman', 'Parker', 'Williams', 'Taylor', 'Evans',\n",
    "                                 'Lewis', 'White'],\n",
    "                   'Type': ['Full-time Employee', 'Intern', 'Full-time Employee', 'Part-time Employee', \n",
    "                            'Full-time Employee', 'Intern', 'Intern', 'Part-time Employee', 'Part-time Employee',\n",
    "                            'Full-time Employee', 'Part-time Employee'],\n",
    "                   'Department': ['Administration', 'Technical', 'Administration', 'Technical', 'Management',\n",
    "                                  'Administration', 'Management', 'Administration', 'Management', 'Technical',\n",
    "                                  'Management'],\n",
    "                   'YearsOfExperience': [4, 3, 5, 7, 6, 1, 2, 2, 4, 5, 2],\n",
    "                   'Salary': [15000, 6000, 9000, 10000, 20000, 3000, 4000, 6000, 12000, 8000, 5500]})\n",
    "\n",
    "df_employees"
   ]
  },
  {
   "cell_type": "code",
   "execution_count": 194,
   "id": "e4245512-fb4e-4ced-8d78-38ddc361e056",
   "metadata": {},
   "outputs": [
    {
     "data": {
      "text/html": [
       "<div>\n",
       "<style scoped>\n",
       "    .dataframe tbody tr th:only-of-type {\n",
       "        vertical-align: middle;\n",
       "    }\n",
       "\n",
       "    .dataframe tbody tr th {\n",
       "        vertical-align: top;\n",
       "    }\n",
       "\n",
       "    .dataframe thead tr th {\n",
       "        text-align: left;\n",
       "    }\n",
       "\n",
       "    .dataframe thead tr:last-of-type th {\n",
       "        text-align: right;\n",
       "    }\n",
       "</style>\n",
       "<table border=\"1\" class=\"dataframe\">\n",
       "  <thead>\n",
       "    <tr>\n",
       "      <th></th>\n",
       "      <th colspan=\"3\" halign=\"left\">First Name</th>\n",
       "      <th colspan=\"6\" halign=\"left\">Salary</th>\n",
       "    </tr>\n",
       "    <tr>\n",
       "      <th></th>\n",
       "      <th colspan=\"3\" halign=\"left\">count</th>\n",
       "      <th colspan=\"3\" halign=\"left\">mean</th>\n",
       "      <th colspan=\"3\" halign=\"left\">sum</th>\n",
       "    </tr>\n",
       "    <tr>\n",
       "      <th>Department</th>\n",
       "      <th>Administration</th>\n",
       "      <th>Management</th>\n",
       "      <th>Technical</th>\n",
       "      <th>Administration</th>\n",
       "      <th>Management</th>\n",
       "      <th>Technical</th>\n",
       "      <th>Administration</th>\n",
       "      <th>Management</th>\n",
       "      <th>Technical</th>\n",
       "    </tr>\n",
       "    <tr>\n",
       "      <th>Type</th>\n",
       "      <th></th>\n",
       "      <th></th>\n",
       "      <th></th>\n",
       "      <th></th>\n",
       "      <th></th>\n",
       "      <th></th>\n",
       "      <th></th>\n",
       "      <th></th>\n",
       "      <th></th>\n",
       "    </tr>\n",
       "  </thead>\n",
       "  <tbody>\n",
       "    <tr>\n",
       "      <th>Full-time Employee</th>\n",
       "      <td>2</td>\n",
       "      <td>1</td>\n",
       "      <td>1</td>\n",
       "      <td>12000.0</td>\n",
       "      <td>20000.0</td>\n",
       "      <td>8000.0</td>\n",
       "      <td>24000</td>\n",
       "      <td>20000</td>\n",
       "      <td>8000</td>\n",
       "    </tr>\n",
       "    <tr>\n",
       "      <th>Intern</th>\n",
       "      <td>1</td>\n",
       "      <td>1</td>\n",
       "      <td>1</td>\n",
       "      <td>3000.0</td>\n",
       "      <td>4000.0</td>\n",
       "      <td>6000.0</td>\n",
       "      <td>3000</td>\n",
       "      <td>4000</td>\n",
       "      <td>6000</td>\n",
       "    </tr>\n",
       "    <tr>\n",
       "      <th>Part-time Employee</th>\n",
       "      <td>1</td>\n",
       "      <td>2</td>\n",
       "      <td>1</td>\n",
       "      <td>6000.0</td>\n",
       "      <td>8750.0</td>\n",
       "      <td>10000.0</td>\n",
       "      <td>6000</td>\n",
       "      <td>17500</td>\n",
       "      <td>10000</td>\n",
       "    </tr>\n",
       "  </tbody>\n",
       "</table>\n",
       "</div>"
      ],
      "text/plain": [
       "                       First Name                              Salary  \\\n",
       "                            count                                mean   \n",
       "Department         Administration Management Technical Administration   \n",
       "Type                                                                    \n",
       "Full-time Employee              2          1         1        12000.0   \n",
       "Intern                          1          1         1         3000.0   \n",
       "Part-time Employee              1          2         1         6000.0   \n",
       "\n",
       "                                                                             \n",
       "                                                   sum                       \n",
       "Department         Management Technical Administration Management Technical  \n",
       "Type                                                                         \n",
       "Full-time Employee    20000.0    8000.0          24000      20000      8000  \n",
       "Intern                 4000.0    6000.0           3000       4000      6000  \n",
       "Part-time Employee     8750.0   10000.0           6000      17500     10000  "
      ]
     },
     "execution_count": 194,
     "metadata": {},
     "output_type": "execute_result"
    }
   ],
   "source": [
    "#Rozwiązanie: Stworzenie pivot table\n",
    "\n",
    "table = pd.pivot_table(df_employees, values=['Salary', 'First Name' ], columns = ['Department'], index=['Type'],\n",
    "                       aggfunc={'Salary': [\"sum\", \"mean\"],\n",
    "                                'First Name': \"count\"})\n",
    "\n",
    "table"
   ]
  },
  {
   "cell_type": "code",
   "execution_count": 195,
   "id": "88554086-e277-49c7-9ab3-f5745c223606",
   "metadata": {},
   "outputs": [
    {
     "data": {
      "text/html": [
       "<div>\n",
       "<style scoped>\n",
       "    .dataframe tbody tr th:only-of-type {\n",
       "        vertical-align: middle;\n",
       "    }\n",
       "\n",
       "    .dataframe tbody tr th {\n",
       "        vertical-align: top;\n",
       "    }\n",
       "\n",
       "    .dataframe thead tr th {\n",
       "        text-align: left;\n",
       "    }\n",
       "\n",
       "    .dataframe thead tr:last-of-type th {\n",
       "        text-align: right;\n",
       "    }\n",
       "</style>\n",
       "<table border=\"1\" class=\"dataframe\">\n",
       "  <thead>\n",
       "    <tr>\n",
       "      <th></th>\n",
       "      <th colspan=\"3\" halign=\"left\">N of Workers</th>\n",
       "      <th colspan=\"6\" halign=\"left\">Salary</th>\n",
       "    </tr>\n",
       "    <tr>\n",
       "      <th></th>\n",
       "      <th colspan=\"3\" halign=\"left\">count</th>\n",
       "      <th colspan=\"3\" halign=\"left\">mean</th>\n",
       "      <th colspan=\"3\" halign=\"left\">sum</th>\n",
       "    </tr>\n",
       "    <tr>\n",
       "      <th>Department</th>\n",
       "      <th>Administration</th>\n",
       "      <th>Management</th>\n",
       "      <th>Technical</th>\n",
       "      <th>Administration</th>\n",
       "      <th>Management</th>\n",
       "      <th>Technical</th>\n",
       "      <th>Administration</th>\n",
       "      <th>Management</th>\n",
       "      <th>Technical</th>\n",
       "    </tr>\n",
       "    <tr>\n",
       "      <th>Type</th>\n",
       "      <th></th>\n",
       "      <th></th>\n",
       "      <th></th>\n",
       "      <th></th>\n",
       "      <th></th>\n",
       "      <th></th>\n",
       "      <th></th>\n",
       "      <th></th>\n",
       "      <th></th>\n",
       "    </tr>\n",
       "  </thead>\n",
       "  <tbody>\n",
       "    <tr>\n",
       "      <th>Full-time Employee</th>\n",
       "      <td>2</td>\n",
       "      <td>1</td>\n",
       "      <td>1</td>\n",
       "      <td>12000.0</td>\n",
       "      <td>20000.0</td>\n",
       "      <td>8000.0</td>\n",
       "      <td>24000</td>\n",
       "      <td>20000</td>\n",
       "      <td>8000</td>\n",
       "    </tr>\n",
       "    <tr>\n",
       "      <th>Intern</th>\n",
       "      <td>1</td>\n",
       "      <td>1</td>\n",
       "      <td>1</td>\n",
       "      <td>3000.0</td>\n",
       "      <td>4000.0</td>\n",
       "      <td>6000.0</td>\n",
       "      <td>3000</td>\n",
       "      <td>4000</td>\n",
       "      <td>6000</td>\n",
       "    </tr>\n",
       "    <tr>\n",
       "      <th>Part-time Employee</th>\n",
       "      <td>1</td>\n",
       "      <td>2</td>\n",
       "      <td>1</td>\n",
       "      <td>6000.0</td>\n",
       "      <td>8750.0</td>\n",
       "      <td>10000.0</td>\n",
       "      <td>6000</td>\n",
       "      <td>17500</td>\n",
       "      <td>10000</td>\n",
       "    </tr>\n",
       "  </tbody>\n",
       "</table>\n",
       "</div>"
      ],
      "text/plain": [
       "                     N of Workers                              Salary  \\\n",
       "                            count                                mean   \n",
       "Department         Administration Management Technical Administration   \n",
       "Type                                                                    \n",
       "Full-time Employee              2          1         1        12000.0   \n",
       "Intern                          1          1         1         3000.0   \n",
       "Part-time Employee              1          2         1         6000.0   \n",
       "\n",
       "                                                                             \n",
       "                                                   sum                       \n",
       "Department         Management Technical Administration Management Technical  \n",
       "Type                                                                         \n",
       "Full-time Employee    20000.0    8000.0          24000      20000      8000  \n",
       "Intern                 4000.0    6000.0           3000       4000      6000  \n",
       "Part-time Employee     8750.0   10000.0           6000      17500     10000  "
      ]
     },
     "execution_count": 195,
     "metadata": {},
     "output_type": "execute_result"
    }
   ],
   "source": [
    "# Zmiana nazwy z \"First Name\" na \"N of Workers\"\n",
    "table.rename(columns={'First Name': 'N of Workers'}, level=0, inplace=True)\n",
    "\n",
    "table"
   ]
  },
  {
   "cell_type": "markdown",
   "id": "af5f9885-6533-4c14-b24d-b91e4b7fe65a",
   "metadata": {},
   "source": [
    "#### Dalej to już moja zabawa"
   ]
  },
  {
   "cell_type": "code",
   "execution_count": 196,
   "id": "c2db0343-04bd-43fb-a888-9faaec6de3df",
   "metadata": {},
   "outputs": [
    {
     "data": {
      "text/html": [
       "<div>\n",
       "<style scoped>\n",
       "    .dataframe tbody tr th:only-of-type {\n",
       "        vertical-align: middle;\n",
       "    }\n",
       "\n",
       "    .dataframe tbody tr th {\n",
       "        vertical-align: top;\n",
       "    }\n",
       "\n",
       "    .dataframe thead tr th {\n",
       "        text-align: left;\n",
       "    }\n",
       "\n",
       "    .dataframe thead tr:last-of-type th {\n",
       "        text-align: right;\n",
       "    }\n",
       "</style>\n",
       "<table border=\"1\" class=\"dataframe\">\n",
       "  <thead>\n",
       "    <tr>\n",
       "      <th></th>\n",
       "      <th>N of Workers</th>\n",
       "      <th colspan=\"2\" halign=\"left\">Salary</th>\n",
       "    </tr>\n",
       "    <tr>\n",
       "      <th></th>\n",
       "      <th>count</th>\n",
       "      <th>mean</th>\n",
       "      <th>sum</th>\n",
       "    </tr>\n",
       "    <tr>\n",
       "      <th>Type</th>\n",
       "      <th></th>\n",
       "      <th></th>\n",
       "      <th></th>\n",
       "    </tr>\n",
       "  </thead>\n",
       "  <tbody>\n",
       "    <tr>\n",
       "      <th>Full-time Employee</th>\n",
       "      <td>4</td>\n",
       "      <td>13000.000000</td>\n",
       "      <td>52000</td>\n",
       "    </tr>\n",
       "    <tr>\n",
       "      <th>Intern</th>\n",
       "      <td>3</td>\n",
       "      <td>4333.333333</td>\n",
       "      <td>13000</td>\n",
       "    </tr>\n",
       "    <tr>\n",
       "      <th>Part-time Employee</th>\n",
       "      <td>4</td>\n",
       "      <td>8375.000000</td>\n",
       "      <td>33500</td>\n",
       "    </tr>\n",
       "  </tbody>\n",
       "</table>\n",
       "</div>"
      ],
      "text/plain": [
       "                   N of Workers        Salary       \n",
       "                          count          mean    sum\n",
       "Type                                                \n",
       "Full-time Employee            4  13000.000000  52000\n",
       "Intern                        3   4333.333333  13000\n",
       "Part-time Employee            4   8375.000000  33500"
      ]
     },
     "execution_count": 196,
     "metadata": {},
     "output_type": "execute_result"
    }
   ],
   "source": [
    "# Aaaa tu mamy total:\n",
    "total_table = pd.pivot_table(df_employees, values=['Salary', 'First Name' ], index=['Type'],\n",
    "                       aggfunc={'Salary': [\"sum\", \"mean\"],\n",
    "                                'First Name': \"count\"})\n",
    "\n",
    "total_table.rename(columns={'First Name': 'N of Workers'}, level=0, inplace=True)\n",
    "\n",
    "total_table\n",
    "# Możnaby więc to jeszcze dołączyć do naszej wcześniejszej tabeli"
   ]
  },
  {
   "cell_type": "code",
   "execution_count": 170,
   "id": "be38c831-8db8-4416-89d7-71eb4856011e",
   "metadata": {},
   "outputs": [
    {
     "data": {
      "text/html": [
       "<div>\n",
       "<style scoped>\n",
       "    .dataframe tbody tr th:only-of-type {\n",
       "        vertical-align: middle;\n",
       "    }\n",
       "\n",
       "    .dataframe tbody tr th {\n",
       "        vertical-align: top;\n",
       "    }\n",
       "\n",
       "    .dataframe thead tr th {\n",
       "        text-align: left;\n",
       "    }\n",
       "\n",
       "    .dataframe thead tr:last-of-type th {\n",
       "        text-align: right;\n",
       "    }\n",
       "</style>\n",
       "<table border=\"1\" class=\"dataframe\">\n",
       "  <thead>\n",
       "    <tr>\n",
       "      <th></th>\n",
       "      <th colspan=\"3\" halign=\"left\">N of Workers</th>\n",
       "      <th colspan=\"6\" halign=\"left\">Salary</th>\n",
       "    </tr>\n",
       "    <tr>\n",
       "      <th></th>\n",
       "      <th colspan=\"3\" halign=\"left\">count</th>\n",
       "      <th colspan=\"3\" halign=\"left\">mean</th>\n",
       "      <th colspan=\"3\" halign=\"left\">sum</th>\n",
       "    </tr>\n",
       "    <tr>\n",
       "      <th>Department</th>\n",
       "      <th>Administration</th>\n",
       "      <th>Management</th>\n",
       "      <th>Technical</th>\n",
       "      <th>Administration</th>\n",
       "      <th>Management</th>\n",
       "      <th>Technical</th>\n",
       "      <th>Administration</th>\n",
       "      <th>Management</th>\n",
       "      <th>Technical</th>\n",
       "    </tr>\n",
       "    <tr>\n",
       "      <th>Type</th>\n",
       "      <th></th>\n",
       "      <th></th>\n",
       "      <th></th>\n",
       "      <th></th>\n",
       "      <th></th>\n",
       "      <th></th>\n",
       "      <th></th>\n",
       "      <th></th>\n",
       "      <th></th>\n",
       "    </tr>\n",
       "  </thead>\n",
       "  <tbody>\n",
       "    <tr>\n",
       "      <th>Full-time Employee</th>\n",
       "      <td>2.0</td>\n",
       "      <td>1.0</td>\n",
       "      <td>1.0</td>\n",
       "      <td>12000.0</td>\n",
       "      <td>20000.0</td>\n",
       "      <td>8000.0</td>\n",
       "      <td>24000.0</td>\n",
       "      <td>20000.0</td>\n",
       "      <td>8000.0</td>\n",
       "    </tr>\n",
       "    <tr>\n",
       "      <th>Intern</th>\n",
       "      <td>1.0</td>\n",
       "      <td>1.0</td>\n",
       "      <td>1.0</td>\n",
       "      <td>3000.0</td>\n",
       "      <td>4000.0</td>\n",
       "      <td>6000.0</td>\n",
       "      <td>3000.0</td>\n",
       "      <td>4000.0</td>\n",
       "      <td>6000.0</td>\n",
       "    </tr>\n",
       "    <tr>\n",
       "      <th>Part-time Employee</th>\n",
       "      <td>1.0</td>\n",
       "      <td>2.0</td>\n",
       "      <td>1.0</td>\n",
       "      <td>6000.0</td>\n",
       "      <td>8750.0</td>\n",
       "      <td>10000.0</td>\n",
       "      <td>6000.0</td>\n",
       "      <td>17500.0</td>\n",
       "      <td>10000.0</td>\n",
       "    </tr>\n",
       "    <tr>\n",
       "      <th>Total</th>\n",
       "      <td>11.0</td>\n",
       "      <td>11.0</td>\n",
       "      <td>11.0</td>\n",
       "      <td>NaN</td>\n",
       "      <td>NaN</td>\n",
       "      <td>NaN</td>\n",
       "      <td>98500.0</td>\n",
       "      <td>98500.0</td>\n",
       "      <td>98500.0</td>\n",
       "    </tr>\n",
       "  </tbody>\n",
       "</table>\n",
       "</div>"
      ],
      "text/plain": [
       "                     N of Workers                              Salary  \\\n",
       "                            count                                mean   \n",
       "Department         Administration Management Technical Administration   \n",
       "Type                                                                    \n",
       "Full-time Employee            2.0        1.0       1.0        12000.0   \n",
       "Intern                        1.0        1.0       1.0         3000.0   \n",
       "Part-time Employee            1.0        2.0       1.0         6000.0   \n",
       "Total                        11.0       11.0      11.0            NaN   \n",
       "\n",
       "                                                                             \n",
       "                                                   sum                       \n",
       "Department         Management Technical Administration Management Technical  \n",
       "Type                                                                         \n",
       "Full-time Employee    20000.0    8000.0        24000.0    20000.0    8000.0  \n",
       "Intern                 4000.0    6000.0         3000.0     4000.0    6000.0  \n",
       "Part-time Employee     8750.0   10000.0         6000.0    17500.0   10000.0  \n",
       "Total                     NaN       NaN        98500.0    98500.0   98500.0  "
      ]
     },
     "execution_count": 170,
     "metadata": {},
     "output_type": "execute_result"
    }
   ],
   "source": [
    "#Wersja z \"Total\" w poziomie z pomocą gpt\n",
    "# Calculate total salary and total first name counts across all departments\n",
    "total_salary = df_employees['Salary'].sum()\n",
    "total_first_name = len(df_employees)\n",
    "\n",
    "# Add total values as a new row to the pivot table\n",
    "table.loc['Total', ('Salary', 'sum')] = total_salary\n",
    "table.loc['Total', ('N of Workers', 'count')] = total_first_name\n",
    "\n",
    "table\n"
   ]
  },
  {
   "cell_type": "markdown",
   "id": "1ed048d1",
   "metadata": {},
   "source": [
    "---\n",
    "## 6. Czas w pandas\n",
    "\n",
    "Tak jak było zapowiedziane wcześniej, na koniec wrócimy jeszcze do zagadnień związanych z czasem w pandas."
   ]
  },
  {
   "cell_type": "markdown",
   "id": "0d8fbec7",
   "metadata": {},
   "source": [
    "Pandas wprowadza trzy główne pojęcia związane z czasem:\n",
    "- Datetimes - konkretne daty i czasy wraz z informacją o strefie czasowej;\n",
    "- Timedeltas - bezwględne czasy trwania;\n",
    "- Timespans - przedziały czasowe określone poprzez czasy początkowy, końcowe, i krok czasowy.\n",
    "\n",
    "Podstawową klasą jest klasa [pandas.Timestamp](https://pandas.pydata.org/docs/reference/api/pandas.Timestamp.html#pandas.Timestamp), będąca podklasą klasy [datetime.datetime](https://docs.python.org/3/library/datetime.html#datetime.datetime) z biblioteki standardowej. Pozwala na tworzenie obiektów reprezentujących konkretną datę i czas wraz z informacją o strefie czasowej."
   ]
  },
  {
   "cell_type": "code",
   "execution_count": null,
   "id": "bcb61a3b",
   "metadata": {},
   "outputs": [],
   "source": [
    "pd.Timestamp(year=2023, month=12, day=17, hour=11)"
   ]
  },
  {
   "cell_type": "markdown",
   "id": "d6144a0a",
   "metadata": {},
   "source": [
    "Czas może być bardzo dokładny, tzn. określony z dokładnością co do nanosekundy:"
   ]
  },
  {
   "cell_type": "code",
   "execution_count": null,
   "id": "d199e6f2",
   "metadata": {},
   "outputs": [],
   "source": [
    "pd.Timestamp('2020-03-14T15:32:52.192548651', tz='UTC')"
   ]
  },
  {
   "cell_type": "markdown",
   "id": "bc18fb2f",
   "metadata": {},
   "source": [
    "Zobaczmy jak można konwertować czas z uwzględnieniem informacji o strefie czasowej:"
   ]
  },
  {
   "cell_type": "code",
   "execution_count": null,
   "id": "05b7a0a4",
   "metadata": {},
   "outputs": [],
   "source": [
    "ts = pd.Timestamp(year=2023, month=10, day=17, hour=11, tz=\"Europe/Warsaw\")\n",
    "ts"
   ]
  },
  {
   "cell_type": "markdown",
   "id": "ca242437",
   "metadata": {},
   "source": [
    "Konwersji można dokonać za pomocą metody [Timestamp.tz_convert()](https://pandas.pydata.org/docs/reference/api/pandas.Timestamp.tz_convert.html#pandas.Timestamp.tz_convert):"
   ]
  },
  {
   "cell_type": "code",
   "execution_count": null,
   "id": "88c5b600",
   "metadata": {},
   "outputs": [],
   "source": [
    "ts.tz_convert(\"US/Eastern\")"
   ]
  },
  {
   "cell_type": "markdown",
   "id": "427a76e6",
   "metadata": {},
   "source": [
    "albo [Timestamp.astimezone()](https://pandas.pydata.org/docs/reference/api/pandas.Timestamp.astimezone.html#pandas.Timestamp.astimezone):"
   ]
  },
  {
   "cell_type": "code",
   "execution_count": null,
   "id": "2724af8d",
   "metadata": {},
   "outputs": [],
   "source": [
    "ts.astimezone(\"US/Eastern\")"
   ]
  },
  {
   "cell_type": "markdown",
   "id": "d562fbb3",
   "metadata": {},
   "source": [
    "Możemy też wypisać datę i czas obiektu Timestamp w formacie POSIX, tj. w posraci czasu uniksowego, czyli liczbę sekund od początku 1970 roku [UTC](https://en.wikipedia.org/wiki/Coordinated_Universal_Time), tj. od chwili zwanej początkiem epoki Uniksa (ang. *Unix Epoch*), ale bez uwzględnienia [sekund przestępnych](https://pl.wikipedia.org/wiki/Sekunda_przest%C4%99pna):"
   ]
  },
  {
   "cell_type": "code",
   "execution_count": null,
   "id": "f72beba9",
   "metadata": {},
   "outputs": [],
   "source": [
    "ts.timestamp()"
   ]
  },
  {
   "cell_type": "markdown",
   "id": "64a0dfe8",
   "metadata": {},
   "source": [
    "Ciekawostka: możemy nawet wypisać datę i czas w postaci [dni juliańskich](https://pl.wikipedia.org/wiki/Data_julia%C5%84ska), czyli liczby dni, która upłynęła od godziny 12:00 czasu uniwersalnego (czasu południka zerowego) w dniu 1 stycznia roku 4713 p.n.e. według kalendarza juliańskiego (przedłużonego odpowiednio wstecz):"
   ]
  },
  {
   "cell_type": "code",
   "execution_count": null,
   "id": "815c200a",
   "metadata": {},
   "outputs": [],
   "source": [
    "ts.to_julian_date()"
   ]
  },
  {
   "cell_type": "markdown",
   "id": "9b31d4ee",
   "metadata": {},
   "source": [
    "Możemy odejmować obiekty klasy Timestamp jeżeli strefy czasowe obu obiektów są określone:"
   ]
  },
  {
   "cell_type": "code",
   "execution_count": null,
   "id": "96d5216f",
   "metadata": {},
   "outputs": [],
   "source": [
    "teraz = ts.today()\n",
    "print(teraz)"
   ]
  },
  {
   "cell_type": "markdown",
   "id": "5c761ce2",
   "metadata": {},
   "source": [
    "To nie zadziała:"
   ]
  },
  {
   "cell_type": "code",
   "execution_count": null,
   "id": "0b9f03c7",
   "metadata": {},
   "outputs": [],
   "source": [
    "teraz - ts"
   ]
  },
  {
   "cell_type": "markdown",
   "id": "3b711c94",
   "metadata": {},
   "source": [
    "ale teraz już tak:"
   ]
  },
  {
   "cell_type": "code",
   "execution_count": null,
   "id": "140e9a59",
   "metadata": {},
   "outputs": [],
   "source": [
    "teraz = teraz.tz_localize(tz=\"Europe/Warsaw\")\n",
    "\n",
    "dt = teraz - ts\n",
    "dt"
   ]
  },
  {
   "cell_type": "markdown",
   "id": "b0128c4f",
   "metadata": {},
   "source": [
    "W rezultacie dostajemy obiekt klasy [Timedelta](https://pandas.pydata.org/docs/reference/api/pandas.Timedelta.html). I możemy go wykorzystać np. w taki oto sposób:"
   ]
  },
  {
   "cell_type": "code",
   "execution_count": null,
   "id": "c51f5c3d",
   "metadata": {},
   "outputs": [],
   "source": [
    "pd.Timestamp('2020-03-14T15:32:52.192548651', tz='UTC') + dt"
   ]
  },
  {
   "cell_type": "code",
   "execution_count": null,
   "id": "765766d9",
   "metadata": {},
   "outputs": [],
   "source": []
  }
 ],
 "metadata": {
  "kernelspec": {
   "display_name": "Python 3 (ipykernel)",
   "language": "python",
   "name": "python3"
  },
  "language_info": {
   "codemirror_mode": {
    "name": "ipython",
    "version": 3
   },
   "file_extension": ".py",
   "mimetype": "text/x-python",
   "name": "python",
   "nbconvert_exporter": "python",
   "pygments_lexer": "ipython3",
   "version": "3.10.13"
  }
 },
 "nbformat": 4,
 "nbformat_minor": 5
}
